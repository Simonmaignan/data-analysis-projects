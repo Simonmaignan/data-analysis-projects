{
 "cells": [
  {
   "cell_type": "markdown",
   "metadata": {},
   "source": [
    "# Zenital SQL and Python Assessment\n",
    "\n",
    "## Data Gathering\n",
    "Let's read the different Excel sheets and load them into data frames"
   ]
  },
  {
   "cell_type": "code",
   "execution_count": 8,
   "metadata": {},
   "outputs": [],
   "source": [
    "import pandas as pd\n",
    "\n",
    "xlsx_file = pd.ExcelFile(\"dataset/technical-test-tables.xlsx\")"
   ]
  },
  {
   "cell_type": "markdown",
   "metadata": {},
   "source": [
    "### Messages"
   ]
  },
  {
   "cell_type": "code",
   "execution_count": 9,
   "metadata": {},
   "outputs": [
    {
     "data": {
      "text/html": [
       "<div>\n",
       "<style scoped>\n",
       "    .dataframe tbody tr th:only-of-type {\n",
       "        vertical-align: middle;\n",
       "    }\n",
       "\n",
       "    .dataframe tbody tr th {\n",
       "        vertical-align: top;\n",
       "    }\n",
       "\n",
       "    .dataframe thead th {\n",
       "        text-align: right;\n",
       "    }\n",
       "</style>\n",
       "<table border=\"1\" class=\"dataframe\">\n",
       "  <thead>\n",
       "    <tr style=\"text-align: right;\">\n",
       "      <th></th>\n",
       "      <th>sender_app_type</th>\n",
       "      <th>customer_id</th>\n",
       "      <th>from_id</th>\n",
       "      <th>to_id</th>\n",
       "      <th>chat_started_by_message</th>\n",
       "      <th>order_id</th>\n",
       "      <th>order_stage</th>\n",
       "      <th>courier_id</th>\n",
       "      <th>message_sent_time</th>\n",
       "    </tr>\n",
       "  </thead>\n",
       "  <tbody>\n",
       "    <tr>\n",
       "      <th>0</th>\n",
       "      <td>Customer IOS</td>\n",
       "      <td>99</td>\n",
       "      <td>99</td>\n",
       "      <td>21</td>\n",
       "      <td>False</td>\n",
       "      <td>555</td>\n",
       "      <td>PICKING_UP</td>\n",
       "      <td>21</td>\n",
       "      <td>2022-08-09 08:02:05</td>\n",
       "    </tr>\n",
       "    <tr>\n",
       "      <th>1</th>\n",
       "      <td>Courier IOS</td>\n",
       "      <td>99</td>\n",
       "      <td>21</td>\n",
       "      <td>99</td>\n",
       "      <td>False</td>\n",
       "      <td>555</td>\n",
       "      <td>ARRIVING</td>\n",
       "      <td>21</td>\n",
       "      <td>2022-08-09 08:01:15</td>\n",
       "    </tr>\n",
       "    <tr>\n",
       "      <th>2</th>\n",
       "      <td>Customer IOS</td>\n",
       "      <td>99</td>\n",
       "      <td>99</td>\n",
       "      <td>21</td>\n",
       "      <td>False</td>\n",
       "      <td>555</td>\n",
       "      <td>PICKING_UP</td>\n",
       "      <td>21</td>\n",
       "      <td>2022-08-09 08:00:10</td>\n",
       "    </tr>\n",
       "    <tr>\n",
       "      <th>3</th>\n",
       "      <td>Courier Android</td>\n",
       "      <td>122</td>\n",
       "      <td>87</td>\n",
       "      <td>122</td>\n",
       "      <td>True</td>\n",
       "      <td>38</td>\n",
       "      <td>ADDRESS_DELIVERY</td>\n",
       "      <td>87</td>\n",
       "      <td>2022-08-09 07:55:10</td>\n",
       "    </tr>\n",
       "    <tr>\n",
       "      <th>4</th>\n",
       "      <td>Customer Android</td>\n",
       "      <td>43</td>\n",
       "      <td>43</td>\n",
       "      <td>75</td>\n",
       "      <td>False</td>\n",
       "      <td>875</td>\n",
       "      <td>PICKING_UP</td>\n",
       "      <td>75</td>\n",
       "      <td>2022-08-07 14:55:10</td>\n",
       "    </tr>\n",
       "  </tbody>\n",
       "</table>\n",
       "</div>"
      ],
      "text/plain": [
       "    sender_app_type  customer_id  from_id  to_id  chat_started_by_message  \\\n",
       "0      Customer IOS           99       99     21                    False   \n",
       "1       Courier IOS           99       21     99                    False   \n",
       "2      Customer IOS           99       99     21                    False   \n",
       "3   Courier Android          122       87    122                     True   \n",
       "4  Customer Android           43       43     75                    False   \n",
       "\n",
       "   order_id       order_stage  courier_id   message_sent_time  \n",
       "0       555        PICKING_UP          21 2022-08-09 08:02:05  \n",
       "1       555          ARRIVING          21 2022-08-09 08:01:15  \n",
       "2       555        PICKING_UP          21 2022-08-09 08:00:10  \n",
       "3        38  ADDRESS_DELIVERY          87 2022-08-09 07:55:10  \n",
       "4       875        PICKING_UP          75 2022-08-07 14:55:10  "
      ]
     },
     "execution_count": 9,
     "metadata": {},
     "output_type": "execute_result"
    }
   ],
   "source": [
    "messages_df = pd.read_excel(\n",
    "    xlsx_file, sheet_name=\"customer_courier_chat_messages \"\n",
    ")\n",
    "messages_df.head()"
   ]
  },
  {
   "cell_type": "code",
   "execution_count": 10,
   "metadata": {},
   "outputs": [
    {
     "name": "stdout",
     "output_type": "stream",
     "text": [
      "<class 'pandas.core.frame.DataFrame'>\n",
      "RangeIndex: 11 entries, 0 to 10\n",
      "Data columns (total 9 columns):\n",
      " #   Column                   Non-Null Count  Dtype         \n",
      "---  ------                   --------------  -----         \n",
      " 0   sender_app_type          11 non-null     object        \n",
      " 1   customer_id              11 non-null     int64         \n",
      " 2   from_id                  11 non-null     int64         \n",
      " 3   to_id                    11 non-null     int64         \n",
      " 4   chat_started_by_message  11 non-null     bool          \n",
      " 5   order_id                 11 non-null     int64         \n",
      " 6   order_stage              11 non-null     object        \n",
      " 7   courier_id               11 non-null     int64         \n",
      " 8   message_sent_time        11 non-null     datetime64[ns]\n",
      "dtypes: bool(1), datetime64[ns](1), int64(5), object(2)\n",
      "memory usage: 847.0+ bytes\n"
     ]
    }
   ],
   "source": [
    "messages_df.info()"
   ]
  },
  {
   "cell_type": "code",
   "execution_count": 11,
   "metadata": {},
   "outputs": [
    {
     "data": {
      "text/html": [
       "<div>\n",
       "<style scoped>\n",
       "    .dataframe tbody tr th:only-of-type {\n",
       "        vertical-align: middle;\n",
       "    }\n",
       "\n",
       "    .dataframe tbody tr th {\n",
       "        vertical-align: top;\n",
       "    }\n",
       "\n",
       "    .dataframe thead th {\n",
       "        text-align: right;\n",
       "    }\n",
       "</style>\n",
       "<table border=\"1\" class=\"dataframe\">\n",
       "  <thead>\n",
       "    <tr style=\"text-align: right;\">\n",
       "      <th></th>\n",
       "      <th>order_id</th>\n",
       "      <th>city_code</th>\n",
       "    </tr>\n",
       "  </thead>\n",
       "  <tbody>\n",
       "    <tr>\n",
       "      <th>0</th>\n",
       "      <td>38</td>\n",
       "      <td>BCN</td>\n",
       "    </tr>\n",
       "    <tr>\n",
       "      <th>1</th>\n",
       "      <td>134</td>\n",
       "      <td>OPO</td>\n",
       "    </tr>\n",
       "    <tr>\n",
       "      <th>2</th>\n",
       "      <td>555</td>\n",
       "      <td>BCN</td>\n",
       "    </tr>\n",
       "    <tr>\n",
       "      <th>3</th>\n",
       "      <td>875</td>\n",
       "      <td>VAL</td>\n",
       "    </tr>\n",
       "  </tbody>\n",
       "</table>\n",
       "</div>"
      ],
      "text/plain": [
       "   order_id city_code\n",
       "0        38       BCN\n",
       "1       134       OPO\n",
       "2       555       BCN\n",
       "3       875       VAL"
      ]
     },
     "execution_count": 11,
     "metadata": {},
     "output_type": "execute_result"
    }
   ],
   "source": [
    "orders_df = pd.read_excel(xlsx_file, sheet_name=\"orders\")\n",
    "orders_df"
   ]
  },
  {
   "cell_type": "code",
   "execution_count": 12,
   "metadata": {},
   "outputs": [
    {
     "name": "stdout",
     "output_type": "stream",
     "text": [
      "<class 'pandas.core.frame.DataFrame'>\n",
      "RangeIndex: 4 entries, 0 to 3\n",
      "Data columns (total 2 columns):\n",
      " #   Column     Non-Null Count  Dtype \n",
      "---  ------     --------------  ----- \n",
      " 0   order_id   4 non-null      int64 \n",
      " 1   city_code  4 non-null      object\n",
      "dtypes: int64(1), object(1)\n",
      "memory usage: 196.0+ bytes\n"
     ]
    }
   ],
   "source": [
    "orders_df.info()"
   ]
  },
  {
   "cell_type": "markdown",
   "metadata": {},
   "source": [
    "## Data Cleaning\n",
    "The data frames are already cleaned and can be exported to the SQL data base as they are.\n",
    "\n",
    "## Export to SQL DB"
   ]
  },
  {
   "cell_type": "code",
   "execution_count": 14,
   "metadata": {},
   "outputs": [
    {
     "data": {
      "text/plain": [
       "4"
      ]
     },
     "execution_count": 14,
     "metadata": {},
     "output_type": "execute_result"
    }
   ],
   "source": [
    "import sqlite3\n",
    "\n",
    "cnx = sqlite3.connect(\"dataset/customer-courier.db\")\n",
    "messages_df.to_sql(\n",
    "    name=\"customer_courier_chat_messages\", con=cnx, if_exists=\"replace\"\n",
    ")\n",
    "orders_df.to_sql(name=\"orders\", con=cnx, if_exists=\"replace\")"
   ]
  },
  {
   "cell_type": "code",
   "execution_count": null,
   "metadata": {},
   "outputs": [],
   "source": []
  }
 ],
 "metadata": {
  "kernelspec": {
   "display_name": "data_analysis",
   "language": "python",
   "name": "python3"
  },
  "language_info": {
   "codemirror_mode": {
    "name": "ipython",
    "version": 3
   },
   "file_extension": ".py",
   "mimetype": "text/x-python",
   "name": "python",
   "nbconvert_exporter": "python",
   "pygments_lexer": "ipython3",
   "version": "3.12.5"
  }
 },
 "nbformat": 4,
 "nbformat_minor": 2
}
