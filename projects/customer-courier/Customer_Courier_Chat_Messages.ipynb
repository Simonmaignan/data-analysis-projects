{
 "cells": [
  {
   "cell_type": "markdown",
   "metadata": {},
   "source": [
    "# Zenital SQL and Python Assessment\n",
    "\n",
    "## Data Gathering\n",
    "Let's read the different Excel sheets and load them into data frames"
   ]
  },
  {
   "cell_type": "code",
   "execution_count": 1,
   "metadata": {},
   "outputs": [],
   "source": [
    "import pandas as pd\n",
    "import numpy as np\n",
    "\n",
    "xlsx_file = pd.ExcelFile(\"dataset/technical-test-tables.xlsx\")"
   ]
  },
  {
   "cell_type": "markdown",
   "metadata": {},
   "source": [
    "### Messages"
   ]
  },
  {
   "cell_type": "code",
   "execution_count": 2,
   "metadata": {},
   "outputs": [
    {
     "data": {
      "text/html": [
       "<div>\n",
       "<style scoped>\n",
       "    .dataframe tbody tr th:only-of-type {\n",
       "        vertical-align: middle;\n",
       "    }\n",
       "\n",
       "    .dataframe tbody tr th {\n",
       "        vertical-align: top;\n",
       "    }\n",
       "\n",
       "    .dataframe thead th {\n",
       "        text-align: right;\n",
       "    }\n",
       "</style>\n",
       "<table border=\"1\" class=\"dataframe\">\n",
       "  <thead>\n",
       "    <tr style=\"text-align: right;\">\n",
       "      <th></th>\n",
       "      <th>sender_app_type</th>\n",
       "      <th>customer_id</th>\n",
       "      <th>from_id</th>\n",
       "      <th>to_id</th>\n",
       "      <th>chat_started_by_message</th>\n",
       "      <th>order_id</th>\n",
       "      <th>order_stage</th>\n",
       "      <th>courier_id</th>\n",
       "      <th>message_sent_time</th>\n",
       "    </tr>\n",
       "  </thead>\n",
       "  <tbody>\n",
       "    <tr>\n",
       "      <th>0</th>\n",
       "      <td>Customer IOS</td>\n",
       "      <td>99</td>\n",
       "      <td>99</td>\n",
       "      <td>21</td>\n",
       "      <td>False</td>\n",
       "      <td>555</td>\n",
       "      <td>PICKING_UP</td>\n",
       "      <td>21</td>\n",
       "      <td>2022-08-09 08:02:05</td>\n",
       "    </tr>\n",
       "    <tr>\n",
       "      <th>1</th>\n",
       "      <td>Courier IOS</td>\n",
       "      <td>99</td>\n",
       "      <td>21</td>\n",
       "      <td>99</td>\n",
       "      <td>False</td>\n",
       "      <td>555</td>\n",
       "      <td>ARRIVING</td>\n",
       "      <td>21</td>\n",
       "      <td>2022-08-09 08:01:15</td>\n",
       "    </tr>\n",
       "    <tr>\n",
       "      <th>2</th>\n",
       "      <td>Customer IOS</td>\n",
       "      <td>99</td>\n",
       "      <td>99</td>\n",
       "      <td>21</td>\n",
       "      <td>False</td>\n",
       "      <td>555</td>\n",
       "      <td>PICKING_UP</td>\n",
       "      <td>21</td>\n",
       "      <td>2022-08-09 08:00:10</td>\n",
       "    </tr>\n",
       "    <tr>\n",
       "      <th>3</th>\n",
       "      <td>Courier Android</td>\n",
       "      <td>122</td>\n",
       "      <td>87</td>\n",
       "      <td>122</td>\n",
       "      <td>True</td>\n",
       "      <td>38</td>\n",
       "      <td>ADDRESS_DELIVERY</td>\n",
       "      <td>87</td>\n",
       "      <td>2022-08-09 07:55:10</td>\n",
       "    </tr>\n",
       "    <tr>\n",
       "      <th>4</th>\n",
       "      <td>Customer Android</td>\n",
       "      <td>43</td>\n",
       "      <td>43</td>\n",
       "      <td>75</td>\n",
       "      <td>False</td>\n",
       "      <td>875</td>\n",
       "      <td>PICKING_UP</td>\n",
       "      <td>75</td>\n",
       "      <td>2022-08-07 14:55:10</td>\n",
       "    </tr>\n",
       "  </tbody>\n",
       "</table>\n",
       "</div>"
      ],
      "text/plain": [
       "    sender_app_type  customer_id  from_id  to_id  chat_started_by_message  \\\n",
       "0      Customer IOS           99       99     21                    False   \n",
       "1       Courier IOS           99       21     99                    False   \n",
       "2      Customer IOS           99       99     21                    False   \n",
       "3   Courier Android          122       87    122                     True   \n",
       "4  Customer Android           43       43     75                    False   \n",
       "\n",
       "   order_id       order_stage  courier_id   message_sent_time  \n",
       "0       555        PICKING_UP          21 2022-08-09 08:02:05  \n",
       "1       555          ARRIVING          21 2022-08-09 08:01:15  \n",
       "2       555        PICKING_UP          21 2022-08-09 08:00:10  \n",
       "3        38  ADDRESS_DELIVERY          87 2022-08-09 07:55:10  \n",
       "4       875        PICKING_UP          75 2022-08-07 14:55:10  "
      ]
     },
     "execution_count": 2,
     "metadata": {},
     "output_type": "execute_result"
    }
   ],
   "source": [
    "messages_df = pd.read_excel(\n",
    "    xlsx_file, sheet_name=\"customer_courier_chat_messages \"\n",
    ")\n",
    "messages_df.head()"
   ]
  },
  {
   "cell_type": "code",
   "execution_count": 3,
   "metadata": {},
   "outputs": [
    {
     "name": "stdout",
     "output_type": "stream",
     "text": [
      "<class 'pandas.core.frame.DataFrame'>\n",
      "RangeIndex: 11 entries, 0 to 10\n",
      "Data columns (total 9 columns):\n",
      " #   Column                   Non-Null Count  Dtype         \n",
      "---  ------                   --------------  -----         \n",
      " 0   sender_app_type          11 non-null     object        \n",
      " 1   customer_id              11 non-null     int64         \n",
      " 2   from_id                  11 non-null     int64         \n",
      " 3   to_id                    11 non-null     int64         \n",
      " 4   chat_started_by_message  11 non-null     bool          \n",
      " 5   order_id                 11 non-null     int64         \n",
      " 6   order_stage              11 non-null     object        \n",
      " 7   courier_id               11 non-null     int64         \n",
      " 8   message_sent_time        11 non-null     datetime64[ns]\n",
      "dtypes: bool(1), datetime64[ns](1), int64(5), object(2)\n",
      "memory usage: 847.0+ bytes\n"
     ]
    }
   ],
   "source": [
    "messages_df.info()"
   ]
  },
  {
   "cell_type": "code",
   "execution_count": 4,
   "metadata": {},
   "outputs": [
    {
     "data": {
      "text/html": [
       "<div>\n",
       "<style scoped>\n",
       "    .dataframe tbody tr th:only-of-type {\n",
       "        vertical-align: middle;\n",
       "    }\n",
       "\n",
       "    .dataframe tbody tr th {\n",
       "        vertical-align: top;\n",
       "    }\n",
       "\n",
       "    .dataframe thead th {\n",
       "        text-align: right;\n",
       "    }\n",
       "</style>\n",
       "<table border=\"1\" class=\"dataframe\">\n",
       "  <thead>\n",
       "    <tr style=\"text-align: right;\">\n",
       "      <th></th>\n",
       "      <th>order_id</th>\n",
       "      <th>city_code</th>\n",
       "    </tr>\n",
       "  </thead>\n",
       "  <tbody>\n",
       "    <tr>\n",
       "      <th>0</th>\n",
       "      <td>38</td>\n",
       "      <td>BCN</td>\n",
       "    </tr>\n",
       "    <tr>\n",
       "      <th>1</th>\n",
       "      <td>134</td>\n",
       "      <td>OPO</td>\n",
       "    </tr>\n",
       "    <tr>\n",
       "      <th>2</th>\n",
       "      <td>555</td>\n",
       "      <td>BCN</td>\n",
       "    </tr>\n",
       "    <tr>\n",
       "      <th>3</th>\n",
       "      <td>875</td>\n",
       "      <td>VAL</td>\n",
       "    </tr>\n",
       "  </tbody>\n",
       "</table>\n",
       "</div>"
      ],
      "text/plain": [
       "   order_id city_code\n",
       "0        38       BCN\n",
       "1       134       OPO\n",
       "2       555       BCN\n",
       "3       875       VAL"
      ]
     },
     "execution_count": 4,
     "metadata": {},
     "output_type": "execute_result"
    }
   ],
   "source": [
    "orders_df = pd.read_excel(xlsx_file, sheet_name=\"orders\")\n",
    "orders_df"
   ]
  },
  {
   "cell_type": "code",
   "execution_count": 5,
   "metadata": {},
   "outputs": [
    {
     "name": "stdout",
     "output_type": "stream",
     "text": [
      "<class 'pandas.core.frame.DataFrame'>\n",
      "RangeIndex: 4 entries, 0 to 3\n",
      "Data columns (total 2 columns):\n",
      " #   Column     Non-Null Count  Dtype \n",
      "---  ------     --------------  ----- \n",
      " 0   order_id   4 non-null      int64 \n",
      " 1   city_code  4 non-null      object\n",
      "dtypes: int64(1), object(1)\n",
      "memory usage: 196.0+ bytes\n"
     ]
    }
   ],
   "source": [
    "orders_df.info()"
   ]
  },
  {
   "cell_type": "markdown",
   "metadata": {},
   "source": [
    "## Data Cleaning\n",
    "The data frames are already cleaned and can be exported to the SQL data base as they are.\n",
    "\n",
    "## Export to SQL DB"
   ]
  },
  {
   "cell_type": "code",
   "execution_count": 6,
   "metadata": {},
   "outputs": [
    {
     "data": {
      "text/plain": [
       "4"
      ]
     },
     "execution_count": 6,
     "metadata": {},
     "output_type": "execute_result"
    }
   ],
   "source": [
    "import sqlite3\n",
    "\n",
    "cnx = sqlite3.connect(\"dataset/customer-courier.db\")\n",
    "messages_df.to_sql(\n",
    "    name=\"customer_courier_chat_messages\", con=cnx, if_exists=\"replace\"\n",
    ")\n",
    "orders_df.to_sql(name=\"orders\", con=cnx, if_exists=\"replace\")"
   ]
  },
  {
   "cell_type": "markdown",
   "metadata": {},
   "source": [
    "## Data Transformation\n",
    "In this part I'll create a new data from the 2 gathered ones above frame containing the following fields\n",
    "1. order_id\n",
    "2. city_code\n",
    "3. first_courier_message: Timestamp of the first courier message\n",
    "4. first_customer_message: Timestamp of the first customer\n",
    "message\n",
    "5. num_messages_courier: Number of messages sent by courier\n",
    "6. num_messages_customer: Number of messages sent by\n",
    "customer\n",
    "7. first_message_by: The first message sender (courier or customer)\n",
    "8. conversation_started_at: Timestamp of the first message in the\n",
    "conversation\n",
    "9. first_responsetime_delay_seconds: Time (in secs) elapsed until\n",
    "the first message was responded\n",
    "10. last_message_time: Timestamp of the last message sent\n",
    "\n",
    "11. last_message_order_stage: The stage of the order when the last\n",
    "message was sent"
   ]
  },
  {
   "cell_type": "code",
   "execution_count": 15,
   "metadata": {},
   "outputs": [
    {
     "data": {
      "text/html": [
       "<div>\n",
       "<style scoped>\n",
       "    .dataframe tbody tr th:only-of-type {\n",
       "        vertical-align: middle;\n",
       "    }\n",
       "\n",
       "    .dataframe tbody tr th {\n",
       "        vertical-align: top;\n",
       "    }\n",
       "\n",
       "    .dataframe thead th {\n",
       "        text-align: right;\n",
       "    }\n",
       "</style>\n",
       "<table border=\"1\" class=\"dataframe\">\n",
       "  <thead>\n",
       "    <tr style=\"text-align: right;\">\n",
       "      <th></th>\n",
       "      <th>order_id</th>\n",
       "      <th>first_message_time</th>\n",
       "      <th>initiator_id</th>\n",
       "    </tr>\n",
       "  </thead>\n",
       "  <tbody>\n",
       "    <tr>\n",
       "      <th>3</th>\n",
       "      <td>38</td>\n",
       "      <td>2022-08-09 07:55:10</td>\n",
       "      <td>87</td>\n",
       "    </tr>\n",
       "    <tr>\n",
       "      <th>10</th>\n",
       "      <td>134</td>\n",
       "      <td>2022-08-07 10:00:10</td>\n",
       "      <td>23</td>\n",
       "    </tr>\n",
       "    <tr>\n",
       "      <th>2</th>\n",
       "      <td>555</td>\n",
       "      <td>2022-08-09 08:00:10</td>\n",
       "      <td>99</td>\n",
       "    </tr>\n",
       "    <tr>\n",
       "      <th>7</th>\n",
       "      <td>875</td>\n",
       "      <td>2022-08-07 14:50:10</td>\n",
       "      <td>75</td>\n",
       "    </tr>\n",
       "  </tbody>\n",
       "</table>\n",
       "</div>"
      ],
      "text/plain": [
       "    order_id  first_message_time  initiator_id\n",
       "3         38 2022-08-09 07:55:10            87\n",
       "10       134 2022-08-07 10:00:10            23\n",
       "2        555 2022-08-09 08:00:10            99\n",
       "7        875 2022-08-07 14:50:10            75"
      ]
     },
     "execution_count": 15,
     "metadata": {},
     "output_type": "execute_result"
    }
   ],
   "source": [
    "initial_message_df = messages_df.loc[\n",
    "    messages_df.groupby(by=\"order_id\")[\"message_sent_time\"].idxmin()\n",
    "]\n",
    "initial_message_df = initial_message_df[\n",
    "    [\"order_id\", \"message_sent_time\", \"from_id\"]\n",
    "]\n",
    "initial_message_df.rename(\n",
    "    columns={\n",
    "        \"message_sent_time\": \"first_message_time\",\n",
    "        \"from_id\": \"initiator_id\",\n",
    "    },\n",
    "    inplace=True,\n",
    ")\n",
    "initial_message_df.head()"
   ]
  },
  {
   "cell_type": "code",
   "execution_count": 16,
   "metadata": {},
   "outputs": [
    {
     "data": {
      "text/html": [
       "<div>\n",
       "<style scoped>\n",
       "    .dataframe tbody tr th:only-of-type {\n",
       "        vertical-align: middle;\n",
       "    }\n",
       "\n",
       "    .dataframe tbody tr th {\n",
       "        vertical-align: top;\n",
       "    }\n",
       "\n",
       "    .dataframe thead th {\n",
       "        text-align: right;\n",
       "    }\n",
       "</style>\n",
       "<table border=\"1\" class=\"dataframe\">\n",
       "  <thead>\n",
       "    <tr style=\"text-align: right;\">\n",
       "      <th></th>\n",
       "      <th>order_id</th>\n",
       "      <th>last_message_time</th>\n",
       "      <th>last_order_stage</th>\n",
       "    </tr>\n",
       "  </thead>\n",
       "  <tbody>\n",
       "    <tr>\n",
       "      <th>3</th>\n",
       "      <td>38</td>\n",
       "      <td>2022-08-09 07:55:10</td>\n",
       "      <td>ADDRESS_DELIVERY</td>\n",
       "    </tr>\n",
       "    <tr>\n",
       "      <th>8</th>\n",
       "      <td>134</td>\n",
       "      <td>2022-08-07 10:02:05</td>\n",
       "      <td>PICKING_UP</td>\n",
       "    </tr>\n",
       "    <tr>\n",
       "      <th>0</th>\n",
       "      <td>555</td>\n",
       "      <td>2022-08-09 08:02:05</td>\n",
       "      <td>PICKING_UP</td>\n",
       "    </tr>\n",
       "    <tr>\n",
       "      <th>4</th>\n",
       "      <td>875</td>\n",
       "      <td>2022-08-07 14:55:10</td>\n",
       "      <td>PICKING_UP</td>\n",
       "    </tr>\n",
       "  </tbody>\n",
       "</table>\n",
       "</div>"
      ],
      "text/plain": [
       "   order_id   last_message_time  last_order_stage\n",
       "3        38 2022-08-09 07:55:10  ADDRESS_DELIVERY\n",
       "8       134 2022-08-07 10:02:05        PICKING_UP\n",
       "0       555 2022-08-09 08:02:05        PICKING_UP\n",
       "4       875 2022-08-07 14:55:10        PICKING_UP"
      ]
     },
     "execution_count": 16,
     "metadata": {},
     "output_type": "execute_result"
    }
   ],
   "source": [
    "last_message_df = messages_df.loc[\n",
    "    messages_df.groupby(by=\"order_id\")[\"message_sent_time\"].idxmax()\n",
    "]\n",
    "last_message_df = last_message_df[\n",
    "    [\"order_id\", \"message_sent_time\", \"order_stage\"]\n",
    "]\n",
    "last_message_df.rename(\n",
    "    columns={\n",
    "        \"message_sent_time\": \"last_message_time\",\n",
    "        \"order_stage\": \"last_order_stage\",\n",
    "    },\n",
    "    inplace=True,\n",
    ")\n",
    "last_message_df.head()"
   ]
  }
 ],
 "metadata": {
  "kernelspec": {
   "display_name": "data_analysis",
   "language": "python",
   "name": "python3"
  },
  "language_info": {
   "codemirror_mode": {
    "name": "ipython",
    "version": 3
   },
   "file_extension": ".py",
   "mimetype": "text/x-python",
   "name": "python",
   "nbconvert_exporter": "python",
   "pygments_lexer": "ipython3",
   "version": "3.12.5"
  }
 },
 "nbformat": 4,
 "nbformat_minor": 2
}
