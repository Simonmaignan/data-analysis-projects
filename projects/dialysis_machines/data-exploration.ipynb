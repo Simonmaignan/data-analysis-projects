{
 "cells": [
  {
   "cell_type": "markdown",
   "metadata": {},
   "source": [
    "# Dialysis machines\n",
    "This Notebook makes an exploratory analysis the datasets found under `./dataset`\n",
    "\n",
    "## Data Gathering\n",
    "Load the local parquet files inside a Pandas `DataFrame`.\n",
    "\n",
    "### Machine 1"
   ]
  },
  {
   "cell_type": "code",
   "execution_count": 1,
   "metadata": {},
   "outputs": [
    {
     "name": "stdout",
     "output_type": "stream",
     "text": [
      "The machine 1 data set has 3832 records with 7 variables.\n"
     ]
    },
    {
     "data": {
      "text/html": [
       "<div>\n",
       "<style scoped>\n",
       "    .dataframe tbody tr th:only-of-type {\n",
       "        vertical-align: middle;\n",
       "    }\n",
       "\n",
       "    .dataframe tbody tr th {\n",
       "        vertical-align: top;\n",
       "    }\n",
       "\n",
       "    .dataframe thead th {\n",
       "        text-align: right;\n",
       "    }\n",
       "</style>\n",
       "<table border=\"1\" class=\"dataframe\">\n",
       "  <thead>\n",
       "    <tr style=\"text-align: right;\">\n",
       "      <th></th>\n",
       "      <th>machine_id</th>\n",
       "      <th>date</th>\n",
       "      <th>num_treatments</th>\n",
       "      <th>hours_of_operation</th>\n",
       "      <th>alarms</th>\n",
       "      <th>num_warnings</th>\n",
       "      <th>sensor_data</th>\n",
       "    </tr>\n",
       "  </thead>\n",
       "  <tbody>\n",
       "    <tr>\n",
       "      <th>0</th>\n",
       "      <td>Machine_1</td>\n",
       "      <td>2023-06-01 09:46:28.611018</td>\n",
       "      <td>1</td>\n",
       "      <td>1.561568</td>\n",
       "      <td>None</td>\n",
       "      <td>0</td>\n",
       "      <td>0.747587</td>\n",
       "    </tr>\n",
       "    <tr>\n",
       "      <th>1</th>\n",
       "      <td>Machine_1</td>\n",
       "      <td>2023-06-02 09:46:28.611018</td>\n",
       "      <td>9</td>\n",
       "      <td>11.670001</td>\n",
       "      <td>None</td>\n",
       "      <td>0</td>\n",
       "      <td>0.725209</td>\n",
       "    </tr>\n",
       "    <tr>\n",
       "      <th>2</th>\n",
       "      <td>Machine_1</td>\n",
       "      <td>2023-06-03 09:46:28.611018</td>\n",
       "      <td>4</td>\n",
       "      <td>6.345075</td>\n",
       "      <td>High Temperature</td>\n",
       "      <td>1</td>\n",
       "      <td>0.773772</td>\n",
       "    </tr>\n",
       "    <tr>\n",
       "      <th>3</th>\n",
       "      <td>Machine_1</td>\n",
       "      <td>2023-06-04 09:46:28.611018</td>\n",
       "      <td>5</td>\n",
       "      <td>8.521391</td>\n",
       "      <td>None</td>\n",
       "      <td>0</td>\n",
       "      <td>0.728383</td>\n",
       "    </tr>\n",
       "    <tr>\n",
       "      <th>4</th>\n",
       "      <td>Machine_1</td>\n",
       "      <td>2023-06-05 09:46:28.611018</td>\n",
       "      <td>2</td>\n",
       "      <td>2.893482</td>\n",
       "      <td>None</td>\n",
       "      <td>0</td>\n",
       "      <td>0.780066</td>\n",
       "    </tr>\n",
       "  </tbody>\n",
       "</table>\n",
       "</div>"
      ],
      "text/plain": [
       "  machine_id                       date  num_treatments  hours_of_operation  \\\n",
       "0  Machine_1 2023-06-01 09:46:28.611018               1            1.561568   \n",
       "1  Machine_1 2023-06-02 09:46:28.611018               9           11.670001   \n",
       "2  Machine_1 2023-06-03 09:46:28.611018               4            6.345075   \n",
       "3  Machine_1 2023-06-04 09:46:28.611018               5            8.521391   \n",
       "4  Machine_1 2023-06-05 09:46:28.611018               2            2.893482   \n",
       "\n",
       "             alarms  num_warnings  sensor_data  \n",
       "0              None             0     0.747587  \n",
       "1              None             0     0.725209  \n",
       "2  High Temperature             1     0.773772  \n",
       "3              None             0     0.728383  \n",
       "4              None             0     0.780066  "
      ]
     },
     "execution_count": 1,
     "metadata": {},
     "output_type": "execute_result"
    }
   ],
   "source": [
    "import pandas as pd\n",
    "\n",
    "df_machine_data_1 = pd.read_parquet(\"dataset/machine_data_1.parquet\")\n",
    "print(\n",
    "    f\"The machine 1 data set has {len(df_machine_data_1)} records with {df_machine_data_1.shape[1]} variables.\"\n",
    ")\n",
    "df_machine_data_1.head()"
   ]
  },
  {
   "cell_type": "code",
   "execution_count": 2,
   "metadata": {},
   "outputs": [
    {
     "name": "stdout",
     "output_type": "stream",
     "text": [
      "<class 'pandas.core.frame.DataFrame'>\n",
      "Index: 3832 entries, 0 to 2015\n",
      "Data columns (total 7 columns):\n",
      " #   Column              Non-Null Count  Dtype         \n",
      "---  ------              --------------  -----         \n",
      " 0   machine_id          3832 non-null   object        \n",
      " 1   date                3832 non-null   datetime64[ns]\n",
      " 2   num_treatments      3832 non-null   int64         \n",
      " 3   hours_of_operation  3832 non-null   float64       \n",
      " 4   alarms              212 non-null    object        \n",
      " 5   num_warnings        3832 non-null   int64         \n",
      " 6   sensor_data         3832 non-null   float64       \n",
      "dtypes: datetime64[ns](1), float64(2), int64(2), object(2)\n",
      "memory usage: 239.5+ KB\n"
     ]
    }
   ],
   "source": [
    "df_machine_data_1.info()"
   ]
  },
  {
   "cell_type": "code",
   "execution_count": 3,
   "metadata": {},
   "outputs": [
    {
     "data": {
      "text/html": [
       "<div>\n",
       "<style scoped>\n",
       "    .dataframe tbody tr th:only-of-type {\n",
       "        vertical-align: middle;\n",
       "    }\n",
       "\n",
       "    .dataframe tbody tr th {\n",
       "        vertical-align: top;\n",
       "    }\n",
       "\n",
       "    .dataframe thead th {\n",
       "        text-align: right;\n",
       "    }\n",
       "</style>\n",
       "<table border=\"1\" class=\"dataframe\">\n",
       "  <thead>\n",
       "    <tr style=\"text-align: right;\">\n",
       "      <th></th>\n",
       "      <th>date</th>\n",
       "      <th>num_treatments</th>\n",
       "      <th>hours_of_operation</th>\n",
       "      <th>num_warnings</th>\n",
       "      <th>sensor_data</th>\n",
       "    </tr>\n",
       "  </thead>\n",
       "  <tbody>\n",
       "    <tr>\n",
       "      <th>count</th>\n",
       "      <td>3832</td>\n",
       "      <td>3832.000000</td>\n",
       "      <td>3832.000000</td>\n",
       "      <td>3832.000000</td>\n",
       "      <td>3832.000000</td>\n",
       "    </tr>\n",
       "    <tr>\n",
       "      <th>mean</th>\n",
       "      <td>2023-11-30 13:04:53.412688640</td>\n",
       "      <td>5.015919</td>\n",
       "      <td>7.550483</td>\n",
       "      <td>0.084812</td>\n",
       "      <td>0.749067</td>\n",
       "    </tr>\n",
       "    <tr>\n",
       "      <th>min</th>\n",
       "      <td>2023-06-01 09:46:28.611018</td>\n",
       "      <td>0.000000</td>\n",
       "      <td>0.000000</td>\n",
       "      <td>0.000000</td>\n",
       "      <td>0.650922</td>\n",
       "    </tr>\n",
       "    <tr>\n",
       "      <th>25%</th>\n",
       "      <td>2023-08-31 09:46:28.611017984</td>\n",
       "      <td>2.000000</td>\n",
       "      <td>3.422165</td>\n",
       "      <td>0.000000</td>\n",
       "      <td>0.724079</td>\n",
       "    </tr>\n",
       "    <tr>\n",
       "      <th>50%</th>\n",
       "      <td>2023-11-30 09:46:28.611017984</td>\n",
       "      <td>5.000000</td>\n",
       "      <td>7.263182</td>\n",
       "      <td>0.000000</td>\n",
       "      <td>0.748959</td>\n",
       "    </tr>\n",
       "    <tr>\n",
       "      <th>75%</th>\n",
       "      <td>2024-02-29 09:46:28.611017984</td>\n",
       "      <td>8.000000</td>\n",
       "      <td>11.254956</td>\n",
       "      <td>0.000000</td>\n",
       "      <td>0.773948</td>\n",
       "    </tr>\n",
       "    <tr>\n",
       "      <th>max</th>\n",
       "      <td>2024-05-30 09:46:28.611018</td>\n",
       "      <td>10.000000</td>\n",
       "      <td>19.986752</td>\n",
       "      <td>3.000000</td>\n",
       "      <td>0.849826</td>\n",
       "    </tr>\n",
       "    <tr>\n",
       "      <th>std</th>\n",
       "      <td>NaN</td>\n",
       "      <td>3.114789</td>\n",
       "      <td>4.989390</td>\n",
       "      <td>0.437547</td>\n",
       "      <td>0.030140</td>\n",
       "    </tr>\n",
       "  </tbody>\n",
       "</table>\n",
       "</div>"
      ],
      "text/plain": [
       "                                date  num_treatments  hours_of_operation  \\\n",
       "count                           3832     3832.000000         3832.000000   \n",
       "mean   2023-11-30 13:04:53.412688640        5.015919            7.550483   \n",
       "min       2023-06-01 09:46:28.611018        0.000000            0.000000   \n",
       "25%    2023-08-31 09:46:28.611017984        2.000000            3.422165   \n",
       "50%    2023-11-30 09:46:28.611017984        5.000000            7.263182   \n",
       "75%    2024-02-29 09:46:28.611017984        8.000000           11.254956   \n",
       "max       2024-05-30 09:46:28.611018       10.000000           19.986752   \n",
       "std                              NaN        3.114789            4.989390   \n",
       "\n",
       "       num_warnings  sensor_data  \n",
       "count   3832.000000  3832.000000  \n",
       "mean       0.084812     0.749067  \n",
       "min        0.000000     0.650922  \n",
       "25%        0.000000     0.724079  \n",
       "50%        0.000000     0.748959  \n",
       "75%        0.000000     0.773948  \n",
       "max        3.000000     0.849826  \n",
       "std        0.437547     0.030140  "
      ]
     },
     "execution_count": 3,
     "metadata": {},
     "output_type": "execute_result"
    }
   ],
   "source": [
    "df_machine_data_1.describe()"
   ]
  },
  {
   "cell_type": "markdown",
   "metadata": {},
   "source": [
    "### Machine 2"
   ]
  },
  {
   "cell_type": "code",
   "execution_count": 4,
   "metadata": {},
   "outputs": [
    {
     "name": "stdout",
     "output_type": "stream",
     "text": [
      "The machine 2 data set has 3832 records with 7 variables.\n"
     ]
    },
    {
     "data": {
      "text/html": [
       "<div>\n",
       "<style scoped>\n",
       "    .dataframe tbody tr th:only-of-type {\n",
       "        vertical-align: middle;\n",
       "    }\n",
       "\n",
       "    .dataframe tbody tr th {\n",
       "        vertical-align: top;\n",
       "    }\n",
       "\n",
       "    .dataframe thead th {\n",
       "        text-align: right;\n",
       "    }\n",
       "</style>\n",
       "<table border=\"1\" class=\"dataframe\">\n",
       "  <thead>\n",
       "    <tr style=\"text-align: right;\">\n",
       "      <th></th>\n",
       "      <th>machine_id</th>\n",
       "      <th>date</th>\n",
       "      <th>num_treatments</th>\n",
       "      <th>hours_of_operation</th>\n",
       "      <th>alarms</th>\n",
       "      <th>num_warnings</th>\n",
       "      <th>sensor_data</th>\n",
       "    </tr>\n",
       "  </thead>\n",
       "  <tbody>\n",
       "    <tr>\n",
       "      <th>0</th>\n",
       "      <td>Machine_1</td>\n",
       "      <td>2023-06-01 09:46:28.611018</td>\n",
       "      <td>10</td>\n",
       "      <td>16.739101</td>\n",
       "      <td>None</td>\n",
       "      <td>0</td>\n",
       "      <td>0.760686</td>\n",
       "    </tr>\n",
       "    <tr>\n",
       "      <th>1</th>\n",
       "      <td>Machine_1</td>\n",
       "      <td>2023-06-02 09:46:28.611018</td>\n",
       "      <td>9</td>\n",
       "      <td>15.811422</td>\n",
       "      <td>None</td>\n",
       "      <td>0</td>\n",
       "      <td>0.768058</td>\n",
       "    </tr>\n",
       "    <tr>\n",
       "      <th>2</th>\n",
       "      <td>Machine_1</td>\n",
       "      <td>2023-06-03 09:46:28.611018</td>\n",
       "      <td>9</td>\n",
       "      <td>17.964906</td>\n",
       "      <td>None</td>\n",
       "      <td>0</td>\n",
       "      <td>0.747932</td>\n",
       "    </tr>\n",
       "    <tr>\n",
       "      <th>3</th>\n",
       "      <td>Machine_1</td>\n",
       "      <td>2023-06-04 09:46:28.611018</td>\n",
       "      <td>9</td>\n",
       "      <td>17.250504</td>\n",
       "      <td>None</td>\n",
       "      <td>0</td>\n",
       "      <td>0.760337</td>\n",
       "    </tr>\n",
       "    <tr>\n",
       "      <th>4</th>\n",
       "      <td>Machine_1</td>\n",
       "      <td>2023-06-05 09:46:28.611018</td>\n",
       "      <td>7</td>\n",
       "      <td>8.173130</td>\n",
       "      <td>None</td>\n",
       "      <td>0</td>\n",
       "      <td>0.779009</td>\n",
       "    </tr>\n",
       "  </tbody>\n",
       "</table>\n",
       "</div>"
      ],
      "text/plain": [
       "  machine_id                       date  num_treatments  hours_of_operation  \\\n",
       "0  Machine_1 2023-06-01 09:46:28.611018              10           16.739101   \n",
       "1  Machine_1 2023-06-02 09:46:28.611018               9           15.811422   \n",
       "2  Machine_1 2023-06-03 09:46:28.611018               9           17.964906   \n",
       "3  Machine_1 2023-06-04 09:46:28.611018               9           17.250504   \n",
       "4  Machine_1 2023-06-05 09:46:28.611018               7            8.173130   \n",
       "\n",
       "  alarms  num_warnings  sensor_data  \n",
       "0   None             0     0.760686  \n",
       "1   None             0     0.768058  \n",
       "2   None             0     0.747932  \n",
       "3   None             0     0.760337  \n",
       "4   None             0     0.779009  "
      ]
     },
     "execution_count": 4,
     "metadata": {},
     "output_type": "execute_result"
    }
   ],
   "source": [
    "df_machine_data_2 = pd.read_parquet(\"dataset/machine_data_2.parquet\")\n",
    "print(\n",
    "    f\"The machine 2 data set has {len(df_machine_data_2)} records with {df_machine_data_2.shape[1]} variables.\"\n",
    ")\n",
    "df_machine_data_2.head()"
   ]
  },
  {
   "cell_type": "code",
   "execution_count": 5,
   "metadata": {},
   "outputs": [
    {
     "name": "stdout",
     "output_type": "stream",
     "text": [
      "<class 'pandas.core.frame.DataFrame'>\n",
      "Index: 3832 entries, 0 to 2271\n",
      "Data columns (total 7 columns):\n",
      " #   Column              Non-Null Count  Dtype         \n",
      "---  ------              --------------  -----         \n",
      " 0   machine_id          3832 non-null   object        \n",
      " 1   date                3832 non-null   datetime64[ns]\n",
      " 2   num_treatments      3832 non-null   int64         \n",
      " 3   hours_of_operation  3832 non-null   float64       \n",
      " 4   alarms              189 non-null    object        \n",
      " 5   num_warnings        3832 non-null   int64         \n",
      " 6   sensor_data         3832 non-null   float64       \n",
      "dtypes: datetime64[ns](1), float64(2), int64(2), object(2)\n",
      "memory usage: 239.5+ KB\n"
     ]
    }
   ],
   "source": [
    "df_machine_data_2.info()"
   ]
  },
  {
   "cell_type": "code",
   "execution_count": 6,
   "metadata": {},
   "outputs": [
    {
     "data": {
      "text/html": [
       "<div>\n",
       "<style scoped>\n",
       "    .dataframe tbody tr th:only-of-type {\n",
       "        vertical-align: middle;\n",
       "    }\n",
       "\n",
       "    .dataframe tbody tr th {\n",
       "        vertical-align: top;\n",
       "    }\n",
       "\n",
       "    .dataframe thead th {\n",
       "        text-align: right;\n",
       "    }\n",
       "</style>\n",
       "<table border=\"1\" class=\"dataframe\">\n",
       "  <thead>\n",
       "    <tr style=\"text-align: right;\">\n",
       "      <th></th>\n",
       "      <th>date</th>\n",
       "      <th>num_treatments</th>\n",
       "      <th>hours_of_operation</th>\n",
       "      <th>num_warnings</th>\n",
       "      <th>sensor_data</th>\n",
       "    </tr>\n",
       "  </thead>\n",
       "  <tbody>\n",
       "    <tr>\n",
       "      <th>count</th>\n",
       "      <td>3832</td>\n",
       "      <td>3832.000000</td>\n",
       "      <td>3832.000000</td>\n",
       "      <td>3832.000000</td>\n",
       "      <td>3832.000000</td>\n",
       "    </tr>\n",
       "    <tr>\n",
       "      <th>mean</th>\n",
       "      <td>2023-11-30 18:24:40.886592512</td>\n",
       "      <td>4.900313</td>\n",
       "      <td>7.385393</td>\n",
       "      <td>0.066023</td>\n",
       "      <td>0.749981</td>\n",
       "    </tr>\n",
       "    <tr>\n",
       "      <th>min</th>\n",
       "      <td>2023-06-01 09:46:28.611018</td>\n",
       "      <td>0.000000</td>\n",
       "      <td>0.000000</td>\n",
       "      <td>0.000000</td>\n",
       "      <td>0.650346</td>\n",
       "    </tr>\n",
       "    <tr>\n",
       "      <th>25%</th>\n",
       "      <td>2023-09-01 03:46:28.611017984</td>\n",
       "      <td>2.000000</td>\n",
       "      <td>3.138912</td>\n",
       "      <td>0.000000</td>\n",
       "      <td>0.725018</td>\n",
       "    </tr>\n",
       "    <tr>\n",
       "      <th>50%</th>\n",
       "      <td>2023-12-01 09:46:28.611017984</td>\n",
       "      <td>5.000000</td>\n",
       "      <td>7.141561</td>\n",
       "      <td>0.000000</td>\n",
       "      <td>0.749867</td>\n",
       "    </tr>\n",
       "    <tr>\n",
       "      <th>75%</th>\n",
       "      <td>2024-02-29 09:46:28.611017984</td>\n",
       "      <td>8.000000</td>\n",
       "      <td>11.129289</td>\n",
       "      <td>0.000000</td>\n",
       "      <td>0.774962</td>\n",
       "    </tr>\n",
       "    <tr>\n",
       "      <th>max</th>\n",
       "      <td>2024-05-30 09:46:28.611018</td>\n",
       "      <td>10.000000</td>\n",
       "      <td>19.952270</td>\n",
       "      <td>3.000000</td>\n",
       "      <td>0.849033</td>\n",
       "    </tr>\n",
       "    <tr>\n",
       "      <th>std</th>\n",
       "      <td>NaN</td>\n",
       "      <td>3.156077</td>\n",
       "      <td>5.053911</td>\n",
       "      <td>0.374847</td>\n",
       "      <td>0.030316</td>\n",
       "    </tr>\n",
       "  </tbody>\n",
       "</table>\n",
       "</div>"
      ],
      "text/plain": [
       "                                date  num_treatments  hours_of_operation  \\\n",
       "count                           3832     3832.000000         3832.000000   \n",
       "mean   2023-11-30 18:24:40.886592512        4.900313            7.385393   \n",
       "min       2023-06-01 09:46:28.611018        0.000000            0.000000   \n",
       "25%    2023-09-01 03:46:28.611017984        2.000000            3.138912   \n",
       "50%    2023-12-01 09:46:28.611017984        5.000000            7.141561   \n",
       "75%    2024-02-29 09:46:28.611017984        8.000000           11.129289   \n",
       "max       2024-05-30 09:46:28.611018       10.000000           19.952270   \n",
       "std                              NaN        3.156077            5.053911   \n",
       "\n",
       "       num_warnings  sensor_data  \n",
       "count   3832.000000  3832.000000  \n",
       "mean       0.066023     0.749981  \n",
       "min        0.000000     0.650346  \n",
       "25%        0.000000     0.725018  \n",
       "50%        0.000000     0.749867  \n",
       "75%        0.000000     0.774962  \n",
       "max        3.000000     0.849033  \n",
       "std        0.374847     0.030316  "
      ]
     },
     "execution_count": 6,
     "metadata": {},
     "output_type": "execute_result"
    }
   ],
   "source": [
    "df_machine_data_2.describe()"
   ]
  },
  {
   "cell_type": "markdown",
   "metadata": {},
   "source": [
    "### Machine details"
   ]
  },
  {
   "cell_type": "code",
   "execution_count": 7,
   "metadata": {},
   "outputs": [
    {
     "name": "stdout",
     "output_type": "stream",
     "text": [
      "The machine 2 data set has 10 records with 4 variables.\n"
     ]
    },
    {
     "data": {
      "text/html": [
       "<div>\n",
       "<style scoped>\n",
       "    .dataframe tbody tr th:only-of-type {\n",
       "        vertical-align: middle;\n",
       "    }\n",
       "\n",
       "    .dataframe tbody tr th {\n",
       "        vertical-align: top;\n",
       "    }\n",
       "\n",
       "    .dataframe thead th {\n",
       "        text-align: right;\n",
       "    }\n",
       "</style>\n",
       "<table border=\"1\" class=\"dataframe\">\n",
       "  <thead>\n",
       "    <tr style=\"text-align: right;\">\n",
       "      <th></th>\n",
       "      <th>machine_id</th>\n",
       "      <th>location</th>\n",
       "      <th>manufacturer</th>\n",
       "      <th>model</th>\n",
       "    </tr>\n",
       "  </thead>\n",
       "  <tbody>\n",
       "    <tr>\n",
       "      <th>0</th>\n",
       "      <td>Machine_1</td>\n",
       "      <td>New York</td>\n",
       "      <td>Manufacturer_A</td>\n",
       "      <td>Model_X</td>\n",
       "    </tr>\n",
       "    <tr>\n",
       "      <th>1</th>\n",
       "      <td>Machine_2</td>\n",
       "      <td>New York</td>\n",
       "      <td>Manufacturer_C</td>\n",
       "      <td>Model_X</td>\n",
       "    </tr>\n",
       "    <tr>\n",
       "      <th>2</th>\n",
       "      <td>Machine_3</td>\n",
       "      <td>Los Angeles</td>\n",
       "      <td>Manufacturer_B</td>\n",
       "      <td>Model_Y</td>\n",
       "    </tr>\n",
       "    <tr>\n",
       "      <th>3</th>\n",
       "      <td>Machine_4</td>\n",
       "      <td>Los Angeles</td>\n",
       "      <td>Manufacturer_A</td>\n",
       "      <td>Model_Z</td>\n",
       "    </tr>\n",
       "    <tr>\n",
       "      <th>4</th>\n",
       "      <td>Machine_5</td>\n",
       "      <td>Phoenix</td>\n",
       "      <td>Manufacturer_C</td>\n",
       "      <td>Model_Y</td>\n",
       "    </tr>\n",
       "  </tbody>\n",
       "</table>\n",
       "</div>"
      ],
      "text/plain": [
       "  machine_id     location    manufacturer    model\n",
       "0  Machine_1     New York  Manufacturer_A  Model_X\n",
       "1  Machine_2     New York  Manufacturer_C  Model_X\n",
       "2  Machine_3  Los Angeles  Manufacturer_B  Model_Y\n",
       "3  Machine_4  Los Angeles  Manufacturer_A  Model_Z\n",
       "4  Machine_5      Phoenix  Manufacturer_C  Model_Y"
      ]
     },
     "execution_count": 7,
     "metadata": {},
     "output_type": "execute_result"
    }
   ],
   "source": [
    "df_machine_details = pd.read_parquet(\"dataset/machine_details.parquet\")\n",
    "print(\n",
    "    f\"The machine 2 data set has {len(df_machine_details)} records with {df_machine_details.shape[1]} variables.\"\n",
    ")\n",
    "df_machine_details.head()"
   ]
  },
  {
   "cell_type": "code",
   "execution_count": 8,
   "metadata": {},
   "outputs": [
    {
     "name": "stdout",
     "output_type": "stream",
     "text": [
      "<class 'pandas.core.frame.DataFrame'>\n",
      "RangeIndex: 10 entries, 0 to 9\n",
      "Data columns (total 4 columns):\n",
      " #   Column        Non-Null Count  Dtype \n",
      "---  ------        --------------  ----- \n",
      " 0   machine_id    10 non-null     object\n",
      " 1   location      10 non-null     object\n",
      " 2   manufacturer  10 non-null     object\n",
      " 3   model         10 non-null     object\n",
      "dtypes: object(4)\n",
      "memory usage: 448.0+ bytes\n"
     ]
    }
   ],
   "source": [
    "df_machine_details.info()"
   ]
  },
  {
   "cell_type": "markdown",
   "metadata": {},
   "source": [
    "### Maintainance Records"
   ]
  },
  {
   "cell_type": "code",
   "execution_count": 9,
   "metadata": {},
   "outputs": [
    {
     "name": "stdout",
     "output_type": "stream",
     "text": [
      "The machine 2 data set has 100 records with 4 variables.\n"
     ]
    },
    {
     "data": {
      "text/html": [
       "<div>\n",
       "<style scoped>\n",
       "    .dataframe tbody tr th:only-of-type {\n",
       "        vertical-align: middle;\n",
       "    }\n",
       "\n",
       "    .dataframe tbody tr th {\n",
       "        vertical-align: top;\n",
       "    }\n",
       "\n",
       "    .dataframe thead th {\n",
       "        text-align: right;\n",
       "    }\n",
       "</style>\n",
       "<table border=\"1\" class=\"dataframe\">\n",
       "  <thead>\n",
       "    <tr style=\"text-align: right;\">\n",
       "      <th></th>\n",
       "      <th>record_id</th>\n",
       "      <th>machine_id</th>\n",
       "      <th>date</th>\n",
       "      <th>description</th>\n",
       "    </tr>\n",
       "  </thead>\n",
       "  <tbody>\n",
       "    <tr>\n",
       "      <th>0</th>\n",
       "      <td>1</td>\n",
       "      <td>Machine_4</td>\n",
       "      <td>2024-02-01 09:46:28.706811</td>\n",
       "      <td>Cleaning</td>\n",
       "    </tr>\n",
       "    <tr>\n",
       "      <th>1</th>\n",
       "      <td>2</td>\n",
       "      <td>Machine_4</td>\n",
       "      <td>2023-11-03 09:46:28.706820</td>\n",
       "      <td>Routine Check</td>\n",
       "    </tr>\n",
       "    <tr>\n",
       "      <th>2</th>\n",
       "      <td>3</td>\n",
       "      <td>Machine_5</td>\n",
       "      <td>2024-05-03 09:46:28.706824</td>\n",
       "      <td>Software Update</td>\n",
       "    </tr>\n",
       "    <tr>\n",
       "      <th>3</th>\n",
       "      <td>4</td>\n",
       "      <td>Machine_6</td>\n",
       "      <td>2023-11-29 09:46:28.706828</td>\n",
       "      <td>Cleaning</td>\n",
       "    </tr>\n",
       "    <tr>\n",
       "      <th>4</th>\n",
       "      <td>5</td>\n",
       "      <td>Machine_6</td>\n",
       "      <td>2023-09-21 09:46:28.706831</td>\n",
       "      <td>Part Replacement</td>\n",
       "    </tr>\n",
       "  </tbody>\n",
       "</table>\n",
       "</div>"
      ],
      "text/plain": [
       "   record_id machine_id                       date       description\n",
       "0          1  Machine_4 2024-02-01 09:46:28.706811          Cleaning\n",
       "1          2  Machine_4 2023-11-03 09:46:28.706820     Routine Check\n",
       "2          3  Machine_5 2024-05-03 09:46:28.706824   Software Update\n",
       "3          4  Machine_6 2023-11-29 09:46:28.706828          Cleaning\n",
       "4          5  Machine_6 2023-09-21 09:46:28.706831  Part Replacement"
      ]
     },
     "execution_count": 9,
     "metadata": {},
     "output_type": "execute_result"
    }
   ],
   "source": [
    "df_maintenance = pd.read_parquet(\"dataset/maintenance_records.parquet\")\n",
    "print(\n",
    "    f\"The machine 2 data set has {len(df_maintenance)} records with {df_maintenance.shape[1]} variables.\"\n",
    ")\n",
    "df_maintenance.head()"
   ]
  },
  {
   "cell_type": "code",
   "execution_count": 10,
   "metadata": {},
   "outputs": [
    {
     "name": "stdout",
     "output_type": "stream",
     "text": [
      "<class 'pandas.core.frame.DataFrame'>\n",
      "RangeIndex: 100 entries, 0 to 99\n",
      "Data columns (total 4 columns):\n",
      " #   Column       Non-Null Count  Dtype         \n",
      "---  ------       --------------  -----         \n",
      " 0   record_id    100 non-null    int64         \n",
      " 1   machine_id   100 non-null    object        \n",
      " 2   date         100 non-null    datetime64[ns]\n",
      " 3   description  100 non-null    object        \n",
      "dtypes: datetime64[ns](1), int64(1), object(2)\n",
      "memory usage: 3.2+ KB\n"
     ]
    }
   ],
   "source": [
    "df_maintenance.info()"
   ]
  },
  {
   "cell_type": "code",
   "execution_count": 11,
   "metadata": {},
   "outputs": [
    {
     "data": {
      "text/html": [
       "<div>\n",
       "<style scoped>\n",
       "    .dataframe tbody tr th:only-of-type {\n",
       "        vertical-align: middle;\n",
       "    }\n",
       "\n",
       "    .dataframe tbody tr th {\n",
       "        vertical-align: top;\n",
       "    }\n",
       "\n",
       "    .dataframe thead th {\n",
       "        text-align: right;\n",
       "    }\n",
       "</style>\n",
       "<table border=\"1\" class=\"dataframe\">\n",
       "  <thead>\n",
       "    <tr style=\"text-align: right;\">\n",
       "      <th></th>\n",
       "      <th>record_id</th>\n",
       "      <th>date</th>\n",
       "    </tr>\n",
       "  </thead>\n",
       "  <tbody>\n",
       "    <tr>\n",
       "      <th>count</th>\n",
       "      <td>100.000000</td>\n",
       "      <td>100</td>\n",
       "    </tr>\n",
       "    <tr>\n",
       "      <th>mean</th>\n",
       "      <td>50.500000</td>\n",
       "      <td>2023-12-18 20:05:40.706987264</td>\n",
       "    </tr>\n",
       "    <tr>\n",
       "      <th>min</th>\n",
       "      <td>1.000000</td>\n",
       "      <td>2023-06-08 09:46:28.707030</td>\n",
       "    </tr>\n",
       "    <tr>\n",
       "      <th>25%</th>\n",
       "      <td>25.750000</td>\n",
       "      <td>2023-09-06 21:46:28.707064832</td>\n",
       "    </tr>\n",
       "    <tr>\n",
       "      <th>50%</th>\n",
       "      <td>50.500000</td>\n",
       "      <td>2023-12-24 21:46:28.706954496</td>\n",
       "    </tr>\n",
       "    <tr>\n",
       "      <th>75%</th>\n",
       "      <td>75.250000</td>\n",
       "      <td>2024-03-26 21:46:28.707016448</td>\n",
       "    </tr>\n",
       "    <tr>\n",
       "      <th>max</th>\n",
       "      <td>100.000000</td>\n",
       "      <td>2024-05-31 09:46:28.707070</td>\n",
       "    </tr>\n",
       "    <tr>\n",
       "      <th>std</th>\n",
       "      <td>29.011492</td>\n",
       "      <td>NaN</td>\n",
       "    </tr>\n",
       "  </tbody>\n",
       "</table>\n",
       "</div>"
      ],
      "text/plain": [
       "        record_id                           date\n",
       "count  100.000000                            100\n",
       "mean    50.500000  2023-12-18 20:05:40.706987264\n",
       "min      1.000000     2023-06-08 09:46:28.707030\n",
       "25%     25.750000  2023-09-06 21:46:28.707064832\n",
       "50%     50.500000  2023-12-24 21:46:28.706954496\n",
       "75%     75.250000  2024-03-26 21:46:28.707016448\n",
       "max    100.000000     2024-05-31 09:46:28.707070\n",
       "std     29.011492                            NaN"
      ]
     },
     "execution_count": 11,
     "metadata": {},
     "output_type": "execute_result"
    }
   ],
   "source": [
    "df_maintenance.describe()"
   ]
  },
  {
   "cell_type": "markdown",
   "metadata": {},
   "source": [
    "## Duck DB"
   ]
  },
  {
   "cell_type": "code",
   "execution_count": 12,
   "metadata": {},
   "outputs": [
    {
     "name": "stdout",
     "output_type": "stream",
     "text": [
      "┌─────────────────────┐\n",
      "│        name         │\n",
      "│       varchar       │\n",
      "├─────────────────────┤\n",
      "│ machine_data_1      │\n",
      "│ machine_data_2      │\n",
      "│ machine_details     │\n",
      "│ maintenance_records │\n",
      "└─────────────────────┘\n",
      "\n"
     ]
    }
   ],
   "source": [
    "import duckdb\n",
    "\n",
    "con: duckdb.DuckDBPyConnection = duckdb.connect(\n",
    "    \"dataset/dialysis_machine_data.duckdb\"\n",
    ")\n",
    "\n",
    "con.sql(\"SHOW TABLES\").show()"
   ]
  },
  {
   "cell_type": "code",
   "execution_count": 13,
   "metadata": {},
   "outputs": [
    {
     "name": "stdout",
     "output_type": "stream",
     "text": [
      "┌────────────┬──────────────────────┬────────────────┬───┬──────────────────┬──────────────┬────────────────────┐\n",
      "│ machine_id │         date         │ num_treatments │ … │      alarms      │ num_warnings │    sensor_data     │\n",
      "│  varchar   │     timestamp_ns     │     int64      │   │     varchar      │    int64     │       double       │\n",
      "├────────────┼──────────────────────┼────────────────┼───┼──────────────────┼──────────────┼────────────────────┤\n",
      "│ Machine_1  │ 2023-06-01 09:46:2…  │              1 │ … │ NULL             │            0 │ 0.7475866187854373 │\n",
      "│ Machine_1  │ 2023-06-02 09:46:2…  │              9 │ … │ NULL             │            0 │ 0.7252086602966215 │\n",
      "│ Machine_1  │ 2023-06-03 09:46:2…  │              4 │ … │ High Temperature │            1 │ 0.7737720654425962 │\n",
      "│ Machine_1  │ 2023-06-04 09:46:2…  │              5 │ … │ NULL             │            0 │ 0.7283830721465598 │\n",
      "│ Machine_1  │ 2023-06-05 09:46:2…  │              2 │ … │ NULL             │            0 │ 0.7800660213924229 │\n",
      "│ Machine_1  │ 2023-06-06 09:46:2…  │              5 │ … │ NULL             │            0 │ 0.7914934324893409 │\n",
      "│ Machine_1  │ 2023-06-07 09:46:2…  │              3 │ … │ NULL             │            0 │ 0.7419389667385334 │\n",
      "│ Machine_1  │ 2023-06-08 09:46:2…  │              5 │ … │ NULL             │            0 │ 0.7562439739769578 │\n",
      "│ Machine_1  │ 2023-06-09 09:46:2…  │              2 │ … │ NULL             │            0 │ 0.7509224076125091 │\n",
      "│ Machine_1  │ 2023-06-10 09:46:2…  │              6 │ … │ NULL             │            0 │ 0.7744325805083657 │\n",
      "│     ·      │          ·           │              · │ · │  ·               │            · │          ·         │\n",
      "│     ·      │          ·           │              · │ · │  ·               │            · │          ·         │\n",
      "│     ·      │          ·           │              · │ · │  ·               │            · │          ·         │\n",
      "│ Machine_1  │ 2023-10-06 09:46:2…  │              5 │ … │ NULL             │            0 │ 0.7612290966803859 │\n",
      "│ Machine_6  │ 2024-02-17 09:46:2…  │              6 │ … │ NULL             │            0 │ 0.7645373426888238 │\n",
      "│ Machine_2  │ 2024-03-21 09:46:2…  │              7 │ … │ clogged filter   │            1 │ 0.7392673464263863 │\n",
      "│ Machine_10 │ 2023-10-21 09:46:2…  │              3 │ … │ NULL             │            0 │ 0.7790953037430053 │\n",
      "│ Machine_7  │ 2023-10-08 09:46:2…  │              2 │ … │ Sensor Error     │            2 │  0.749789647935629 │\n",
      "│ Machine_6  │ 2024-02-13 09:46:2…  │              4 │ … │ NULL             │            0 │  0.795938039378814 │\n",
      "│ Machine_3  │ 2023-09-05 09:46:2…  │              6 │ … │ NULL             │            0 │ 0.7155189409288959 │\n",
      "│ Machine_1  │ 2024-04-01 09:46:2…  │              1 │ … │ NULL             │            0 │ 0.7750044904491201 │\n",
      "│ Machine_8  │ 2024-02-27 09:46:2…  │              4 │ … │ NULL             │            0 │ 0.7513410685159592 │\n",
      "│ Machine_6  │ 2023-12-08 09:46:2…  │              9 │ … │ NULL             │            0 │ 0.7707379723879532 │\n",
      "├────────────┴──────────────────────┴────────────────┴───┴──────────────────┴──────────────┴────────────────────┤\n",
      "│ 3832 rows (20 shown)                                                                      7 columns (6 shown) │\n",
      "└───────────────────────────────────────────────────────────────────────────────────────────────────────────────┘\n",
      "\n"
     ]
    }
   ],
   "source": [
    "con.sql(\"SELECT * from machine_data_1\").show()"
   ]
  },
  {
   "cell_type": "code",
   "execution_count": 14,
   "metadata": {},
   "outputs": [
    {
     "name": "stdout",
     "output_type": "stream",
     "text": [
      "┌────────────┬─────────────┬────────────────┬─────────┐\n",
      "│ machine_id │  location   │  manufacturer  │  model  │\n",
      "│  varchar   │   varchar   │    varchar     │ varchar │\n",
      "├────────────┼─────────────┼────────────────┼─────────┤\n",
      "│ Machine_1  │ New York    │ Manufacturer_A │ Model_X │\n",
      "│ Machine_2  │ New York    │ Manufacturer_C │ Model_X │\n",
      "│ Machine_3  │ Los Angeles │ Manufacturer_B │ Model_Y │\n",
      "│ Machine_4  │ Los Angeles │ Manufacturer_A │ Model_Z │\n",
      "│ Machine_5  │ Phoenix     │ Manufacturer_C │ Model_Y │\n",
      "│ Machine_6  │ Los Angeles │ Manufacturer_A │ Model_X │\n",
      "│ Machine_7  │ New York    │ Manufacturer_B │ Model_Z │\n",
      "│ Machine_8  │ Los Angeles │ Manufacturer_A │ Model_X │\n",
      "│ Machine_9  │ Houston     │ Manufacturer_C │ Model_X │\n",
      "│ Machine_10 │ New York    │ Manufacturer_C │ Model_X │\n",
      "├────────────┴─────────────┴────────────────┴─────────┤\n",
      "│ 10 rows                                   4 columns │\n",
      "└─────────────────────────────────────────────────────┘\n",
      "\n"
     ]
    }
   ],
   "source": [
    "con.sql(\"SELECT * from machine_details\").show()"
   ]
  },
  {
   "cell_type": "code",
   "execution_count": 15,
   "metadata": {},
   "outputs": [],
   "source": [
    "con.close()"
   ]
  },
  {
   "cell_type": "markdown",
   "metadata": {},
   "source": [
    "## Data merging"
   ]
  },
  {
   "cell_type": "code",
   "execution_count": 16,
   "metadata": {},
   "outputs": [
    {
     "data": {
      "text/html": [
       "<div>\n",
       "<style scoped>\n",
       "    .dataframe tbody tr th:only-of-type {\n",
       "        vertical-align: middle;\n",
       "    }\n",
       "\n",
       "    .dataframe tbody tr th {\n",
       "        vertical-align: top;\n",
       "    }\n",
       "\n",
       "    .dataframe thead th {\n",
       "        text-align: right;\n",
       "    }\n",
       "</style>\n",
       "<table border=\"1\" class=\"dataframe\">\n",
       "  <thead>\n",
       "    <tr style=\"text-align: right;\">\n",
       "      <th></th>\n",
       "      <th>machine_id</th>\n",
       "      <th>date</th>\n",
       "      <th>num_treatments</th>\n",
       "      <th>hours_of_operation</th>\n",
       "      <th>alarms</th>\n",
       "      <th>num_warnings</th>\n",
       "      <th>sensor_data</th>\n",
       "    </tr>\n",
       "  </thead>\n",
       "  <tbody>\n",
       "    <tr>\n",
       "      <th>0</th>\n",
       "      <td>Machine_1</td>\n",
       "      <td>2023-06-01 09:46:28.611018</td>\n",
       "      <td>1</td>\n",
       "      <td>1.561568</td>\n",
       "      <td>None</td>\n",
       "      <td>0</td>\n",
       "      <td>0.747587</td>\n",
       "    </tr>\n",
       "    <tr>\n",
       "      <th>1</th>\n",
       "      <td>Machine_1</td>\n",
       "      <td>2023-06-02 09:46:28.611018</td>\n",
       "      <td>9</td>\n",
       "      <td>11.670001</td>\n",
       "      <td>None</td>\n",
       "      <td>0</td>\n",
       "      <td>0.725209</td>\n",
       "    </tr>\n",
       "    <tr>\n",
       "      <th>2</th>\n",
       "      <td>Machine_1</td>\n",
       "      <td>2023-06-03 09:46:28.611018</td>\n",
       "      <td>4</td>\n",
       "      <td>6.345075</td>\n",
       "      <td>High Temperature</td>\n",
       "      <td>1</td>\n",
       "      <td>0.773772</td>\n",
       "    </tr>\n",
       "    <tr>\n",
       "      <th>3</th>\n",
       "      <td>Machine_1</td>\n",
       "      <td>2023-06-04 09:46:28.611018</td>\n",
       "      <td>5</td>\n",
       "      <td>8.521391</td>\n",
       "      <td>None</td>\n",
       "      <td>0</td>\n",
       "      <td>0.728383</td>\n",
       "    </tr>\n",
       "    <tr>\n",
       "      <th>4</th>\n",
       "      <td>Machine_1</td>\n",
       "      <td>2023-06-05 09:46:28.611018</td>\n",
       "      <td>2</td>\n",
       "      <td>2.893482</td>\n",
       "      <td>None</td>\n",
       "      <td>0</td>\n",
       "      <td>0.780066</td>\n",
       "    </tr>\n",
       "  </tbody>\n",
       "</table>\n",
       "</div>"
      ],
      "text/plain": [
       "  machine_id                       date  num_treatments  hours_of_operation  \\\n",
       "0  Machine_1 2023-06-01 09:46:28.611018               1            1.561568   \n",
       "1  Machine_1 2023-06-02 09:46:28.611018               9           11.670001   \n",
       "2  Machine_1 2023-06-03 09:46:28.611018               4            6.345075   \n",
       "3  Machine_1 2023-06-04 09:46:28.611018               5            8.521391   \n",
       "4  Machine_1 2023-06-05 09:46:28.611018               2            2.893482   \n",
       "\n",
       "             alarms  num_warnings  sensor_data  \n",
       "0              None             0     0.747587  \n",
       "1              None             0     0.725209  \n",
       "2  High Temperature             1     0.773772  \n",
       "3              None             0     0.728383  \n",
       "4              None             0     0.780066  "
      ]
     },
     "execution_count": 16,
     "metadata": {},
     "output_type": "execute_result"
    }
   ],
   "source": [
    "df_machine_data = pd.concat([df_machine_data_1, df_machine_data_2])\n",
    "df_machine_data.head()"
   ]
  },
  {
   "cell_type": "code",
   "execution_count": 17,
   "metadata": {},
   "outputs": [
    {
     "name": "stdout",
     "output_type": "stream",
     "text": [
      "<class 'pandas.core.frame.DataFrame'>\n",
      "Index: 7664 entries, 0 to 2271\n",
      "Data columns (total 7 columns):\n",
      " #   Column              Non-Null Count  Dtype         \n",
      "---  ------              --------------  -----         \n",
      " 0   machine_id          7664 non-null   object        \n",
      " 1   date                7664 non-null   datetime64[ns]\n",
      " 2   num_treatments      7664 non-null   int64         \n",
      " 3   hours_of_operation  7664 non-null   float64       \n",
      " 4   alarms              401 non-null    object        \n",
      " 5   num_warnings        7664 non-null   int64         \n",
      " 6   sensor_data         7664 non-null   float64       \n",
      "dtypes: datetime64[ns](1), float64(2), int64(2), object(2)\n",
      "memory usage: 479.0+ KB\n"
     ]
    }
   ],
   "source": [
    "df_machine_data.info()"
   ]
  },
  {
   "cell_type": "code",
   "execution_count": 18,
   "metadata": {},
   "outputs": [
    {
     "data": {
      "text/plain": [
       "array(['Machine_1', 'Machine_2', 'Machine_3', 'Machine_4', 'Machine_5',\n",
       "       'Machine_6', 'Machine_7', 'Machine_8', 'Machine_9', 'Machine_10'],\n",
       "      dtype=object)"
      ]
     },
     "execution_count": 18,
     "metadata": {},
     "output_type": "execute_result"
    }
   ],
   "source": [
    "df_machine_data[\"machine_id\"].unique()"
   ]
  },
  {
   "cell_type": "code",
   "execution_count": 19,
   "metadata": {},
   "outputs": [
    {
     "data": {
      "text/html": [
       "<div>\n",
       "<style scoped>\n",
       "    .dataframe tbody tr th:only-of-type {\n",
       "        vertical-align: middle;\n",
       "    }\n",
       "\n",
       "    .dataframe tbody tr th {\n",
       "        vertical-align: top;\n",
       "    }\n",
       "\n",
       "    .dataframe thead th {\n",
       "        text-align: right;\n",
       "    }\n",
       "</style>\n",
       "<table border=\"1\" class=\"dataframe\">\n",
       "  <thead>\n",
       "    <tr style=\"text-align: right;\">\n",
       "      <th></th>\n",
       "      <th>machine_id</th>\n",
       "      <th>date</th>\n",
       "      <th>num_treatments</th>\n",
       "      <th>hours_of_operation</th>\n",
       "      <th>alarms</th>\n",
       "      <th>num_warnings</th>\n",
       "      <th>sensor_data</th>\n",
       "      <th>location</th>\n",
       "      <th>manufacturer</th>\n",
       "      <th>model</th>\n",
       "    </tr>\n",
       "  </thead>\n",
       "  <tbody>\n",
       "    <tr>\n",
       "      <th>0</th>\n",
       "      <td>Machine_1</td>\n",
       "      <td>2023-06-01 09:46:28.611018</td>\n",
       "      <td>1</td>\n",
       "      <td>1.561568</td>\n",
       "      <td>None</td>\n",
       "      <td>0</td>\n",
       "      <td>0.747587</td>\n",
       "      <td>New York</td>\n",
       "      <td>Manufacturer_A</td>\n",
       "      <td>Model_X</td>\n",
       "    </tr>\n",
       "    <tr>\n",
       "      <th>1</th>\n",
       "      <td>Machine_1</td>\n",
       "      <td>2023-06-02 09:46:28.611018</td>\n",
       "      <td>9</td>\n",
       "      <td>11.670001</td>\n",
       "      <td>None</td>\n",
       "      <td>0</td>\n",
       "      <td>0.725209</td>\n",
       "      <td>New York</td>\n",
       "      <td>Manufacturer_A</td>\n",
       "      <td>Model_X</td>\n",
       "    </tr>\n",
       "    <tr>\n",
       "      <th>2</th>\n",
       "      <td>Machine_1</td>\n",
       "      <td>2023-06-03 09:46:28.611018</td>\n",
       "      <td>4</td>\n",
       "      <td>6.345075</td>\n",
       "      <td>High Temperature</td>\n",
       "      <td>1</td>\n",
       "      <td>0.773772</td>\n",
       "      <td>New York</td>\n",
       "      <td>Manufacturer_A</td>\n",
       "      <td>Model_X</td>\n",
       "    </tr>\n",
       "    <tr>\n",
       "      <th>3</th>\n",
       "      <td>Machine_1</td>\n",
       "      <td>2023-06-04 09:46:28.611018</td>\n",
       "      <td>5</td>\n",
       "      <td>8.521391</td>\n",
       "      <td>None</td>\n",
       "      <td>0</td>\n",
       "      <td>0.728383</td>\n",
       "      <td>New York</td>\n",
       "      <td>Manufacturer_A</td>\n",
       "      <td>Model_X</td>\n",
       "    </tr>\n",
       "    <tr>\n",
       "      <th>4</th>\n",
       "      <td>Machine_1</td>\n",
       "      <td>2023-06-05 09:46:28.611018</td>\n",
       "      <td>2</td>\n",
       "      <td>2.893482</td>\n",
       "      <td>None</td>\n",
       "      <td>0</td>\n",
       "      <td>0.780066</td>\n",
       "      <td>New York</td>\n",
       "      <td>Manufacturer_A</td>\n",
       "      <td>Model_X</td>\n",
       "    </tr>\n",
       "  </tbody>\n",
       "</table>\n",
       "</div>"
      ],
      "text/plain": [
       "  machine_id                       date  num_treatments  hours_of_operation  \\\n",
       "0  Machine_1 2023-06-01 09:46:28.611018               1            1.561568   \n",
       "1  Machine_1 2023-06-02 09:46:28.611018               9           11.670001   \n",
       "2  Machine_1 2023-06-03 09:46:28.611018               4            6.345075   \n",
       "3  Machine_1 2023-06-04 09:46:28.611018               5            8.521391   \n",
       "4  Machine_1 2023-06-05 09:46:28.611018               2            2.893482   \n",
       "\n",
       "             alarms  num_warnings  sensor_data  location    manufacturer  \\\n",
       "0              None             0     0.747587  New York  Manufacturer_A   \n",
       "1              None             0     0.725209  New York  Manufacturer_A   \n",
       "2  High Temperature             1     0.773772  New York  Manufacturer_A   \n",
       "3              None             0     0.728383  New York  Manufacturer_A   \n",
       "4              None             0     0.780066  New York  Manufacturer_A   \n",
       "\n",
       "     model  \n",
       "0  Model_X  \n",
       "1  Model_X  \n",
       "2  Model_X  \n",
       "3  Model_X  \n",
       "4  Model_X  "
      ]
     },
     "execution_count": 19,
     "metadata": {},
     "output_type": "execute_result"
    }
   ],
   "source": [
    "df_machine_data_detailed = df_machine_data.merge(\n",
    "    df_machine_details, how=\"left\", on=\"machine_id\"\n",
    ")\n",
    "df_machine_data_detailed.head()"
   ]
  },
  {
   "cell_type": "code",
   "execution_count": 20,
   "metadata": {},
   "outputs": [
    {
     "name": "stdout",
     "output_type": "stream",
     "text": [
      "<class 'pandas.core.frame.DataFrame'>\n",
      "RangeIndex: 7664 entries, 0 to 7663\n",
      "Data columns (total 10 columns):\n",
      " #   Column              Non-Null Count  Dtype         \n",
      "---  ------              --------------  -----         \n",
      " 0   machine_id          7664 non-null   object        \n",
      " 1   date                7664 non-null   datetime64[ns]\n",
      " 2   num_treatments      7664 non-null   int64         \n",
      " 3   hours_of_operation  7664 non-null   float64       \n",
      " 4   alarms              401 non-null    object        \n",
      " 5   num_warnings        7664 non-null   int64         \n",
      " 6   sensor_data         7664 non-null   float64       \n",
      " 7   location            7664 non-null   object        \n",
      " 8   manufacturer        7664 non-null   object        \n",
      " 9   model               7664 non-null   object        \n",
      "dtypes: datetime64[ns](1), float64(2), int64(2), object(5)\n",
      "memory usage: 598.9+ KB\n"
     ]
    }
   ],
   "source": [
    "df_machine_data_detailed.info()"
   ]
  },
  {
   "cell_type": "markdown",
   "metadata": {},
   "source": [
    "## Questions\n",
    "### Average number of treatments per day"
   ]
  },
  {
   "cell_type": "code",
   "execution_count": 21,
   "metadata": {},
   "outputs": [
    {
     "data": {
      "text/html": [
       "<div>\n",
       "<style scoped>\n",
       "    .dataframe tbody tr th:only-of-type {\n",
       "        vertical-align: middle;\n",
       "    }\n",
       "\n",
       "    .dataframe tbody tr th {\n",
       "        vertical-align: top;\n",
       "    }\n",
       "\n",
       "    .dataframe thead th {\n",
       "        text-align: right;\n",
       "    }\n",
       "</style>\n",
       "<table border=\"1\" class=\"dataframe\">\n",
       "  <thead>\n",
       "    <tr style=\"text-align: right;\">\n",
       "      <th></th>\n",
       "      <th>machine_id</th>\n",
       "      <th>date</th>\n",
       "      <th>num_treatments</th>\n",
       "      <th>hours_of_operation</th>\n",
       "      <th>alarms</th>\n",
       "      <th>num_warnings</th>\n",
       "      <th>sensor_data</th>\n",
       "      <th>day</th>\n",
       "    </tr>\n",
       "  </thead>\n",
       "  <tbody>\n",
       "    <tr>\n",
       "      <th>0</th>\n",
       "      <td>Machine_1</td>\n",
       "      <td>2023-06-01 09:46:28.611018</td>\n",
       "      <td>1</td>\n",
       "      <td>1.561568</td>\n",
       "      <td>None</td>\n",
       "      <td>0</td>\n",
       "      <td>0.747587</td>\n",
       "      <td>2023-06-01</td>\n",
       "    </tr>\n",
       "    <tr>\n",
       "      <th>1</th>\n",
       "      <td>Machine_1</td>\n",
       "      <td>2023-06-02 09:46:28.611018</td>\n",
       "      <td>9</td>\n",
       "      <td>11.670001</td>\n",
       "      <td>None</td>\n",
       "      <td>0</td>\n",
       "      <td>0.725209</td>\n",
       "      <td>2023-06-02</td>\n",
       "    </tr>\n",
       "    <tr>\n",
       "      <th>2</th>\n",
       "      <td>Machine_1</td>\n",
       "      <td>2023-06-03 09:46:28.611018</td>\n",
       "      <td>4</td>\n",
       "      <td>6.345075</td>\n",
       "      <td>High Temperature</td>\n",
       "      <td>1</td>\n",
       "      <td>0.773772</td>\n",
       "      <td>2023-06-03</td>\n",
       "    </tr>\n",
       "    <tr>\n",
       "      <th>3</th>\n",
       "      <td>Machine_1</td>\n",
       "      <td>2023-06-04 09:46:28.611018</td>\n",
       "      <td>5</td>\n",
       "      <td>8.521391</td>\n",
       "      <td>None</td>\n",
       "      <td>0</td>\n",
       "      <td>0.728383</td>\n",
       "      <td>2023-06-04</td>\n",
       "    </tr>\n",
       "    <tr>\n",
       "      <th>4</th>\n",
       "      <td>Machine_1</td>\n",
       "      <td>2023-06-05 09:46:28.611018</td>\n",
       "      <td>2</td>\n",
       "      <td>2.893482</td>\n",
       "      <td>None</td>\n",
       "      <td>0</td>\n",
       "      <td>0.780066</td>\n",
       "      <td>2023-06-05</td>\n",
       "    </tr>\n",
       "  </tbody>\n",
       "</table>\n",
       "</div>"
      ],
      "text/plain": [
       "  machine_id                       date  num_treatments  hours_of_operation  \\\n",
       "0  Machine_1 2023-06-01 09:46:28.611018               1            1.561568   \n",
       "1  Machine_1 2023-06-02 09:46:28.611018               9           11.670001   \n",
       "2  Machine_1 2023-06-03 09:46:28.611018               4            6.345075   \n",
       "3  Machine_1 2023-06-04 09:46:28.611018               5            8.521391   \n",
       "4  Machine_1 2023-06-05 09:46:28.611018               2            2.893482   \n",
       "\n",
       "             alarms  num_warnings  sensor_data         day  \n",
       "0              None             0     0.747587  2023-06-01  \n",
       "1              None             0     0.725209  2023-06-02  \n",
       "2  High Temperature             1     0.773772  2023-06-03  \n",
       "3              None             0     0.728383  2023-06-04  \n",
       "4              None             0     0.780066  2023-06-05  "
      ]
     },
     "execution_count": 21,
     "metadata": {},
     "output_type": "execute_result"
    }
   ],
   "source": [
    "df_machine_data[\"day\"] = df_machine_data[\"date\"].dt.date\n",
    "df_machine_data.head()"
   ]
  },
  {
   "cell_type": "code",
   "execution_count": 26,
   "metadata": {},
   "outputs": [
    {
     "data": {
      "text/html": [
       "<div>\n",
       "<style scoped>\n",
       "    .dataframe tbody tr th:only-of-type {\n",
       "        vertical-align: middle;\n",
       "    }\n",
       "\n",
       "    .dataframe tbody tr th {\n",
       "        vertical-align: top;\n",
       "    }\n",
       "\n",
       "    .dataframe thead th {\n",
       "        text-align: right;\n",
       "    }\n",
       "</style>\n",
       "<table border=\"1\" class=\"dataframe\">\n",
       "  <thead>\n",
       "    <tr style=\"text-align: right;\">\n",
       "      <th></th>\n",
       "      <th>num_treatments</th>\n",
       "    </tr>\n",
       "    <tr>\n",
       "      <th>day</th>\n",
       "      <th></th>\n",
       "    </tr>\n",
       "  </thead>\n",
       "  <tbody>\n",
       "    <tr>\n",
       "      <th>2023-06-01</th>\n",
       "      <td>4.850000</td>\n",
       "    </tr>\n",
       "    <tr>\n",
       "      <th>2023-06-02</th>\n",
       "      <td>4.714286</td>\n",
       "    </tr>\n",
       "    <tr>\n",
       "      <th>2023-06-03</th>\n",
       "      <td>4.285714</td>\n",
       "    </tr>\n",
       "    <tr>\n",
       "      <th>2023-06-04</th>\n",
       "      <td>5.250000</td>\n",
       "    </tr>\n",
       "    <tr>\n",
       "      <th>2023-06-05</th>\n",
       "      <td>4.666667</td>\n",
       "    </tr>\n",
       "  </tbody>\n",
       "</table>\n",
       "</div>"
      ],
      "text/plain": [
       "            num_treatments\n",
       "day                       \n",
       "2023-06-01        4.850000\n",
       "2023-06-02        4.714286\n",
       "2023-06-03        4.285714\n",
       "2023-06-04        5.250000\n",
       "2023-06-05        4.666667"
      ]
     },
     "execution_count": 26,
     "metadata": {},
     "output_type": "execute_result"
    }
   ],
   "source": [
    "df_machine_data_by_day = df_machine_data.groupby(\"day\").agg(\n",
    "    {\"num_treatments\": \"mean\"}\n",
    ")\n",
    "df_machine_data_by_day.head()"
   ]
  },
  {
   "cell_type": "markdown",
   "metadata": {},
   "source": [
    "### Location and manuf for machines with highest total operating time"
   ]
  },
  {
   "cell_type": "code",
   "execution_count": 32,
   "metadata": {},
   "outputs": [
    {
     "data": {
      "text/html": [
       "<div>\n",
       "<style scoped>\n",
       "    .dataframe tbody tr th:only-of-type {\n",
       "        vertical-align: middle;\n",
       "    }\n",
       "\n",
       "    .dataframe tbody tr th {\n",
       "        vertical-align: top;\n",
       "    }\n",
       "\n",
       "    .dataframe thead th {\n",
       "        text-align: right;\n",
       "    }\n",
       "</style>\n",
       "<table border=\"1\" class=\"dataframe\">\n",
       "  <thead>\n",
       "    <tr style=\"text-align: right;\">\n",
       "      <th></th>\n",
       "      <th></th>\n",
       "      <th></th>\n",
       "      <th>hours_of_operation</th>\n",
       "    </tr>\n",
       "    <tr>\n",
       "      <th>machine_id</th>\n",
       "      <th>manufacturer</th>\n",
       "      <th>location</th>\n",
       "      <th></th>\n",
       "    </tr>\n",
       "  </thead>\n",
       "  <tbody>\n",
       "    <tr>\n",
       "      <th>Machine_8</th>\n",
       "      <th>Manufacturer_A</th>\n",
       "      <th>Los Angeles</th>\n",
       "      <td>5891.090041</td>\n",
       "    </tr>\n",
       "    <tr>\n",
       "      <th>Machine_4</th>\n",
       "      <th>Manufacturer_A</th>\n",
       "      <th>Los Angeles</th>\n",
       "      <td>5868.793133</td>\n",
       "    </tr>\n",
       "    <tr>\n",
       "      <th>Machine_1</th>\n",
       "      <th>Manufacturer_A</th>\n",
       "      <th>New York</th>\n",
       "      <td>5798.466316</td>\n",
       "    </tr>\n",
       "    <tr>\n",
       "      <th>Machine_3</th>\n",
       "      <th>Manufacturer_B</th>\n",
       "      <th>Los Angeles</th>\n",
       "      <td>5743.942070</td>\n",
       "    </tr>\n",
       "    <tr>\n",
       "      <th>Machine_7</th>\n",
       "      <th>Manufacturer_B</th>\n",
       "      <th>New York</th>\n",
       "      <td>5742.095175</td>\n",
       "    </tr>\n",
       "  </tbody>\n",
       "</table>\n",
       "</div>"
      ],
      "text/plain": [
       "                                       hours_of_operation\n",
       "machine_id manufacturer   location                       \n",
       "Machine_8  Manufacturer_A Los Angeles         5891.090041\n",
       "Machine_4  Manufacturer_A Los Angeles         5868.793133\n",
       "Machine_1  Manufacturer_A New York            5798.466316\n",
       "Machine_3  Manufacturer_B Los Angeles         5743.942070\n",
       "Machine_7  Manufacturer_B New York            5742.095175"
      ]
     },
     "execution_count": 32,
     "metadata": {},
     "output_type": "execute_result"
    }
   ],
   "source": [
    "df_machine_operation_time_total = df_machine_data_detailed.groupby(\n",
    "    [\"machine_id\", \"manufacturer\", \"location\"]\n",
    ").agg({\"hours_of_operation\": \"sum\"})\n",
    "df_machine_operation_time_total.sort_values(\n",
    "    \"hours_of_operation\", ascending=False\n",
    ").head(5)"
   ]
  },
  {
   "cell_type": "markdown",
   "metadata": {},
   "source": [
    "### Maintenance records of machine with highest nb of alarms in March 2024"
   ]
  },
  {
   "cell_type": "code",
   "execution_count": 49,
   "metadata": {},
   "outputs": [
    {
     "data": {
      "text/html": [
       "<div>\n",
       "<style scoped>\n",
       "    .dataframe tbody tr th:only-of-type {\n",
       "        vertical-align: middle;\n",
       "    }\n",
       "\n",
       "    .dataframe tbody tr th {\n",
       "        vertical-align: top;\n",
       "    }\n",
       "\n",
       "    .dataframe thead th {\n",
       "        text-align: right;\n",
       "    }\n",
       "</style>\n",
       "<table border=\"1\" class=\"dataframe\">\n",
       "  <thead>\n",
       "    <tr style=\"text-align: right;\">\n",
       "      <th></th>\n",
       "      <th>record_id</th>\n",
       "      <th>machine_id</th>\n",
       "      <th>date</th>\n",
       "      <th>description</th>\n",
       "    </tr>\n",
       "  </thead>\n",
       "  <tbody>\n",
       "    <tr>\n",
       "      <th>24</th>\n",
       "      <td>25</td>\n",
       "      <td>Machine_1</td>\n",
       "      <td>2024-03-08 09:46:28.706900</td>\n",
       "      <td>Cleaning</td>\n",
       "    </tr>\n",
       "    <tr>\n",
       "      <th>52</th>\n",
       "      <td>53</td>\n",
       "      <td>Machine_1</td>\n",
       "      <td>2024-03-07 09:46:28.706993</td>\n",
       "      <td>Software Update</td>\n",
       "    </tr>\n",
       "  </tbody>\n",
       "</table>\n",
       "</div>"
      ],
      "text/plain": [
       "    record_id machine_id                       date      description\n",
       "24         25  Machine_1 2024-03-08 09:46:28.706900         Cleaning\n",
       "52         53  Machine_1 2024-03-07 09:46:28.706993  Software Update"
      ]
     },
     "execution_count": 49,
     "metadata": {},
     "output_type": "execute_result"
    }
   ],
   "source": [
    "import datetime as dt\n",
    "\n",
    "df_machine_data_march = df_machine_data[\n",
    "    (df_machine_data[\"date\"] >= dt.datetime(2024, 3, 1))\n",
    "    & (df_machine_data[\"date\"] <= dt.datetime(2024, 3, 31))\n",
    "]\n",
    "machine_highest_alarms_march = (\n",
    "    df_machine_data_march.groupby(\"machine_id\")\n",
    "    .agg({\"alarms\": \"count\"})\n",
    "    .sort_values(\"alarms\", ascending=False)\n",
    "    .head(1)\n",
    "    .index[0]\n",
    ")\n",
    "df_maintenance[\n",
    "    (df_maintenance[\"machine_id\"] == machine_highest_alarms_march)\n",
    "    & (df_maintenance[\"date\"] >= dt.datetime(2024, 3, 1))\n",
    "    & (df_maintenance[\"date\"] <= dt.datetime(2024, 3, 31))\n",
    "].head()"
   ]
  },
  {
   "cell_type": "markdown",
   "metadata": {},
   "source": [
    "## Visualization\n",
    "### Sensor data with alarm"
   ]
  },
  {
   "cell_type": "code",
   "execution_count": 58,
   "metadata": {},
   "outputs": [
    {
     "data": {
      "text/plain": [
       "<Axes: xlabel='date', ylabel='sensor_data'>"
      ]
     },
     "execution_count": 58,
     "metadata": {},
     "output_type": "execute_result"
    },
    {
     "data": {
      "image/png": "[encoded data removed]",
      "text/plain": [
       "<Figure size 640x480 with 1 Axes>"
      ]
     },
     "metadata": {},
     "output_type": "display_data"
    }
   ],
   "source": [
    "import matplotlib.pyplot as plt\n",
    "import seaborn as sns\n",
    "%matplotlib inline\n",
    "\n",
    "df_machine_1_data = df_machine_data[df_machine_data[\"machine_id\"] == \"Machine_1\"]\n",
    "sns.lineplot(df_machine_1_data, x=\"date\", y=\"sensor_data\")"
   ]
  },
  {
   "cell_type": "code",
   "execution_count": null,
   "metadata": {},
   "outputs": [
    {
     "ename": "ValueError",
     "evalue": "cannot reindex on an axis with duplicate labels",
     "output_type": "error",
     "traceback": [
      "\u001b[0;31m---------------------------------------------------------------------------\u001b[0m",
      "\u001b[0;31mValueError\u001b[0m                                Traceback (most recent call last)",
      "Cell \u001b[0;32mIn[57], line 1\u001b[0m\n\u001b[0;32m----> 1\u001b[0m \u001b[43msns\u001b[49m\u001b[38;5;241;43m.\u001b[39;49m\u001b[43mscatterplot\u001b[49m\u001b[43m(\u001b[49m\u001b[43mdf_machine_1_data\u001b[49m\u001b[43m,\u001b[49m\u001b[43m \u001b[49m\u001b[43mx\u001b[49m\u001b[38;5;241;43m=\u001b[39;49m\u001b[38;5;124;43m\"\u001b[39;49m\u001b[38;5;124;43mdate\u001b[39;49m\u001b[38;5;124;43m\"\u001b[39;49m\u001b[43m,\u001b[49m\u001b[43m \u001b[49m\u001b[43my\u001b[49m\u001b[38;5;241;43m=\u001b[39;49m\u001b[38;5;124;43m\"\u001b[39;49m\u001b[38;5;124;43malarms\u001b[39;49m\u001b[38;5;124;43m\"\u001b[39;49m\u001b[43m)\u001b[49m\n",
      "File \u001b[0;32m/opt/homebrew/Caskroom/miniforge/base/envs/fresenius/lib/python3.10/site-packages/seaborn/relational.py:636\u001b[0m, in \u001b[0;36mscatterplot\u001b[0;34m(data, x, y, hue, size, style, palette, hue_order, hue_norm, sizes, size_order, size_norm, markers, style_order, legend, ax, **kwargs)\u001b[0m\n\u001b[1;32m    633\u001b[0m color \u001b[38;5;241m=\u001b[39m kwargs\u001b[38;5;241m.\u001b[39mpop(\u001b[38;5;124m\"\u001b[39m\u001b[38;5;124mcolor\u001b[39m\u001b[38;5;124m\"\u001b[39m, \u001b[38;5;28;01mNone\u001b[39;00m)\n\u001b[1;32m    634\u001b[0m kwargs[\u001b[38;5;124m\"\u001b[39m\u001b[38;5;124mcolor\u001b[39m\u001b[38;5;124m\"\u001b[39m] \u001b[38;5;241m=\u001b[39m _default_color(ax\u001b[38;5;241m.\u001b[39mscatter, hue, color, kwargs)\n\u001b[0;32m--> 636\u001b[0m \u001b[43mp\u001b[49m\u001b[38;5;241;43m.\u001b[39;49m\u001b[43mplot\u001b[49m\u001b[43m(\u001b[49m\u001b[43max\u001b[49m\u001b[43m,\u001b[49m\u001b[43m \u001b[49m\u001b[43mkwargs\u001b[49m\u001b[43m)\u001b[49m\n\u001b[1;32m    638\u001b[0m \u001b[38;5;28;01mreturn\u001b[39;00m ax\n",
      "File \u001b[0;32m/opt/homebrew/Caskroom/miniforge/base/envs/fresenius/lib/python3.10/site-packages/seaborn/relational.py:404\u001b[0m, in \u001b[0;36m_ScatterPlotter.plot\u001b[0;34m(self, ax, kws)\u001b[0m\n\u001b[1;32m    400\u001b[0m \u001b[38;5;28;01mdef\u001b[39;00m \u001b[38;5;21mplot\u001b[39m(\u001b[38;5;28mself\u001b[39m, ax, kws):\n\u001b[1;32m    401\u001b[0m \n\u001b[1;32m    402\u001b[0m     \u001b[38;5;66;03m# --- Determine the visual attributes of the plot\u001b[39;00m\n\u001b[0;32m--> 404\u001b[0m     data \u001b[38;5;241m=\u001b[39m \u001b[38;5;28;43mself\u001b[39;49m\u001b[38;5;241;43m.\u001b[39;49m\u001b[43mcomp_data\u001b[49m\u001b[38;5;241m.\u001b[39mdropna()\n\u001b[1;32m    405\u001b[0m     \u001b[38;5;28;01mif\u001b[39;00m data\u001b[38;5;241m.\u001b[39mempty:\n\u001b[1;32m    406\u001b[0m         \u001b[38;5;28;01mreturn\u001b[39;00m\n",
      "File \u001b[0;32m/opt/homebrew/Caskroom/miniforge/base/envs/fresenius/lib/python3.10/site-packages/seaborn/_base.py:1007\u001b[0m, in \u001b[0;36mVectorPlotter.comp_data\u001b[0;34m(self)\u001b[0m\n\u001b[1;32m   1005\u001b[0m         \u001b[38;5;28;01melse\u001b[39;00m:\n\u001b[1;32m   1006\u001b[0m             comp_col \u001b[38;5;241m=\u001b[39m pd\u001b[38;5;241m.\u001b[39mSeries(dtype\u001b[38;5;241m=\u001b[39m\u001b[38;5;28mfloat\u001b[39m, name\u001b[38;5;241m=\u001b[39mvar)\n\u001b[0;32m-> 1007\u001b[0m         \u001b[43mcomp_data\u001b[49m\u001b[38;5;241;43m.\u001b[39;49m\u001b[43minsert\u001b[49m\u001b[43m(\u001b[49m\u001b[38;5;241;43m0\u001b[39;49m\u001b[43m,\u001b[49m\u001b[43m \u001b[49m\u001b[43mvar\u001b[49m\u001b[43m,\u001b[49m\u001b[43m \u001b[49m\u001b[43mcomp_col\u001b[49m\u001b[43m)\u001b[49m\n\u001b[1;32m   1009\u001b[0m     \u001b[38;5;28mself\u001b[39m\u001b[38;5;241m.\u001b[39m_comp_data \u001b[38;5;241m=\u001b[39m comp_data\n\u001b[1;32m   1011\u001b[0m \u001b[38;5;28;01mreturn\u001b[39;00m \u001b[38;5;28mself\u001b[39m\u001b[38;5;241m.\u001b[39m_comp_data\n",
      "File \u001b[0;32m/opt/homebrew/Caskroom/miniforge/base/envs/fresenius/lib/python3.10/site-packages/pandas/core/frame.py:5171\u001b[0m, in \u001b[0;36mDataFrame.insert\u001b[0;34m(self, loc, column, value, allow_duplicates)\u001b[0m\n\u001b[1;32m   5168\u001b[0m \u001b[38;5;28;01melif\u001b[39;00m \u001b[38;5;28misinstance\u001b[39m(value, DataFrame):\n\u001b[1;32m   5169\u001b[0m     value \u001b[38;5;241m=\u001b[39m value\u001b[38;5;241m.\u001b[39miloc[:, \u001b[38;5;241m0\u001b[39m]\n\u001b[0;32m-> 5171\u001b[0m value, refs \u001b[38;5;241m=\u001b[39m \u001b[38;5;28;43mself\u001b[39;49m\u001b[38;5;241;43m.\u001b[39;49m\u001b[43m_sanitize_column\u001b[49m\u001b[43m(\u001b[49m\u001b[43mvalue\u001b[49m\u001b[43m)\u001b[49m\n\u001b[1;32m   5172\u001b[0m \u001b[38;5;28mself\u001b[39m\u001b[38;5;241m.\u001b[39m_mgr\u001b[38;5;241m.\u001b[39minsert(loc, column, value, refs\u001b[38;5;241m=\u001b[39mrefs)\n",
      "File \u001b[0;32m/opt/homebrew/Caskroom/miniforge/base/envs/fresenius/lib/python3.10/site-packages/pandas/core/frame.py:5263\u001b[0m, in \u001b[0;36mDataFrame._sanitize_column\u001b[0;34m(self, value)\u001b[0m\n\u001b[1;32m   5261\u001b[0m     \u001b[38;5;28;01mif\u001b[39;00m \u001b[38;5;129;01mnot\u001b[39;00m \u001b[38;5;28misinstance\u001b[39m(value, Series):\n\u001b[1;32m   5262\u001b[0m         value \u001b[38;5;241m=\u001b[39m Series(value)\n\u001b[0;32m-> 5263\u001b[0m     \u001b[38;5;28;01mreturn\u001b[39;00m \u001b[43m_reindex_for_setitem\u001b[49m\u001b[43m(\u001b[49m\u001b[43mvalue\u001b[49m\u001b[43m,\u001b[49m\u001b[43m \u001b[49m\u001b[38;5;28;43mself\u001b[39;49m\u001b[38;5;241;43m.\u001b[39;49m\u001b[43mindex\u001b[49m\u001b[43m)\u001b[49m\n\u001b[1;32m   5265\u001b[0m \u001b[38;5;28;01mif\u001b[39;00m is_list_like(value):\n\u001b[1;32m   5266\u001b[0m     com\u001b[38;5;241m.\u001b[39mrequire_length_match(value, \u001b[38;5;28mself\u001b[39m\u001b[38;5;241m.\u001b[39mindex)\n",
      "File \u001b[0;32m/opt/homebrew/Caskroom/miniforge/base/envs/fresenius/lib/python3.10/site-packages/pandas/core/frame.py:12692\u001b[0m, in \u001b[0;36m_reindex_for_setitem\u001b[0;34m(value, index)\u001b[0m\n\u001b[1;32m  12688\u001b[0m \u001b[38;5;28;01mexcept\u001b[39;00m \u001b[38;5;167;01mValueError\u001b[39;00m \u001b[38;5;28;01mas\u001b[39;00m err:\n\u001b[1;32m  12689\u001b[0m     \u001b[38;5;66;03m# raised in MultiIndex.from_tuples, see test_insert_error_msmgs\u001b[39;00m\n\u001b[1;32m  12690\u001b[0m     \u001b[38;5;28;01mif\u001b[39;00m \u001b[38;5;129;01mnot\u001b[39;00m value\u001b[38;5;241m.\u001b[39mindex\u001b[38;5;241m.\u001b[39mis_unique:\n\u001b[1;32m  12691\u001b[0m         \u001b[38;5;66;03m# duplicate axis\u001b[39;00m\n\u001b[0;32m> 12692\u001b[0m         \u001b[38;5;28;01mraise\u001b[39;00m err\n\u001b[1;32m  12694\u001b[0m     \u001b[38;5;28;01mraise\u001b[39;00m \u001b[38;5;167;01mTypeError\u001b[39;00m(\n\u001b[1;32m  12695\u001b[0m         \u001b[38;5;124m\"\u001b[39m\u001b[38;5;124mincompatible index of inserted column with frame index\u001b[39m\u001b[38;5;124m\"\u001b[39m\n\u001b[1;32m  12696\u001b[0m     ) \u001b[38;5;28;01mfrom\u001b[39;00m \u001b[38;5;21;01merr\u001b[39;00m\n\u001b[1;32m  12697\u001b[0m \u001b[38;5;28;01mreturn\u001b[39;00m reindexed_value, \u001b[38;5;28;01mNone\u001b[39;00m\n",
      "File \u001b[0;32m/opt/homebrew/Caskroom/miniforge/base/envs/fresenius/lib/python3.10/site-packages/pandas/core/frame.py:12687\u001b[0m, in \u001b[0;36m_reindex_for_setitem\u001b[0;34m(value, index)\u001b[0m\n\u001b[1;32m  12685\u001b[0m \u001b[38;5;66;03m# GH#4107\u001b[39;00m\n\u001b[1;32m  12686\u001b[0m \u001b[38;5;28;01mtry\u001b[39;00m:\n\u001b[0;32m> 12687\u001b[0m     reindexed_value \u001b[38;5;241m=\u001b[39m \u001b[43mvalue\u001b[49m\u001b[38;5;241;43m.\u001b[39;49m\u001b[43mreindex\u001b[49m\u001b[43m(\u001b[49m\u001b[43mindex\u001b[49m\u001b[43m)\u001b[49m\u001b[38;5;241m.\u001b[39m_values\n\u001b[1;32m  12688\u001b[0m \u001b[38;5;28;01mexcept\u001b[39;00m \u001b[38;5;167;01mValueError\u001b[39;00m \u001b[38;5;28;01mas\u001b[39;00m err:\n\u001b[1;32m  12689\u001b[0m     \u001b[38;5;66;03m# raised in MultiIndex.from_tuples, see test_insert_error_msmgs\u001b[39;00m\n\u001b[1;32m  12690\u001b[0m     \u001b[38;5;28;01mif\u001b[39;00m \u001b[38;5;129;01mnot\u001b[39;00m value\u001b[38;5;241m.\u001b[39mindex\u001b[38;5;241m.\u001b[39mis_unique:\n\u001b[1;32m  12691\u001b[0m         \u001b[38;5;66;03m# duplicate axis\u001b[39;00m\n",
      "File \u001b[0;32m/opt/homebrew/Caskroom/miniforge/base/envs/fresenius/lib/python3.10/site-packages/pandas/core/series.py:5153\u001b[0m, in \u001b[0;36mSeries.reindex\u001b[0;34m(self, index, axis, method, copy, level, fill_value, limit, tolerance)\u001b[0m\n\u001b[1;32m   5136\u001b[0m \u001b[38;5;129m@doc\u001b[39m(\n\u001b[1;32m   5137\u001b[0m     NDFrame\u001b[38;5;241m.\u001b[39mreindex,  \u001b[38;5;66;03m# type: ignore[has-type]\u001b[39;00m\n\u001b[1;32m   5138\u001b[0m     klass\u001b[38;5;241m=\u001b[39m_shared_doc_kwargs[\u001b[38;5;124m\"\u001b[39m\u001b[38;5;124mklass\u001b[39m\u001b[38;5;124m\"\u001b[39m],\n\u001b[0;32m   (...)\u001b[0m\n\u001b[1;32m   5151\u001b[0m     tolerance\u001b[38;5;241m=\u001b[39m\u001b[38;5;28;01mNone\u001b[39;00m,\n\u001b[1;32m   5152\u001b[0m ) \u001b[38;5;241m-\u001b[39m\u001b[38;5;241m>\u001b[39m Series:\n\u001b[0;32m-> 5153\u001b[0m     \u001b[38;5;28;01mreturn\u001b[39;00m \u001b[38;5;28;43msuper\u001b[39;49m\u001b[43m(\u001b[49m\u001b[43m)\u001b[49m\u001b[38;5;241;43m.\u001b[39;49m\u001b[43mreindex\u001b[49m\u001b[43m(\u001b[49m\n\u001b[1;32m   5154\u001b[0m \u001b[43m        \u001b[49m\u001b[43mindex\u001b[49m\u001b[38;5;241;43m=\u001b[39;49m\u001b[43mindex\u001b[49m\u001b[43m,\u001b[49m\n\u001b[1;32m   5155\u001b[0m \u001b[43m        \u001b[49m\u001b[43mmethod\u001b[49m\u001b[38;5;241;43m=\u001b[39;49m\u001b[43mmethod\u001b[49m\u001b[43m,\u001b[49m\n\u001b[1;32m   5156\u001b[0m \u001b[43m        \u001b[49m\u001b[43mcopy\u001b[49m\u001b[38;5;241;43m=\u001b[39;49m\u001b[43mcopy\u001b[49m\u001b[43m,\u001b[49m\n\u001b[1;32m   5157\u001b[0m \u001b[43m        \u001b[49m\u001b[43mlevel\u001b[49m\u001b[38;5;241;43m=\u001b[39;49m\u001b[43mlevel\u001b[49m\u001b[43m,\u001b[49m\n\u001b[1;32m   5158\u001b[0m \u001b[43m        \u001b[49m\u001b[43mfill_value\u001b[49m\u001b[38;5;241;43m=\u001b[39;49m\u001b[43mfill_value\u001b[49m\u001b[43m,\u001b[49m\n\u001b[1;32m   5159\u001b[0m \u001b[43m        \u001b[49m\u001b[43mlimit\u001b[49m\u001b[38;5;241;43m=\u001b[39;49m\u001b[43mlimit\u001b[49m\u001b[43m,\u001b[49m\n\u001b[1;32m   5160\u001b[0m \u001b[43m        \u001b[49m\u001b[43mtolerance\u001b[49m\u001b[38;5;241;43m=\u001b[39;49m\u001b[43mtolerance\u001b[49m\u001b[43m,\u001b[49m\n\u001b[1;32m   5161\u001b[0m \u001b[43m    \u001b[49m\u001b[43m)\u001b[49m\n",
      "File \u001b[0;32m/opt/homebrew/Caskroom/miniforge/base/envs/fresenius/lib/python3.10/site-packages/pandas/core/generic.py:5610\u001b[0m, in \u001b[0;36mNDFrame.reindex\u001b[0;34m(self, labels, index, columns, axis, method, copy, level, fill_value, limit, tolerance)\u001b[0m\n\u001b[1;32m   5607\u001b[0m     \u001b[38;5;28;01mreturn\u001b[39;00m \u001b[38;5;28mself\u001b[39m\u001b[38;5;241m.\u001b[39m_reindex_multi(axes, copy, fill_value)\n\u001b[1;32m   5609\u001b[0m \u001b[38;5;66;03m# perform the reindex on the axes\u001b[39;00m\n\u001b[0;32m-> 5610\u001b[0m \u001b[38;5;28;01mreturn\u001b[39;00m \u001b[38;5;28;43mself\u001b[39;49m\u001b[38;5;241;43m.\u001b[39;49m\u001b[43m_reindex_axes\u001b[49m\u001b[43m(\u001b[49m\n\u001b[1;32m   5611\u001b[0m \u001b[43m    \u001b[49m\u001b[43maxes\u001b[49m\u001b[43m,\u001b[49m\u001b[43m \u001b[49m\u001b[43mlevel\u001b[49m\u001b[43m,\u001b[49m\u001b[43m \u001b[49m\u001b[43mlimit\u001b[49m\u001b[43m,\u001b[49m\u001b[43m \u001b[49m\u001b[43mtolerance\u001b[49m\u001b[43m,\u001b[49m\u001b[43m \u001b[49m\u001b[43mmethod\u001b[49m\u001b[43m,\u001b[49m\u001b[43m \u001b[49m\u001b[43mfill_value\u001b[49m\u001b[43m,\u001b[49m\u001b[43m \u001b[49m\u001b[43mcopy\u001b[49m\n\u001b[1;32m   5612\u001b[0m \u001b[43m\u001b[49m\u001b[43m)\u001b[49m\u001b[38;5;241m.\u001b[39m__finalize__(\u001b[38;5;28mself\u001b[39m, method\u001b[38;5;241m=\u001b[39m\u001b[38;5;124m\"\u001b[39m\u001b[38;5;124mreindex\u001b[39m\u001b[38;5;124m\"\u001b[39m)\n",
      "File \u001b[0;32m/opt/homebrew/Caskroom/miniforge/base/envs/fresenius/lib/python3.10/site-packages/pandas/core/generic.py:5633\u001b[0m, in \u001b[0;36mNDFrame._reindex_axes\u001b[0;34m(self, axes, level, limit, tolerance, method, fill_value, copy)\u001b[0m\n\u001b[1;32m   5630\u001b[0m     \u001b[38;5;28;01mcontinue\u001b[39;00m\n\u001b[1;32m   5632\u001b[0m ax \u001b[38;5;241m=\u001b[39m \u001b[38;5;28mself\u001b[39m\u001b[38;5;241m.\u001b[39m_get_axis(a)\n\u001b[0;32m-> 5633\u001b[0m new_index, indexer \u001b[38;5;241m=\u001b[39m \u001b[43max\u001b[49m\u001b[38;5;241;43m.\u001b[39;49m\u001b[43mreindex\u001b[49m\u001b[43m(\u001b[49m\n\u001b[1;32m   5634\u001b[0m \u001b[43m    \u001b[49m\u001b[43mlabels\u001b[49m\u001b[43m,\u001b[49m\u001b[43m \u001b[49m\u001b[43mlevel\u001b[49m\u001b[38;5;241;43m=\u001b[39;49m\u001b[43mlevel\u001b[49m\u001b[43m,\u001b[49m\u001b[43m \u001b[49m\u001b[43mlimit\u001b[49m\u001b[38;5;241;43m=\u001b[39;49m\u001b[43mlimit\u001b[49m\u001b[43m,\u001b[49m\u001b[43m \u001b[49m\u001b[43mtolerance\u001b[49m\u001b[38;5;241;43m=\u001b[39;49m\u001b[43mtolerance\u001b[49m\u001b[43m,\u001b[49m\u001b[43m \u001b[49m\u001b[43mmethod\u001b[49m\u001b[38;5;241;43m=\u001b[39;49m\u001b[43mmethod\u001b[49m\n\u001b[1;32m   5635\u001b[0m \u001b[43m\u001b[49m\u001b[43m)\u001b[49m\n\u001b[1;32m   5637\u001b[0m axis \u001b[38;5;241m=\u001b[39m \u001b[38;5;28mself\u001b[39m\u001b[38;5;241m.\u001b[39m_get_axis_number(a)\n\u001b[1;32m   5638\u001b[0m obj \u001b[38;5;241m=\u001b[39m obj\u001b[38;5;241m.\u001b[39m_reindex_with_indexers(\n\u001b[1;32m   5639\u001b[0m     {axis: [new_index, indexer]},\n\u001b[1;32m   5640\u001b[0m     fill_value\u001b[38;5;241m=\u001b[39mfill_value,\n\u001b[1;32m   5641\u001b[0m     copy\u001b[38;5;241m=\u001b[39mcopy,\n\u001b[1;32m   5642\u001b[0m     allow_dups\u001b[38;5;241m=\u001b[39m\u001b[38;5;28;01mFalse\u001b[39;00m,\n\u001b[1;32m   5643\u001b[0m )\n",
      "File \u001b[0;32m/opt/homebrew/Caskroom/miniforge/base/envs/fresenius/lib/python3.10/site-packages/pandas/core/indexes/base.py:4429\u001b[0m, in \u001b[0;36mIndex.reindex\u001b[0;34m(self, target, method, level, limit, tolerance)\u001b[0m\n\u001b[1;32m   4426\u001b[0m     \u001b[38;5;28;01mraise\u001b[39;00m \u001b[38;5;167;01mValueError\u001b[39;00m(\u001b[38;5;124m\"\u001b[39m\u001b[38;5;124mcannot handle a non-unique multi-index!\u001b[39m\u001b[38;5;124m\"\u001b[39m)\n\u001b[1;32m   4427\u001b[0m \u001b[38;5;28;01melif\u001b[39;00m \u001b[38;5;129;01mnot\u001b[39;00m \u001b[38;5;28mself\u001b[39m\u001b[38;5;241m.\u001b[39mis_unique:\n\u001b[1;32m   4428\u001b[0m     \u001b[38;5;66;03m# GH#42568\u001b[39;00m\n\u001b[0;32m-> 4429\u001b[0m     \u001b[38;5;28;01mraise\u001b[39;00m \u001b[38;5;167;01mValueError\u001b[39;00m(\u001b[38;5;124m\"\u001b[39m\u001b[38;5;124mcannot reindex on an axis with duplicate labels\u001b[39m\u001b[38;5;124m\"\u001b[39m)\n\u001b[1;32m   4430\u001b[0m \u001b[38;5;28;01melse\u001b[39;00m:\n\u001b[1;32m   4431\u001b[0m     indexer, _ \u001b[38;5;241m=\u001b[39m \u001b[38;5;28mself\u001b[39m\u001b[38;5;241m.\u001b[39mget_indexer_non_unique(target)\n",
      "\u001b[0;31mValueError\u001b[0m: cannot reindex on an axis with duplicate labels"
     ]
    },
    {
     "data": {
      "image/png": "[encoded data removed]",
      "text/plain": [
       "<Figure size 640x480 with 1 Axes>"
      ]
     },
     "metadata": {},
     "output_type": "display_data"
    }
   ],
   "source": [
    "plt"
   ]
  },
  {
   "cell_type": "markdown",
   "metadata": {},
   "source": [
    "### Chart nb of warning"
   ]
  },
  {
   "cell_type": "code",
   "execution_count": null,
   "metadata": {},
   "outputs": [
    {
     "data": {
      "text/html": [
       "<div>\n",
       "<style scoped>\n",
       "    .dataframe tbody tr th:only-of-type {\n",
       "        vertical-align: middle;\n",
       "    }\n",
       "\n",
       "    .dataframe tbody tr th {\n",
       "        vertical-align: top;\n",
       "    }\n",
       "\n",
       "    .dataframe thead th {\n",
       "        text-align: right;\n",
       "    }\n",
       "</style>\n",
       "<table border=\"1\" class=\"dataframe\">\n",
       "  <thead>\n",
       "    <tr style=\"text-align: right;\">\n",
       "      <th></th>\n",
       "      <th></th>\n",
       "      <th>num_warnings</th>\n",
       "    </tr>\n",
       "    <tr>\n",
       "      <th>machine_id</th>\n",
       "      <th>model</th>\n",
       "      <th></th>\n",
       "    </tr>\n",
       "  </thead>\n",
       "  <tbody>\n",
       "    <tr>\n",
       "      <th>Machine_4</th>\n",
       "      <th>Model_Z</th>\n",
       "      <td>85</td>\n",
       "    </tr>\n",
       "    <tr>\n",
       "      <th>Machine_10</th>\n",
       "      <th>Model_X</th>\n",
       "      <td>83</td>\n",
       "    </tr>\n",
       "    <tr>\n",
       "      <th>Machine_3</th>\n",
       "      <th>Model_Y</th>\n",
       "      <td>69</td>\n",
       "    </tr>\n",
       "    <tr>\n",
       "      <th>Machine_5</th>\n",
       "      <th>Model_Y</th>\n",
       "      <td>63</td>\n",
       "    </tr>\n",
       "    <tr>\n",
       "      <th>Machine_1</th>\n",
       "      <th>Model_X</th>\n",
       "      <td>54</td>\n",
       "    </tr>\n",
       "    <tr>\n",
       "      <th>Machine_9</th>\n",
       "      <th>Model_X</th>\n",
       "      <td>54</td>\n",
       "    </tr>\n",
       "    <tr>\n",
       "      <th>Machine_8</th>\n",
       "      <th>Model_X</th>\n",
       "      <td>44</td>\n",
       "    </tr>\n",
       "    <tr>\n",
       "      <th>Machine_2</th>\n",
       "      <th>Model_X</th>\n",
       "      <td>43</td>\n",
       "    </tr>\n",
       "    <tr>\n",
       "      <th>Machine_6</th>\n",
       "      <th>Model_X</th>\n",
       "      <td>43</td>\n",
       "    </tr>\n",
       "    <tr>\n",
       "      <th>Machine_7</th>\n",
       "      <th>Model_Z</th>\n",
       "      <td>40</td>\n",
       "    </tr>\n",
       "  </tbody>\n",
       "</table>\n",
       "</div>"
      ],
      "text/plain": [
       "                    num_warnings\n",
       "machine_id model                \n",
       "Machine_4  Model_Z            85\n",
       "Machine_10 Model_X            83\n",
       "Machine_3  Model_Y            69\n",
       "Machine_5  Model_Y            63\n",
       "Machine_1  Model_X            54\n",
       "Machine_9  Model_X            54\n",
       "Machine_8  Model_X            44\n",
       "Machine_2  Model_X            43\n",
       "Machine_6  Model_X            43\n",
       "Machine_7  Model_Z            40"
      ]
     },
     "execution_count": 61,
     "metadata": {},
     "output_type": "execute_result"
    }
   ],
   "source": [
    "df_machine_nb_warning = (\n",
    "    df_machine_data_detailed.groupby([\"machine_id\", \"model\"])\n",
    "    .agg({\"num_warnings\": \"sum\"})\n",
    "    .sort_values(\"num_warnings\", ascending=False)\n",
    ")\n",
    "df_machine_nb_warning.head(10)"
   ]
  },
  {
   "cell_type": "code",
   "execution_count": null,
   "metadata": {},
   "outputs": [
    {
     "data": {
      "text/plain": [
       "<Axes: xlabel='num_warnings', ylabel='machine_id'>"
      ]
     },
     "execution_count": 64,
     "metadata": {},
     "output_type": "execute_result"
    },
    {
     "data": {
      "image/png": "[encoded data removed]",
      "text/plain": [
       "<Figure size 640x480 with 1 Axes>"
      ]
     },
     "metadata": {},
     "output_type": "display_data"
    }
   ],
   "source": [
    "sns.barplot(\n",
    "    df_machine_nb_warning, y=\"machine_id\", x=\"num_warnings\", hue=\"model\"\n",
    ")"
   ]
  }
 ],
 "metadata": {
  "kernelspec": {
   "display_name": "fresenius",
   "language": "python",
   "name": "python3"
  },
  "language_info": {
   "codemirror_mode": {
    "name": "ipython",
    "version": 3
   },
   "file_extension": ".py",
   "mimetype": "text/x-python",
   "name": "python",
   "nbconvert_exporter": "python",
   "pygments_lexer": "ipython3",
   "version": "3.10.15"
  }
 },
 "nbformat": 4,
 "nbformat_minor": 2
}
