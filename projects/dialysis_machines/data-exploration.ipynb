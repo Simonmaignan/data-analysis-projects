{
 "cells": [
  {
   "cell_type": "markdown",
   "metadata": {},
   "source": [
    "# Dialysis machines\n",
    "This Notebook makes an exploratory analysis the datasets found under `./dataset`\n",
    "\n",
    "## Data Gathering\n",
    "Load the local parquet files inside a Pandas `DataFrame`.\n",
    "\n",
    "### Machine 1"
   ]
  },
  {
   "cell_type": "code",
   "execution_count": 6,
   "metadata": {},
   "outputs": [
    {
     "name": "stdout",
     "output_type": "stream",
     "text": [
      "The machine 1 data set has 3832 records with 7 variables.\n"
     ]
    },
    {
     "data": {
      "text/html": [
       "<div>\n",
       "<style scoped>\n",
       "    .dataframe tbody tr th:only-of-type {\n",
       "        vertical-align: middle;\n",
       "    }\n",
       "\n",
       "    .dataframe tbody tr th {\n",
       "        vertical-align: top;\n",
       "    }\n",
       "\n",
       "    .dataframe thead th {\n",
       "        text-align: right;\n",
       "    }\n",
       "</style>\n",
       "<table border=\"1\" class=\"dataframe\">\n",
       "  <thead>\n",
       "    <tr style=\"text-align: right;\">\n",
       "      <th></th>\n",
       "      <th>machine_id</th>\n",
       "      <th>date</th>\n",
       "      <th>num_treatments</th>\n",
       "      <th>hours_of_operation</th>\n",
       "      <th>alarms</th>\n",
       "      <th>num_warnings</th>\n",
       "      <th>sensor_data</th>\n",
       "    </tr>\n",
       "  </thead>\n",
       "  <tbody>\n",
       "    <tr>\n",
       "      <th>0</th>\n",
       "      <td>Machine_1</td>\n",
       "      <td>2023-06-01 09:46:28.611018</td>\n",
       "      <td>1</td>\n",
       "      <td>1.561568</td>\n",
       "      <td>None</td>\n",
       "      <td>0</td>\n",
       "      <td>0.747587</td>\n",
       "    </tr>\n",
       "    <tr>\n",
       "      <th>1</th>\n",
       "      <td>Machine_1</td>\n",
       "      <td>2023-06-02 09:46:28.611018</td>\n",
       "      <td>9</td>\n",
       "      <td>11.670001</td>\n",
       "      <td>None</td>\n",
       "      <td>0</td>\n",
       "      <td>0.725209</td>\n",
       "    </tr>\n",
       "    <tr>\n",
       "      <th>2</th>\n",
       "      <td>Machine_1</td>\n",
       "      <td>2023-06-03 09:46:28.611018</td>\n",
       "      <td>4</td>\n",
       "      <td>6.345075</td>\n",
       "      <td>High Temperature</td>\n",
       "      <td>1</td>\n",
       "      <td>0.773772</td>\n",
       "    </tr>\n",
       "    <tr>\n",
       "      <th>3</th>\n",
       "      <td>Machine_1</td>\n",
       "      <td>2023-06-04 09:46:28.611018</td>\n",
       "      <td>5</td>\n",
       "      <td>8.521391</td>\n",
       "      <td>None</td>\n",
       "      <td>0</td>\n",
       "      <td>0.728383</td>\n",
       "    </tr>\n",
       "    <tr>\n",
       "      <th>4</th>\n",
       "      <td>Machine_1</td>\n",
       "      <td>2023-06-05 09:46:28.611018</td>\n",
       "      <td>2</td>\n",
       "      <td>2.893482</td>\n",
       "      <td>None</td>\n",
       "      <td>0</td>\n",
       "      <td>0.780066</td>\n",
       "    </tr>\n",
       "  </tbody>\n",
       "</table>\n",
       "</div>"
      ],
      "text/plain": [
       "  machine_id                       date  num_treatments  hours_of_operation  \\\n",
       "0  Machine_1 2023-06-01 09:46:28.611018               1            1.561568   \n",
       "1  Machine_1 2023-06-02 09:46:28.611018               9           11.670001   \n",
       "2  Machine_1 2023-06-03 09:46:28.611018               4            6.345075   \n",
       "3  Machine_1 2023-06-04 09:46:28.611018               5            8.521391   \n",
       "4  Machine_1 2023-06-05 09:46:28.611018               2            2.893482   \n",
       "\n",
       "             alarms  num_warnings  sensor_data  \n",
       "0              None             0     0.747587  \n",
       "1              None             0     0.725209  \n",
       "2  High Temperature             1     0.773772  \n",
       "3              None             0     0.728383  \n",
       "4              None             0     0.780066  "
      ]
     },
     "execution_count": 6,
     "metadata": {},
     "output_type": "execute_result"
    }
   ],
   "source": [
    "import pandas as pd\n",
    "\n",
    "df_machine_1 = pd.read_parquet(\"dataset/machine_data_1.parquet\")\n",
    "print(\n",
    "    f\"The machine 1 data set has {len(df_machine_1)} records with {df_machine_1.shape[1]} variables.\"\n",
    ")\n",
    "df_machine_1.head()"
   ]
  },
  {
   "cell_type": "code",
   "execution_count": 7,
   "metadata": {},
   "outputs": [
    {
     "name": "stdout",
     "output_type": "stream",
     "text": [
      "<class 'pandas.core.frame.DataFrame'>\n",
      "Index: 3832 entries, 0 to 2015\n",
      "Data columns (total 7 columns):\n",
      " #   Column              Non-Null Count  Dtype         \n",
      "---  ------              --------------  -----         \n",
      " 0   machine_id          3832 non-null   object        \n",
      " 1   date                3832 non-null   datetime64[ns]\n",
      " 2   num_treatments      3832 non-null   int64         \n",
      " 3   hours_of_operation  3832 non-null   float64       \n",
      " 4   alarms              212 non-null    object        \n",
      " 5   num_warnings        3832 non-null   int64         \n",
      " 6   sensor_data         3832 non-null   float64       \n",
      "dtypes: datetime64[ns](1), float64(2), int64(2), object(2)\n",
      "memory usage: 239.5+ KB\n"
     ]
    }
   ],
   "source": [
    "df_machine_1.info()"
   ]
  },
  {
   "cell_type": "markdown",
   "metadata": {},
   "source": [
    "### Machine 2"
   ]
  },
  {
   "cell_type": "code",
   "execution_count": 8,
   "metadata": {},
   "outputs": [
    {
     "name": "stdout",
     "output_type": "stream",
     "text": [
      "The machine 2 data set has 3832 records with 7 variables.\n"
     ]
    },
    {
     "data": {
      "text/html": [
       "<div>\n",
       "<style scoped>\n",
       "    .dataframe tbody tr th:only-of-type {\n",
       "        vertical-align: middle;\n",
       "    }\n",
       "\n",
       "    .dataframe tbody tr th {\n",
       "        vertical-align: top;\n",
       "    }\n",
       "\n",
       "    .dataframe thead th {\n",
       "        text-align: right;\n",
       "    }\n",
       "</style>\n",
       "<table border=\"1\" class=\"dataframe\">\n",
       "  <thead>\n",
       "    <tr style=\"text-align: right;\">\n",
       "      <th></th>\n",
       "      <th>machine_id</th>\n",
       "      <th>date</th>\n",
       "      <th>num_treatments</th>\n",
       "      <th>hours_of_operation</th>\n",
       "      <th>alarms</th>\n",
       "      <th>num_warnings</th>\n",
       "      <th>sensor_data</th>\n",
       "    </tr>\n",
       "  </thead>\n",
       "  <tbody>\n",
       "    <tr>\n",
       "      <th>0</th>\n",
       "      <td>Machine_1</td>\n",
       "      <td>2023-06-01 09:46:28.611018</td>\n",
       "      <td>10</td>\n",
       "      <td>16.739101</td>\n",
       "      <td>None</td>\n",
       "      <td>0</td>\n",
       "      <td>0.760686</td>\n",
       "    </tr>\n",
       "    <tr>\n",
       "      <th>1</th>\n",
       "      <td>Machine_1</td>\n",
       "      <td>2023-06-02 09:46:28.611018</td>\n",
       "      <td>9</td>\n",
       "      <td>15.811422</td>\n",
       "      <td>None</td>\n",
       "      <td>0</td>\n",
       "      <td>0.768058</td>\n",
       "    </tr>\n",
       "    <tr>\n",
       "      <th>2</th>\n",
       "      <td>Machine_1</td>\n",
       "      <td>2023-06-03 09:46:28.611018</td>\n",
       "      <td>9</td>\n",
       "      <td>17.964906</td>\n",
       "      <td>None</td>\n",
       "      <td>0</td>\n",
       "      <td>0.747932</td>\n",
       "    </tr>\n",
       "    <tr>\n",
       "      <th>3</th>\n",
       "      <td>Machine_1</td>\n",
       "      <td>2023-06-04 09:46:28.611018</td>\n",
       "      <td>9</td>\n",
       "      <td>17.250504</td>\n",
       "      <td>None</td>\n",
       "      <td>0</td>\n",
       "      <td>0.760337</td>\n",
       "    </tr>\n",
       "    <tr>\n",
       "      <th>4</th>\n",
       "      <td>Machine_1</td>\n",
       "      <td>2023-06-05 09:46:28.611018</td>\n",
       "      <td>7</td>\n",
       "      <td>8.173130</td>\n",
       "      <td>None</td>\n",
       "      <td>0</td>\n",
       "      <td>0.779009</td>\n",
       "    </tr>\n",
       "  </tbody>\n",
       "</table>\n",
       "</div>"
      ],
      "text/plain": [
       "  machine_id                       date  num_treatments  hours_of_operation  \\\n",
       "0  Machine_1 2023-06-01 09:46:28.611018              10           16.739101   \n",
       "1  Machine_1 2023-06-02 09:46:28.611018               9           15.811422   \n",
       "2  Machine_1 2023-06-03 09:46:28.611018               9           17.964906   \n",
       "3  Machine_1 2023-06-04 09:46:28.611018               9           17.250504   \n",
       "4  Machine_1 2023-06-05 09:46:28.611018               7            8.173130   \n",
       "\n",
       "  alarms  num_warnings  sensor_data  \n",
       "0   None             0     0.760686  \n",
       "1   None             0     0.768058  \n",
       "2   None             0     0.747932  \n",
       "3   None             0     0.760337  \n",
       "4   None             0     0.779009  "
      ]
     },
     "execution_count": 8,
     "metadata": {},
     "output_type": "execute_result"
    }
   ],
   "source": [
    "df_machine_2 = pd.read_parquet(\"dataset/machine_data_2.parquet\")\n",
    "print(\n",
    "    f\"The machine 2 data set has {len(df_machine_2)} records with {df_machine_2.shape[1]} variables.\"\n",
    ")\n",
    "df_machine_2.head()"
   ]
  },
  {
   "cell_type": "code",
   "execution_count": 9,
   "metadata": {},
   "outputs": [
    {
     "name": "stdout",
     "output_type": "stream",
     "text": [
      "<class 'pandas.core.frame.DataFrame'>\n",
      "Index: 3832 entries, 0 to 2271\n",
      "Data columns (total 7 columns):\n",
      " #   Column              Non-Null Count  Dtype         \n",
      "---  ------              --------------  -----         \n",
      " 0   machine_id          3832 non-null   object        \n",
      " 1   date                3832 non-null   datetime64[ns]\n",
      " 2   num_treatments      3832 non-null   int64         \n",
      " 3   hours_of_operation  3832 non-null   float64       \n",
      " 4   alarms              189 non-null    object        \n",
      " 5   num_warnings        3832 non-null   int64         \n",
      " 6   sensor_data         3832 non-null   float64       \n",
      "dtypes: datetime64[ns](1), float64(2), int64(2), object(2)\n",
      "memory usage: 239.5+ KB\n"
     ]
    }
   ],
   "source": [
    "df_machine_2.info()"
   ]
  },
  {
   "cell_type": "markdown",
   "metadata": {},
   "source": [
    "### Machine details"
   ]
  },
  {
   "cell_type": "code",
   "execution_count": 10,
   "metadata": {},
   "outputs": [
    {
     "name": "stdout",
     "output_type": "stream",
     "text": [
      "The machine 2 data set has 10 records with 4 variables.\n"
     ]
    },
    {
     "data": {
      "text/html": [
       "<div>\n",
       "<style scoped>\n",
       "    .dataframe tbody tr th:only-of-type {\n",
       "        vertical-align: middle;\n",
       "    }\n",
       "\n",
       "    .dataframe tbody tr th {\n",
       "        vertical-align: top;\n",
       "    }\n",
       "\n",
       "    .dataframe thead th {\n",
       "        text-align: right;\n",
       "    }\n",
       "</style>\n",
       "<table border=\"1\" class=\"dataframe\">\n",
       "  <thead>\n",
       "    <tr style=\"text-align: right;\">\n",
       "      <th></th>\n",
       "      <th>machine_id</th>\n",
       "      <th>location</th>\n",
       "      <th>manufacturer</th>\n",
       "      <th>model</th>\n",
       "    </tr>\n",
       "  </thead>\n",
       "  <tbody>\n",
       "    <tr>\n",
       "      <th>0</th>\n",
       "      <td>Machine_1</td>\n",
       "      <td>New York</td>\n",
       "      <td>Manufacturer_A</td>\n",
       "      <td>Model_X</td>\n",
       "    </tr>\n",
       "    <tr>\n",
       "      <th>1</th>\n",
       "      <td>Machine_2</td>\n",
       "      <td>New York</td>\n",
       "      <td>Manufacturer_C</td>\n",
       "      <td>Model_X</td>\n",
       "    </tr>\n",
       "    <tr>\n",
       "      <th>2</th>\n",
       "      <td>Machine_3</td>\n",
       "      <td>Los Angeles</td>\n",
       "      <td>Manufacturer_B</td>\n",
       "      <td>Model_Y</td>\n",
       "    </tr>\n",
       "    <tr>\n",
       "      <th>3</th>\n",
       "      <td>Machine_4</td>\n",
       "      <td>Los Angeles</td>\n",
       "      <td>Manufacturer_A</td>\n",
       "      <td>Model_Z</td>\n",
       "    </tr>\n",
       "    <tr>\n",
       "      <th>4</th>\n",
       "      <td>Machine_5</td>\n",
       "      <td>Phoenix</td>\n",
       "      <td>Manufacturer_C</td>\n",
       "      <td>Model_Y</td>\n",
       "    </tr>\n",
       "  </tbody>\n",
       "</table>\n",
       "</div>"
      ],
      "text/plain": [
       "  machine_id     location    manufacturer    model\n",
       "0  Machine_1     New York  Manufacturer_A  Model_X\n",
       "1  Machine_2     New York  Manufacturer_C  Model_X\n",
       "2  Machine_3  Los Angeles  Manufacturer_B  Model_Y\n",
       "3  Machine_4  Los Angeles  Manufacturer_A  Model_Z\n",
       "4  Machine_5      Phoenix  Manufacturer_C  Model_Y"
      ]
     },
     "execution_count": 10,
     "metadata": {},
     "output_type": "execute_result"
    }
   ],
   "source": [
    "df_machine_details = pd.read_parquet(\"dataset/machine_details.parquet\")\n",
    "print(\n",
    "    f\"The machine 2 data set has {len(df_machine_details)} records with {df_machine_details.shape[1]} variables.\"\n",
    ")\n",
    "df_machine_details.head()"
   ]
  },
  {
   "cell_type": "code",
   "execution_count": 11,
   "metadata": {},
   "outputs": [
    {
     "name": "stdout",
     "output_type": "stream",
     "text": [
      "<class 'pandas.core.frame.DataFrame'>\n",
      "RangeIndex: 10 entries, 0 to 9\n",
      "Data columns (total 4 columns):\n",
      " #   Column        Non-Null Count  Dtype \n",
      "---  ------        --------------  ----- \n",
      " 0   machine_id    10 non-null     object\n",
      " 1   location      10 non-null     object\n",
      " 2   manufacturer  10 non-null     object\n",
      " 3   model         10 non-null     object\n",
      "dtypes: object(4)\n",
      "memory usage: 452.0+ bytes\n"
     ]
    }
   ],
   "source": [
    "df_machine_details.info()"
   ]
  },
  {
   "cell_type": "markdown",
   "metadata": {},
   "source": [
    "### Maintainance Records"
   ]
  },
  {
   "cell_type": "code",
   "execution_count": 12,
   "metadata": {},
   "outputs": [
    {
     "name": "stdout",
     "output_type": "stream",
     "text": [
      "The machine 2 data set has 100 records with 4 variables.\n"
     ]
    },
    {
     "data": {
      "text/html": [
       "<div>\n",
       "<style scoped>\n",
       "    .dataframe tbody tr th:only-of-type {\n",
       "        vertical-align: middle;\n",
       "    }\n",
       "\n",
       "    .dataframe tbody tr th {\n",
       "        vertical-align: top;\n",
       "    }\n",
       "\n",
       "    .dataframe thead th {\n",
       "        text-align: right;\n",
       "    }\n",
       "</style>\n",
       "<table border=\"1\" class=\"dataframe\">\n",
       "  <thead>\n",
       "    <tr style=\"text-align: right;\">\n",
       "      <th></th>\n",
       "      <th>record_id</th>\n",
       "      <th>machine_id</th>\n",
       "      <th>date</th>\n",
       "      <th>description</th>\n",
       "    </tr>\n",
       "  </thead>\n",
       "  <tbody>\n",
       "    <tr>\n",
       "      <th>0</th>\n",
       "      <td>1</td>\n",
       "      <td>Machine_4</td>\n",
       "      <td>2024-02-01 09:46:28.706811</td>\n",
       "      <td>Cleaning</td>\n",
       "    </tr>\n",
       "    <tr>\n",
       "      <th>1</th>\n",
       "      <td>2</td>\n",
       "      <td>Machine_4</td>\n",
       "      <td>2023-11-03 09:46:28.706820</td>\n",
       "      <td>Routine Check</td>\n",
       "    </tr>\n",
       "    <tr>\n",
       "      <th>2</th>\n",
       "      <td>3</td>\n",
       "      <td>Machine_5</td>\n",
       "      <td>2024-05-03 09:46:28.706824</td>\n",
       "      <td>Software Update</td>\n",
       "    </tr>\n",
       "    <tr>\n",
       "      <th>3</th>\n",
       "      <td>4</td>\n",
       "      <td>Machine_6</td>\n",
       "      <td>2023-11-29 09:46:28.706828</td>\n",
       "      <td>Cleaning</td>\n",
       "    </tr>\n",
       "    <tr>\n",
       "      <th>4</th>\n",
       "      <td>5</td>\n",
       "      <td>Machine_6</td>\n",
       "      <td>2023-09-21 09:46:28.706831</td>\n",
       "      <td>Part Replacement</td>\n",
       "    </tr>\n",
       "  </tbody>\n",
       "</table>\n",
       "</div>"
      ],
      "text/plain": [
       "   record_id machine_id                       date       description\n",
       "0          1  Machine_4 2024-02-01 09:46:28.706811          Cleaning\n",
       "1          2  Machine_4 2023-11-03 09:46:28.706820     Routine Check\n",
       "2          3  Machine_5 2024-05-03 09:46:28.706824   Software Update\n",
       "3          4  Machine_6 2023-11-29 09:46:28.706828          Cleaning\n",
       "4          5  Machine_6 2023-09-21 09:46:28.706831  Part Replacement"
      ]
     },
     "execution_count": 12,
     "metadata": {},
     "output_type": "execute_result"
    }
   ],
   "source": [
    "df_maintenance = pd.read_parquet(\"dataset/maintenance_records.parquet\")\n",
    "print(\n",
    "    f\"The machine 2 data set has {len(df_maintenance)} records with {df_maintenance.shape[1]} variables.\"\n",
    ")\n",
    "df_maintenance.head()"
   ]
  },
  {
   "cell_type": "code",
   "execution_count": 13,
   "metadata": {},
   "outputs": [
    {
     "name": "stdout",
     "output_type": "stream",
     "text": [
      "<class 'pandas.core.frame.DataFrame'>\n",
      "RangeIndex: 100 entries, 0 to 99\n",
      "Data columns (total 4 columns):\n",
      " #   Column       Non-Null Count  Dtype         \n",
      "---  ------       --------------  -----         \n",
      " 0   record_id    100 non-null    int64         \n",
      " 1   machine_id   100 non-null    object        \n",
      " 2   date         100 non-null    datetime64[ns]\n",
      " 3   description  100 non-null    object        \n",
      "dtypes: datetime64[ns](1), int64(1), object(2)\n",
      "memory usage: 3.3+ KB\n"
     ]
    }
   ],
   "source": [
    "df_maintenance.info()"
   ]
  },
  {
   "cell_type": "markdown",
   "metadata": {},
   "source": [
    "## Data merging"
   ]
  }
 ],
 "metadata": {
  "kernelspec": {
   "display_name": "data_analysis",
   "language": "python",
   "name": "python3"
  },
  "language_info": {
   "codemirror_mode": {
    "name": "ipython",
    "version": 3
   },
   "file_extension": ".py",
   "mimetype": "text/x-python",
   "name": "python",
   "nbconvert_exporter": "python",
   "pygments_lexer": "ipython3",
   "version": "3.12.5"
  }
 },
 "nbformat": 4,
 "nbformat_minor": 2
}
