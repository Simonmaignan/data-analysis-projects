{
 "cells": [
  {
   "cell_type": "markdown",
   "metadata": {},
   "source": [
    "# Software migration\n",
    "In this notebook, I'll explore the data associated with the Software migration\n",
    "\n",
    "## Data Gathering\n",
    "Let's read the different Excel sheets and csv files into Pandas Data Frames\n",
    "### Migration Mapping\n",
    "Let's read the migration mapping data from the Excel sheet into a Pandas Data Frame"
   ]
  },
  {
   "cell_type": "code",
   "execution_count": 27,
   "metadata": {},
   "outputs": [
    {
     "data": {
      "text/html": [
       "<div>\n",
       "<style scoped>\n",
       "    .dataframe tbody tr th:only-of-type {\n",
       "        vertical-align: middle;\n",
       "    }\n",
       "\n",
       "    .dataframe tbody tr th {\n",
       "        vertical-align: top;\n",
       "    }\n",
       "\n",
       "    .dataframe thead th {\n",
       "        text-align: right;\n",
       "    }\n",
       "</style>\n",
       "<table border=\"1\" class=\"dataframe\">\n",
       "  <thead>\n",
       "    <tr style=\"text-align: right;\">\n",
       "      <th></th>\n",
       "      <th>Field</th>\n",
       "      <th>SoftwareA</th>\n",
       "      <th>SoftwareB</th>\n",
       "    </tr>\n",
       "  </thead>\n",
       "  <tbody>\n",
       "    <tr>\n",
       "      <th>0</th>\n",
       "      <td>Channel</td>\n",
       "      <td>channel1</td>\n",
       "      <td>Channel1</td>\n",
       "    </tr>\n",
       "    <tr>\n",
       "      <th>1</th>\n",
       "      <td>Channel</td>\n",
       "      <td>channel2</td>\n",
       "      <td>Channel2</td>\n",
       "    </tr>\n",
       "    <tr>\n",
       "      <th>2</th>\n",
       "      <td>Channel</td>\n",
       "      <td>channel3</td>\n",
       "      <td>Channel3</td>\n",
       "    </tr>\n",
       "    <tr>\n",
       "      <th>3</th>\n",
       "      <td>Language</td>\n",
       "      <td>en</td>\n",
       "      <td>en-US</td>\n",
       "    </tr>\n",
       "    <tr>\n",
       "      <th>4</th>\n",
       "      <td>Language</td>\n",
       "      <td>en_us</td>\n",
       "      <td>en-US</td>\n",
       "    </tr>\n",
       "  </tbody>\n",
       "</table>\n",
       "</div>"
      ],
      "text/plain": [
       "      Field SoftwareA SoftwareB\n",
       "0   Channel  channel1  Channel1\n",
       "1   Channel  channel2  Channel2\n",
       "2   Channel  channel3  Channel3\n",
       "3  Language        en     en-US\n",
       "4  Language     en_us     en-US"
      ]
     },
     "execution_count": 27,
     "metadata": {},
     "output_type": "execute_result"
    }
   ],
   "source": [
    "import pandas as pd\n",
    "from typing import Dict\n",
    "\n",
    "migration_mapping_xlsx = pd.ExcelFile(\n",
    "    \"dataset/Software_Migration_Mapping.xlsx\"\n",
    ")\n",
    "migration_mapping_df = pd.read_excel(migration_mapping_xlsx, sheet_name=0)\n",
    "migration_mapping_df.head()"
   ]
  },
  {
   "cell_type": "code",
   "execution_count": 28,
   "metadata": {},
   "outputs": [
    {
     "name": "stdout",
     "output_type": "stream",
     "text": [
      "<class 'pandas.core.frame.DataFrame'>\n",
      "RangeIndex: 10 entries, 0 to 9\n",
      "Data columns (total 3 columns):\n",
      " #   Column     Non-Null Count  Dtype \n",
      "---  ------     --------------  ----- \n",
      " 0   Field      10 non-null     object\n",
      " 1   SoftwareA  10 non-null     object\n",
      " 2   SoftwareB  10 non-null     object\n",
      "dtypes: object(3)\n",
      "memory usage: 372.0+ bytes\n"
     ]
    }
   ],
   "source": [
    "migration_mapping_df.info()"
   ]
  },
  {
   "cell_type": "markdown",
   "metadata": {},
   "source": [
    "### Data to migrate\n",
    "Let's read the data to migrate from the associated csv file"
   ]
  },
  {
   "cell_type": "code",
   "execution_count": 29,
   "metadata": {},
   "outputs": [
    {
     "data": {
      "text/html": [
       "<div>\n",
       "<style scoped>\n",
       "    .dataframe tbody tr th:only-of-type {\n",
       "        vertical-align: middle;\n",
       "    }\n",
       "\n",
       "    .dataframe tbody tr th {\n",
       "        vertical-align: top;\n",
       "    }\n",
       "\n",
       "    .dataframe thead th {\n",
       "        text-align: right;\n",
       "    }\n",
       "</style>\n",
       "<table border=\"1\" class=\"dataframe\">\n",
       "  <thead>\n",
       "    <tr style=\"text-align: right;\">\n",
       "      <th></th>\n",
       "      <th>id</th>\n",
       "      <th>Channel</th>\n",
       "      <th>Language</th>\n",
       "      <th>CustomFields</th>\n",
       "      <th>Duration</th>\n",
       "      <th>PointsGained</th>\n",
       "    </tr>\n",
       "  </thead>\n",
       "  <tbody>\n",
       "    <tr>\n",
       "      <th>0</th>\n",
       "      <td>1</td>\n",
       "      <td>channel1</td>\n",
       "      <td>en</td>\n",
       "      <td>Area=account;New=true</td>\n",
       "      <td>01:23:14</td>\n",
       "      <td>57</td>\n",
       "    </tr>\n",
       "    <tr>\n",
       "      <th>1</th>\n",
       "      <td>1</td>\n",
       "      <td>channel1</td>\n",
       "      <td>en_us</td>\n",
       "      <td>Area=account;New=true</td>\n",
       "      <td>00:13:04</td>\n",
       "      <td>12</td>\n",
       "    </tr>\n",
       "    <tr>\n",
       "      <th>2</th>\n",
       "      <td>1</td>\n",
       "      <td>channel2</td>\n",
       "      <td>en</td>\n",
       "      <td>Area=finance;New=false</td>\n",
       "      <td>00:37:21</td>\n",
       "      <td>30</td>\n",
       "    </tr>\n",
       "    <tr>\n",
       "      <th>3</th>\n",
       "      <td>2</td>\n",
       "      <td>channel3</td>\n",
       "      <td>es</td>\n",
       "      <td>Area=finance;Premium=premium-user;New=false</td>\n",
       "      <td>03:01:47</td>\n",
       "      <td>254</td>\n",
       "    </tr>\n",
       "    <tr>\n",
       "      <th>4</th>\n",
       "      <td>3</td>\n",
       "      <td>channel2</td>\n",
       "      <td>es</td>\n",
       "      <td>Area=customer;New=false</td>\n",
       "      <td>01:56:34</td>\n",
       "      <td>71</td>\n",
       "    </tr>\n",
       "  </tbody>\n",
       "</table>\n",
       "</div>"
      ],
      "text/plain": [
       "   id   Channel Language                                 CustomFields  \\\n",
       "0   1  channel1       en                        Area=account;New=true   \n",
       "1   1  channel1    en_us                        Area=account;New=true   \n",
       "2   1  channel2       en                       Area=finance;New=false   \n",
       "3   2  channel3       es  Area=finance;Premium=premium-user;New=false   \n",
       "4   3  channel2       es                      Area=customer;New=false   \n",
       "\n",
       "   Duration  PointsGained  \n",
       "0  01:23:14            57  \n",
       "1  00:13:04            12  \n",
       "2  00:37:21            30  \n",
       "3  03:01:47           254  \n",
       "4  01:56:34            71  "
      ]
     },
     "execution_count": 29,
     "metadata": {},
     "output_type": "execute_result"
    }
   ],
   "source": [
    "data_to_migrate_df = pd.read_csv(\"dataset/data_to_migrate.csv\")\n",
    "data_to_migrate_df.head()"
   ]
  },
  {
   "cell_type": "code",
   "execution_count": 30,
   "metadata": {},
   "outputs": [
    {
     "name": "stdout",
     "output_type": "stream",
     "text": [
      "<class 'pandas.core.frame.DataFrame'>\n",
      "RangeIndex: 5 entries, 0 to 4\n",
      "Data columns (total 6 columns):\n",
      " #   Column        Non-Null Count  Dtype \n",
      "---  ------        --------------  ----- \n",
      " 0   id            5 non-null      int64 \n",
      " 1   Channel       5 non-null      object\n",
      " 2   Language      5 non-null      object\n",
      " 3   CustomFields  5 non-null      object\n",
      " 4   Duration      5 non-null      object\n",
      " 5   PointsGained  5 non-null      int64 \n",
      "dtypes: int64(2), object(4)\n",
      "memory usage: 372.0+ bytes\n"
     ]
    }
   ],
   "source": [
    "data_to_migrate_df.info()"
   ]
  },
  {
   "cell_type": "markdown",
   "metadata": {},
   "source": [
    "## Data Cleaning\n",
    "Some of the data to migrate requires some cleaning to facilitate their migration.\n",
    "Let's start by making a copy of the data to clean."
   ]
  },
  {
   "cell_type": "code",
   "execution_count": 31,
   "metadata": {},
   "outputs": [],
   "source": [
    "clean_data_to_migrate_df = data_to_migrate_df.copy()"
   ]
  },
  {
   "cell_type": "markdown",
   "metadata": {},
   "source": [
    "### Change `Duration` type to `Timedelta`\n",
    "The `Duration` field is represented as a string. It is mandatory to have it a `Timedelta` type to perform further computation."
   ]
  },
  {
   "cell_type": "code",
   "execution_count": 32,
   "metadata": {},
   "outputs": [
    {
     "data": {
      "text/html": [
       "<div>\n",
       "<style scoped>\n",
       "    .dataframe tbody tr th:only-of-type {\n",
       "        vertical-align: middle;\n",
       "    }\n",
       "\n",
       "    .dataframe tbody tr th {\n",
       "        vertical-align: top;\n",
       "    }\n",
       "\n",
       "    .dataframe thead th {\n",
       "        text-align: right;\n",
       "    }\n",
       "</style>\n",
       "<table border=\"1\" class=\"dataframe\">\n",
       "  <thead>\n",
       "    <tr style=\"text-align: right;\">\n",
       "      <th></th>\n",
       "      <th>id</th>\n",
       "      <th>Channel</th>\n",
       "      <th>Language</th>\n",
       "      <th>CustomFields</th>\n",
       "      <th>Duration</th>\n",
       "      <th>PointsGained</th>\n",
       "    </tr>\n",
       "  </thead>\n",
       "  <tbody>\n",
       "    <tr>\n",
       "      <th>0</th>\n",
       "      <td>1</td>\n",
       "      <td>channel1</td>\n",
       "      <td>en</td>\n",
       "      <td>Area=account;New=true</td>\n",
       "      <td>0 days 01:23:14</td>\n",
       "      <td>57</td>\n",
       "    </tr>\n",
       "    <tr>\n",
       "      <th>1</th>\n",
       "      <td>1</td>\n",
       "      <td>channel1</td>\n",
       "      <td>en_us</td>\n",
       "      <td>Area=account;New=true</td>\n",
       "      <td>0 days 00:13:04</td>\n",
       "      <td>12</td>\n",
       "    </tr>\n",
       "    <tr>\n",
       "      <th>2</th>\n",
       "      <td>1</td>\n",
       "      <td>channel2</td>\n",
       "      <td>en</td>\n",
       "      <td>Area=finance;New=false</td>\n",
       "      <td>0 days 00:37:21</td>\n",
       "      <td>30</td>\n",
       "    </tr>\n",
       "    <tr>\n",
       "      <th>3</th>\n",
       "      <td>2</td>\n",
       "      <td>channel3</td>\n",
       "      <td>es</td>\n",
       "      <td>Area=finance;Premium=premium-user;New=false</td>\n",
       "      <td>0 days 03:01:47</td>\n",
       "      <td>254</td>\n",
       "    </tr>\n",
       "    <tr>\n",
       "      <th>4</th>\n",
       "      <td>3</td>\n",
       "      <td>channel2</td>\n",
       "      <td>es</td>\n",
       "      <td>Area=customer;New=false</td>\n",
       "      <td>0 days 01:56:34</td>\n",
       "      <td>71</td>\n",
       "    </tr>\n",
       "  </tbody>\n",
       "</table>\n",
       "</div>"
      ],
      "text/plain": [
       "   id   Channel Language                                 CustomFields  \\\n",
       "0   1  channel1       en                        Area=account;New=true   \n",
       "1   1  channel1    en_us                        Area=account;New=true   \n",
       "2   1  channel2       en                       Area=finance;New=false   \n",
       "3   2  channel3       es  Area=finance;Premium=premium-user;New=false   \n",
       "4   3  channel2       es                      Area=customer;New=false   \n",
       "\n",
       "         Duration  PointsGained  \n",
       "0 0 days 01:23:14            57  \n",
       "1 0 days 00:13:04            12  \n",
       "2 0 days 00:37:21            30  \n",
       "3 0 days 03:01:47           254  \n",
       "4 0 days 01:56:34            71  "
      ]
     },
     "execution_count": 32,
     "metadata": {},
     "output_type": "execute_result"
    }
   ],
   "source": [
    "clean_data_to_migrate_df[\"Duration\"] = pd.to_timedelta(\n",
    "    clean_data_to_migrate_df[\"Duration\"]\n",
    ")\n",
    "clean_data_to_migrate_df.head()"
   ]
  },
  {
   "cell_type": "code",
   "execution_count": 33,
   "metadata": {},
   "outputs": [
    {
     "name": "stdout",
     "output_type": "stream",
     "text": [
      "<class 'pandas.core.frame.DataFrame'>\n",
      "RangeIndex: 5 entries, 0 to 4\n",
      "Data columns (total 6 columns):\n",
      " #   Column        Non-Null Count  Dtype          \n",
      "---  ------        --------------  -----          \n",
      " 0   id            5 non-null      int64          \n",
      " 1   Channel       5 non-null      object         \n",
      " 2   Language      5 non-null      object         \n",
      " 3   CustomFields  5 non-null      object         \n",
      " 4   Duration      5 non-null      timedelta64[ns]\n",
      " 5   PointsGained  5 non-null      int64          \n",
      "dtypes: int64(2), object(3), timedelta64[ns](1)\n",
      "memory usage: 372.0+ bytes\n"
     ]
    }
   ],
   "source": [
    "clean_data_to_migrate_df.info()"
   ]
  },
  {
   "cell_type": "markdown",
   "metadata": {},
   "source": [
    "We can notice that the `Duration` field is now in `Timedelta` format.\n",
    "\n",
    "## Data migration\n",
    "Let's use the `migration_mapping_df` data frame to migrate the data to the new format."
   ]
  },
  {
   "cell_type": "code",
   "execution_count": 35,
   "metadata": {},
   "outputs": [
    {
     "data": {
      "text/html": [
       "<div>\n",
       "<style scoped>\n",
       "    .dataframe tbody tr th:only-of-type {\n",
       "        vertical-align: middle;\n",
       "    }\n",
       "\n",
       "    .dataframe tbody tr th {\n",
       "        vertical-align: top;\n",
       "    }\n",
       "\n",
       "    .dataframe thead th {\n",
       "        text-align: right;\n",
       "    }\n",
       "</style>\n",
       "<table border=\"1\" class=\"dataframe\">\n",
       "  <thead>\n",
       "    <tr style=\"text-align: right;\">\n",
       "      <th></th>\n",
       "      <th>id</th>\n",
       "      <th>Channel</th>\n",
       "      <th>Language</th>\n",
       "      <th>CustomFields</th>\n",
       "      <th>Duration</th>\n",
       "      <th>PointsGained</th>\n",
       "    </tr>\n",
       "  </thead>\n",
       "  <tbody>\n",
       "    <tr>\n",
       "      <th>0</th>\n",
       "      <td>1</td>\n",
       "      <td>Channel1</td>\n",
       "      <td>en-US</td>\n",
       "      <td>Area=account;New=true</td>\n",
       "      <td>0 days 01:23:14</td>\n",
       "      <td>57</td>\n",
       "    </tr>\n",
       "    <tr>\n",
       "      <th>1</th>\n",
       "      <td>1</td>\n",
       "      <td>Channel1</td>\n",
       "      <td>en-US</td>\n",
       "      <td>Area=account;New=true</td>\n",
       "      <td>0 days 00:13:04</td>\n",
       "      <td>12</td>\n",
       "    </tr>\n",
       "    <tr>\n",
       "      <th>2</th>\n",
       "      <td>1</td>\n",
       "      <td>Channel2</td>\n",
       "      <td>en-US</td>\n",
       "      <td>Area=finance;New=false</td>\n",
       "      <td>0 days 00:37:21</td>\n",
       "      <td>30</td>\n",
       "    </tr>\n",
       "    <tr>\n",
       "      <th>3</th>\n",
       "      <td>2</td>\n",
       "      <td>Channel3</td>\n",
       "      <td>es-ES</td>\n",
       "      <td>Area=finance;Premium=premium-user;New=false</td>\n",
       "      <td>0 days 03:01:47</td>\n",
       "      <td>254</td>\n",
       "    </tr>\n",
       "    <tr>\n",
       "      <th>4</th>\n",
       "      <td>3</td>\n",
       "      <td>Channel2</td>\n",
       "      <td>es-ES</td>\n",
       "      <td>Area=customer;New=false</td>\n",
       "      <td>0 days 01:56:34</td>\n",
       "      <td>71</td>\n",
       "    </tr>\n",
       "  </tbody>\n",
       "</table>\n",
       "</div>"
      ],
      "text/plain": [
       "   id   Channel Language                                 CustomFields  \\\n",
       "0   1  Channel1    en-US                        Area=account;New=true   \n",
       "1   1  Channel1    en-US                        Area=account;New=true   \n",
       "2   1  Channel2    en-US                       Area=finance;New=false   \n",
       "3   2  Channel3    es-ES  Area=finance;Premium=premium-user;New=false   \n",
       "4   3  Channel2    es-ES                      Area=customer;New=false   \n",
       "\n",
       "         Duration  PointsGained  \n",
       "0 0 days 01:23:14            57  \n",
       "1 0 days 00:13:04            12  \n",
       "2 0 days 00:37:21            30  \n",
       "3 0 days 03:01:47           254  \n",
       "4 0 days 01:56:34            71  "
      ]
     },
     "execution_count": 35,
     "metadata": {},
     "output_type": "execute_result"
    }
   ],
   "source": [
    "migrated_data_df = clean_data_to_migrate_df.copy()\n",
    "for field in migration_mapping_df[\"Field\"].unique():\n",
    "    field_mapping_df = migration_mapping_df[\n",
    "        migration_mapping_df[\"Field\"] == field\n",
    "    ]\n",
    "    # print(field_mapping_df)\n",
    "    mapping_dict: Dict[str, str] = {\n",
    "        row[\"SoftwareA\"]: row[\"SoftwareB\"]\n",
    "        for _, row in field_mapping_df.iterrows()\n",
    "    }\n",
    "    # print(mapping_dict)\n",
    "    migrated_data_df[field] = migrated_data_df[field].replace(mapping_dict)\n",
    "migrated_data_df.head()"
   ]
  }
 ],
 "metadata": {
  "kernelspec": {
   "display_name": "data_analysis",
   "language": "python",
   "name": "python3"
  },
  "language_info": {
   "codemirror_mode": {
    "name": "ipython",
    "version": 3
   },
   "file_extension": ".py",
   "mimetype": "text/x-python",
   "name": "python",
   "nbconvert_exporter": "python",
   "pygments_lexer": "ipython3",
   "version": "3.12.5"
  }
 },
 "nbformat": 4,
 "nbformat_minor": 2
}
