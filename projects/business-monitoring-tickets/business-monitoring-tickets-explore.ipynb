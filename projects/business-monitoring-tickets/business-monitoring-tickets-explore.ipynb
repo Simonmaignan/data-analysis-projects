{
 "cells": [
  {
   "cell_type": "markdown",
   "metadata": {},
   "source": [
    "# Business monitoring tickets Analysis\n",
    "This Notebook briefly analyzes the dataset found under `./dataset`\n",
    "\n",
    "## Data Gathering\n",
    "Load the local csv file inside a Pandas `DataFrame`."
   ]
  },
  {
   "cell_type": "code",
   "execution_count": 15,
   "metadata": {},
   "outputs": [
    {
     "name": "stdout",
     "output_type": "stream",
     "text": [
      "The tickets data set has 88753 players with 5 variables.\n"
     ]
    },
    {
     "data": {
      "text/html": [
       "<div>\n",
       "<style scoped>\n",
       "    .dataframe tbody tr th:only-of-type {\n",
       "        vertical-align: middle;\n",
       "    }\n",
       "\n",
       "    .dataframe tbody tr th {\n",
       "        vertical-align: top;\n",
       "    }\n",
       "\n",
       "    .dataframe thead th {\n",
       "        text-align: right;\n",
       "    }\n",
       "</style>\n",
       "<table border=\"1\" class=\"dataframe\">\n",
       "  <thead>\n",
       "    <tr style=\"text-align: right;\">\n",
       "      <th></th>\n",
       "      <th>TICKET_ID</th>\n",
       "      <th>VALUE_STATUS</th>\n",
       "      <th>VALUE_PREVIOUS_VALUE</th>\n",
       "      <th>Updater_id</th>\n",
       "      <th>CREATED_AT</th>\n",
       "    </tr>\n",
       "  </thead>\n",
       "  <tbody>\n",
       "    <tr>\n",
       "      <th>0</th>\n",
       "      <td>7074438</td>\n",
       "      <td>open</td>\n",
       "      <td>solved</td>\n",
       "      <td>3.931850e+11</td>\n",
       "      <td>2024-04-19T13:52:06Z</td>\n",
       "    </tr>\n",
       "    <tr>\n",
       "      <th>1</th>\n",
       "      <td>7073481</td>\n",
       "      <td>solved</td>\n",
       "      <td>hold</td>\n",
       "      <td>3.851610e+11</td>\n",
       "      <td>2024-04-19T13:52:08Z</td>\n",
       "    </tr>\n",
       "    <tr>\n",
       "      <th>2</th>\n",
       "      <td>7074447</td>\n",
       "      <td>open</td>\n",
       "      <td>solved</td>\n",
       "      <td>1.362380e+13</td>\n",
       "      <td>2024-04-19T13:52:09Z</td>\n",
       "    </tr>\n",
       "    <tr>\n",
       "      <th>3</th>\n",
       "      <td>7074582</td>\n",
       "      <td>solved</td>\n",
       "      <td>open</td>\n",
       "      <td>3.908580e+11</td>\n",
       "      <td>2024-04-19T13:52:10Z</td>\n",
       "    </tr>\n",
       "    <tr>\n",
       "      <th>4</th>\n",
       "      <td>7074630</td>\n",
       "      <td>new</td>\n",
       "      <td>NaN</td>\n",
       "      <td>1.289560e+13</td>\n",
       "      <td>2024-04-19T13:52:20Z</td>\n",
       "    </tr>\n",
       "  </tbody>\n",
       "</table>\n",
       "</div>"
      ],
      "text/plain": [
       "   TICKET_ID VALUE_STATUS VALUE_PREVIOUS_VALUE    Updater_id  \\\n",
       "0    7074438         open               solved  3.931850e+11   \n",
       "1    7073481       solved                 hold  3.851610e+11   \n",
       "2    7074447         open               solved  1.362380e+13   \n",
       "3    7074582       solved                 open  3.908580e+11   \n",
       "4    7074630          new                  NaN  1.289560e+13   \n",
       "\n",
       "             CREATED_AT  \n",
       "0  2024-04-19T13:52:06Z  \n",
       "1  2024-04-19T13:52:08Z  \n",
       "2  2024-04-19T13:52:09Z  \n",
       "3  2024-04-19T13:52:10Z  \n",
       "4  2024-04-19T13:52:20Z  "
      ]
     },
     "execution_count": 15,
     "metadata": {},
     "output_type": "execute_result"
    }
   ],
   "source": [
    "import pandas as pd\n",
    "\n",
    "df_tickets = pd.read_csv(f\"dataset/DATASET.csv\")\n",
    "print(\n",
    "    f\"The tickets data set has {len(df_tickets)} players with {df_tickets.shape[1]} variables.\"\n",
    ")\n",
    "df_tickets.head()"
   ]
  },
  {
   "cell_type": "code",
   "execution_count": 16,
   "metadata": {},
   "outputs": [
    {
     "name": "stdout",
     "output_type": "stream",
     "text": [
      "<class 'pandas.core.frame.DataFrame'>\n",
      "RangeIndex: 88753 entries, 0 to 88752\n",
      "Data columns (total 5 columns):\n",
      " #   Column                Non-Null Count  Dtype  \n",
      "---  ------                --------------  -----  \n",
      " 0   TICKET_ID             88753 non-null  int64  \n",
      " 1   VALUE_STATUS          88753 non-null  object \n",
      " 2   VALUE_PREVIOUS_VALUE  72343 non-null  object \n",
      " 3   Updater_id            88753 non-null  float64\n",
      " 4   CREATED_AT            88753 non-null  object \n",
      "dtypes: float64(1), int64(1), object(3)\n",
      "memory usage: 3.4+ MB\n"
     ]
    }
   ],
   "source": [
    "df_tickets.info()"
   ]
  },
  {
   "cell_type": "markdown",
   "metadata": {},
   "source": [
    "## Data Assessment and Cleaning\n",
    "In this part, we'll perform parallel assessment and cleaning steps on the data sets.\n",
    "\n",
    "### `NaN`\n",
    "Let's first check if we have any `Null` or `NaN` values in the data set."
   ]
  },
  {
   "cell_type": "code",
   "execution_count": 17,
   "metadata": {},
   "outputs": [
    {
     "name": "stdout",
     "output_type": "stream",
     "text": [
      "Number of Null in data set = 16410\n"
     ]
    }
   ],
   "source": [
    "print(f\"Number of Null in data set = {df_tickets.isnull().sum().sum()}\")"
   ]
  },
  {
   "cell_type": "markdown",
   "metadata": {},
   "source": [
    "We can notice that the data set contains some `NaN` in the `VALUE_PREVIOUS_VALUE` variable."
   ]
  },
  {
   "cell_type": "code",
   "execution_count": 18,
   "metadata": {},
   "outputs": [
    {
     "data": {
      "text/html": [
       "<div>\n",
       "<style scoped>\n",
       "    .dataframe tbody tr th:only-of-type {\n",
       "        vertical-align: middle;\n",
       "    }\n",
       "\n",
       "    .dataframe tbody tr th {\n",
       "        vertical-align: top;\n",
       "    }\n",
       "\n",
       "    .dataframe thead th {\n",
       "        text-align: right;\n",
       "    }\n",
       "</style>\n",
       "<table border=\"1\" class=\"dataframe\">\n",
       "  <thead>\n",
       "    <tr style=\"text-align: right;\">\n",
       "      <th></th>\n",
       "      <th>TICKET_ID</th>\n",
       "      <th>VALUE_STATUS</th>\n",
       "      <th>VALUE_PREVIOUS_VALUE</th>\n",
       "      <th>Updater_id</th>\n",
       "      <th>CREATED_AT</th>\n",
       "    </tr>\n",
       "  </thead>\n",
       "  <tbody>\n",
       "    <tr>\n",
       "      <th>4</th>\n",
       "      <td>7074630</td>\n",
       "      <td>new</td>\n",
       "      <td>NaN</td>\n",
       "      <td>1.289560e+13</td>\n",
       "      <td>2024-04-19T13:52:20Z</td>\n",
       "    </tr>\n",
       "    <tr>\n",
       "      <th>10</th>\n",
       "      <td>7074633</td>\n",
       "      <td>new</td>\n",
       "      <td>NaN</td>\n",
       "      <td>1.362490e+13</td>\n",
       "      <td>2024-04-19T13:53:07Z</td>\n",
       "    </tr>\n",
       "    <tr>\n",
       "      <th>13</th>\n",
       "      <td>7074636</td>\n",
       "      <td>new</td>\n",
       "      <td>NaN</td>\n",
       "      <td>1.298090e+13</td>\n",
       "      <td>2024-04-19T13:53:24Z</td>\n",
       "    </tr>\n",
       "    <tr>\n",
       "      <th>15</th>\n",
       "      <td>7074639</td>\n",
       "      <td>new</td>\n",
       "      <td>NaN</td>\n",
       "      <td>1.362490e+13</td>\n",
       "      <td>2024-04-19T13:53:45Z</td>\n",
       "    </tr>\n",
       "    <tr>\n",
       "      <th>28</th>\n",
       "      <td>7074642</td>\n",
       "      <td>new</td>\n",
       "      <td>NaN</td>\n",
       "      <td>8.234020e+12</td>\n",
       "      <td>2024-04-19T13:55:19Z</td>\n",
       "    </tr>\n",
       "    <tr>\n",
       "      <th>...</th>\n",
       "      <td>...</td>\n",
       "      <td>...</td>\n",
       "      <td>...</td>\n",
       "      <td>...</td>\n",
       "      <td>...</td>\n",
       "    </tr>\n",
       "    <tr>\n",
       "      <th>88743</th>\n",
       "      <td>7113750</td>\n",
       "      <td>new</td>\n",
       "      <td>NaN</td>\n",
       "      <td>1.378470e+13</td>\n",
       "      <td>2024-04-30T20:56:42Z</td>\n",
       "    </tr>\n",
       "    <tr>\n",
       "      <th>88744</th>\n",
       "      <td>7113759</td>\n",
       "      <td>new</td>\n",
       "      <td>NaN</td>\n",
       "      <td>1.378460e+13</td>\n",
       "      <td>2024-04-30T20:59:04Z</td>\n",
       "    </tr>\n",
       "    <tr>\n",
       "      <th>88746</th>\n",
       "      <td>7113762</td>\n",
       "      <td>new</td>\n",
       "      <td>NaN</td>\n",
       "      <td>1.006990e+13</td>\n",
       "      <td>2024-04-30T20:59:19Z</td>\n",
       "    </tr>\n",
       "    <tr>\n",
       "      <th>88747</th>\n",
       "      <td>7113765</td>\n",
       "      <td>new</td>\n",
       "      <td>NaN</td>\n",
       "      <td>1.378470e+13</td>\n",
       "      <td>2024-04-30T20:59:36Z</td>\n",
       "    </tr>\n",
       "    <tr>\n",
       "      <th>88751</th>\n",
       "      <td>7113768</td>\n",
       "      <td>new</td>\n",
       "      <td>NaN</td>\n",
       "      <td>1.378470e+13</td>\n",
       "      <td>2024-04-30T21:00:27Z</td>\n",
       "    </tr>\n",
       "  </tbody>\n",
       "</table>\n",
       "<p>16410 rows × 5 columns</p>\n",
       "</div>"
      ],
      "text/plain": [
       "       TICKET_ID VALUE_STATUS VALUE_PREVIOUS_VALUE    Updater_id  \\\n",
       "4        7074630          new                  NaN  1.289560e+13   \n",
       "10       7074633          new                  NaN  1.362490e+13   \n",
       "13       7074636          new                  NaN  1.298090e+13   \n",
       "15       7074639          new                  NaN  1.362490e+13   \n",
       "28       7074642          new                  NaN  8.234020e+12   \n",
       "...          ...          ...                  ...           ...   \n",
       "88743    7113750          new                  NaN  1.378470e+13   \n",
       "88744    7113759          new                  NaN  1.378460e+13   \n",
       "88746    7113762          new                  NaN  1.006990e+13   \n",
       "88747    7113765          new                  NaN  1.378470e+13   \n",
       "88751    7113768          new                  NaN  1.378470e+13   \n",
       "\n",
       "                 CREATED_AT  \n",
       "4      2024-04-19T13:52:20Z  \n",
       "10     2024-04-19T13:53:07Z  \n",
       "13     2024-04-19T13:53:24Z  \n",
       "15     2024-04-19T13:53:45Z  \n",
       "28     2024-04-19T13:55:19Z  \n",
       "...                     ...  \n",
       "88743  2024-04-30T20:56:42Z  \n",
       "88744  2024-04-30T20:59:04Z  \n",
       "88746  2024-04-30T20:59:19Z  \n",
       "88747  2024-04-30T20:59:36Z  \n",
       "88751  2024-04-30T21:00:27Z  \n",
       "\n",
       "[16410 rows x 5 columns]"
      ]
     },
     "execution_count": 18,
     "metadata": {},
     "output_type": "execute_result"
    }
   ],
   "source": [
    "# df_tickets.isnull()\n",
    "df_tickets[df_tickets.isnull().any(axis=1)]"
   ]
  },
  {
   "cell_type": "markdown",
   "metadata": {},
   "source": [
    "It seems the `NaN` are right there since the `VALUE_PREVIOUS_VALUE` is not defined for tickets with `VALUE_STATUS=='new'`\n",
    "\n",
    "### Data types\n",
    "The `Updater_id` should be casted to `int` instead of `float`.\n",
    "\n",
    "The `CREATED_AT` should be casted to datetime."
   ]
  },
  {
   "cell_type": "code",
   "execution_count": 19,
   "metadata": {},
   "outputs": [
    {
     "name": "stdout",
     "output_type": "stream",
     "text": [
      "<class 'pandas.core.frame.DataFrame'>\n",
      "RangeIndex: 88753 entries, 0 to 88752\n",
      "Data columns (total 5 columns):\n",
      " #   Column                Non-Null Count  Dtype              \n",
      "---  ------                --------------  -----              \n",
      " 0   TICKET_ID             88753 non-null  int64              \n",
      " 1   VALUE_STATUS          88753 non-null  object             \n",
      " 2   VALUE_PREVIOUS_VALUE  72343 non-null  object             \n",
      " 3   Updater_id            88753 non-null  int64              \n",
      " 4   CREATED_AT            88753 non-null  datetime64[ns, UTC]\n",
      "dtypes: datetime64[ns, UTC](1), int64(2), object(2)\n",
      "memory usage: 3.4+ MB\n"
     ]
    }
   ],
   "source": [
    "df_tickets[\"Updater_id\"] = df_tickets[\"Updater_id\"].astype(int)\n",
    "df_tickets[\"CREATED_AT\"] = pd.to_datetime(df_tickets[\"CREATED_AT\"])\n",
    "df_tickets.info()"
   ]
  },
  {
   "cell_type": "code",
   "execution_count": 20,
   "metadata": {},
   "outputs": [
    {
     "data": {
      "text/html": [
       "<div>\n",
       "<style scoped>\n",
       "    .dataframe tbody tr th:only-of-type {\n",
       "        vertical-align: middle;\n",
       "    }\n",
       "\n",
       "    .dataframe tbody tr th {\n",
       "        vertical-align: top;\n",
       "    }\n",
       "\n",
       "    .dataframe thead th {\n",
       "        text-align: right;\n",
       "    }\n",
       "</style>\n",
       "<table border=\"1\" class=\"dataframe\">\n",
       "  <thead>\n",
       "    <tr style=\"text-align: right;\">\n",
       "      <th></th>\n",
       "      <th>TICKET_ID</th>\n",
       "      <th>VALUE_STATUS</th>\n",
       "      <th>VALUE_PREVIOUS_VALUE</th>\n",
       "      <th>Updater_id</th>\n",
       "      <th>CREATED_AT</th>\n",
       "    </tr>\n",
       "  </thead>\n",
       "  <tbody>\n",
       "    <tr>\n",
       "      <th>0</th>\n",
       "      <td>7074438</td>\n",
       "      <td>open</td>\n",
       "      <td>solved</td>\n",
       "      <td>393185000000</td>\n",
       "      <td>2024-04-19 13:52:06+00:00</td>\n",
       "    </tr>\n",
       "    <tr>\n",
       "      <th>1</th>\n",
       "      <td>7073481</td>\n",
       "      <td>solved</td>\n",
       "      <td>hold</td>\n",
       "      <td>385161000000</td>\n",
       "      <td>2024-04-19 13:52:08+00:00</td>\n",
       "    </tr>\n",
       "    <tr>\n",
       "      <th>2</th>\n",
       "      <td>7074447</td>\n",
       "      <td>open</td>\n",
       "      <td>solved</td>\n",
       "      <td>13623800000000</td>\n",
       "      <td>2024-04-19 13:52:09+00:00</td>\n",
       "    </tr>\n",
       "    <tr>\n",
       "      <th>3</th>\n",
       "      <td>7074582</td>\n",
       "      <td>solved</td>\n",
       "      <td>open</td>\n",
       "      <td>390858000000</td>\n",
       "      <td>2024-04-19 13:52:10+00:00</td>\n",
       "    </tr>\n",
       "    <tr>\n",
       "      <th>4</th>\n",
       "      <td>7074630</td>\n",
       "      <td>new</td>\n",
       "      <td>NaN</td>\n",
       "      <td>12895600000000</td>\n",
       "      <td>2024-04-19 13:52:20+00:00</td>\n",
       "    </tr>\n",
       "  </tbody>\n",
       "</table>\n",
       "</div>"
      ],
      "text/plain": [
       "   TICKET_ID VALUE_STATUS VALUE_PREVIOUS_VALUE      Updater_id  \\\n",
       "0    7074438         open               solved    393185000000   \n",
       "1    7073481       solved                 hold    385161000000   \n",
       "2    7074447         open               solved  13623800000000   \n",
       "3    7074582       solved                 open    390858000000   \n",
       "4    7074630          new                  NaN  12895600000000   \n",
       "\n",
       "                 CREATED_AT  \n",
       "0 2024-04-19 13:52:06+00:00  \n",
       "1 2024-04-19 13:52:08+00:00  \n",
       "2 2024-04-19 13:52:09+00:00  \n",
       "3 2024-04-19 13:52:10+00:00  \n",
       "4 2024-04-19 13:52:20+00:00  "
      ]
     },
     "execution_count": 20,
     "metadata": {},
     "output_type": "execute_result"
    }
   ],
   "source": [
    "df_tickets.head()"
   ]
  },
  {
   "cell_type": "markdown",
   "metadata": {},
   "source": [
    "## Export to SQL DB"
   ]
  },
  {
   "cell_type": "markdown",
   "metadata": {},
   "source": []
  },
  {
   "cell_type": "code",
   "execution_count": 21,
   "metadata": {},
   "outputs": [
    {
     "data": {
      "text/plain": [
       "753"
      ]
     },
     "execution_count": 21,
     "metadata": {},
     "output_type": "execute_result"
    }
   ],
   "source": [
    "from sqlalchemy import create_engine\n",
    "from sqlalchemy_utils import database_exists, create_database\n",
    "\n",
    "engine = create_engine(\n",
    "    \"postgresql://localhost:5432/business-monitoring-tickets\"\n",
    ")\n",
    "if not database_exists(engine.url):\n",
    "    create_database(engine.url)\n",
    "\n",
    "df_tickets.to_sql(name=\"tickets\", index=False, con=engine, if_exists=\"replace\")"
   ]
  },
  {
   "cell_type": "code",
   "execution_count": null,
   "metadata": {},
   "outputs": [],
   "source": []
  }
 ],
 "metadata": {
  "kernelspec": {
   "display_name": "data_analysis",
   "language": "python",
   "name": "python3"
  },
  "language_info": {
   "codemirror_mode": {
    "name": "ipython",
    "version": 3
   },
   "file_extension": ".py",
   "mimetype": "text/x-python",
   "name": "python",
   "nbconvert_exporter": "python",
   "pygments_lexer": "ipython3",
   "version": "3.12.5"
  }
 },
 "nbformat": 4,
 "nbformat_minor": 2
}
