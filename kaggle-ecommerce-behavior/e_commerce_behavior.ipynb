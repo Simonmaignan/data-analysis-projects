{
 "cells": [
  {
   "cell_type": "markdown",
   "metadata": {},
   "source": [
    "# Kaggle eCommerce Behavior Analysis\n",
    "This Notebook briefly analyzes the [Kaggle eCommerce Behavior dataset](https://www.kaggle.com/datasets/mkechinov/ecommerce-behavior-data-from-multi-category-store)"
   ]
  },
  {
   "cell_type": "code",
   "execution_count": 1,
   "metadata": {},
   "outputs": [
    {
     "name": "stdout",
     "output_type": "stream",
     "text": [
      "dataset_list_files_cli\n",
      "name          size  creationDate         \n",
      "------------  ----  -------------------  \n",
      "2019-Nov.csv   8GB  2019-12-09 20:52:13  \n",
      "2019-Oct.csv   5GB  2019-12-09 20:51:21  \n",
      "None\n",
      "\n",
      "dataset_list_files\n",
      "[, ]\n",
      "\n",
      "datasets_list_files\n",
      "{'columns': [],\n",
      " 'creationDate': '2019-12-09T20:52:13.431Z',\n",
      " 'datasetRef': '',\n",
      " 'datasetRefNullable': None,\n",
      " 'description': '',\n",
      " 'descriptionNullable': None,\n",
      " 'fileType': '',\n",
      " 'fileTypeNullable': None,\n",
      " 'hasDatasetRef': False,\n",
      " 'hasDescription': False,\n",
      " 'hasFileType': False,\n",
      " 'hasName': True,\n",
      " 'hasOwnerRef': False,\n",
      " 'hasUrl': False,\n",
      " 'name': '2019-Nov.csv',\n",
      " 'nameNullable': '2019-Nov.csv',\n",
      " 'ownerRef': '',\n",
      " 'ownerRefNullable': None,\n",
      " 'ref': '',\n",
      " 'totalBytes': 9006762395,\n",
      " 'url': '',\n",
      " 'urlNullable': None}\n",
      "{'columns': [],\n",
      " 'creationDate': '2019-12-09T20:51:21.345Z',\n",
      " 'datasetRef': '',\n",
      " 'datasetRefNullable': None,\n",
      " 'description': '',\n",
      " 'descriptionNullable': None,\n",
      " 'fileType': '',\n",
      " 'fileTypeNullable': None,\n",
      " 'hasDatasetRef': False,\n",
      " 'hasDescription': False,\n",
      " 'hasFileType': False,\n",
      " 'hasName': True,\n",
      " 'hasOwnerRef': False,\n",
      " 'hasUrl': False,\n",
      " 'name': '2019-Oct.csv',\n",
      " 'nameNullable': '2019-Oct.csv',\n",
      " 'ownerRef': '',\n",
      " 'ownerRefNullable': None,\n",
      " 'ref': '',\n",
      " 'totalBytes': 5668612855,\n",
      " 'url': '',\n",
      " 'urlNullable': None}\n"
     ]
    }
   ],
   "source": [
    "import kaggle\n",
    "import os\n",
    "from pprint import pprint\n",
    "\n",
    "kaggle.api.authenticate()\n",
    "\n",
    "dataset_folder = \"dataset\"\n",
    "dataset_author = \"mkechinov\"\n",
    "dataset_name = \"ecommerce-behavior-data-from-multi-category-store\"\n",
    "dataset_full_name = f\"{dataset_author}/{dataset_name}\"\n",
    "os.makedirs(dataset_folder, exist_ok=True)\n",
    "\n",
    "print(\"dataset_list_files_cli\")\n",
    "print(kaggle.api.dataset_list_files_cli(dataset_full_name))\n",
    "print(\"\\ndataset_list_files\")\n",
    "print(kaggle.api.dataset_list_files(dataset_full_name).files)\n",
    "print(\"\\ndatasets_list_files\")\n",
    "for file in kaggle.api.datasets_list_files(dataset_author, dataset_name)['datasetFiles']:\n",
    "    pprint(file)\n",
    "\n",
    "# kaggle.api.dataset_download_files(dataset_name, path=dataset_folder, unzip=True, quiet=False)"
   ]
  },
  {
   "cell_type": "code",
   "execution_count": 2,
   "metadata": {},
   "outputs": [
    {
     "name": "stderr",
     "output_type": "stream",
     "text": [
      "Setting default log level to \"WARN\".\n",
      "To adjust logging level use sc.setLogLevel(newLevel). For SparkR, use setLogLevel(newLevel).\n",
      "24/08/13 08:55:54 WARN NativeCodeLoader: Unable to load native-hadoop library for your platform... using builtin-java classes where applicable\n",
      "24/08/13 08:55:54 WARN Utils: Service 'SparkUI' could not bind on port 4040. Attempting port 4041.\n",
      "[Stage 1:======================================================>  (41 + 2) / 43]\r"
     ]
    },
    {
     "name": "stdout",
     "output_type": "stream",
     "text": [
      "42448764\n",
      "+--------------------+----------+----------+-------------------+--------------------+--------+-------+---------+--------------------+\n",
      "|          event_time|event_type|product_id|        category_id|       category_code|   brand|  price|  user_id|        user_session|\n",
      "+--------------------+----------+----------+-------------------+--------------------+--------+-------+---------+--------------------+\n",
      "|2019-10-01 00:00:...|      view|  44600062|2103807459595387724|                NULL|shiseido|  35.79|541312140|72d76fde-8bb3-4e0...|\n",
      "|2019-10-01 00:00:...|      view|   3900821|2053013552326770905|appliances.enviro...|    aqua|  33.20|554748717|9333dfbd-b87a-470...|\n",
      "|2019-10-01 00:00:...|      view|  17200506|2053013559792632471|furniture.living_...|    NULL| 543.10|519107250|566511c2-e2e3-422...|\n",
      "|2019-10-01 00:00:...|      view|   1307067|2053013558920217191|  computers.notebook|  lenovo| 251.74|550050854|7c90fc70-0e80-459...|\n",
      "|2019-10-01 00:00:...|      view|   1004237|2053013555631882655|electronics.smart...|   apple|1081.98|535871217|c6bd7419-2748-4c5...|\n",
      "|2019-10-01 00:00:...|      view|   1480613|2053013561092866779|   computers.desktop|  pulser| 908.62|512742880|0d0d91c2-c9c2-4e8...|\n",
      "|2019-10-01 00:00:...|      view|  17300353|2053013553853497655|                NULL|   creed| 380.96|555447699|4fe811e9-91de-46d...|\n",
      "|2019-10-01 00:00:...|      view|  31500053|2053013558031024687|                NULL|luminarc|  41.16|550978835|6280d577-25c8-414...|\n",
      "|2019-10-01 00:00:...|      view|  28719074|2053013565480109009|  apparel.shoes.keds|   baden| 102.71|520571932|ac1cd4e5-a3ce-422...|\n",
      "|2019-10-01 00:00:...|      view|   1004545|2053013555631882655|electronics.smart...|  huawei| 566.01|537918940|406c46ed-90a4-478...|\n",
      "|2019-10-01 00:00:...|      view|   2900536|2053013554776244595|appliances.kitche...|elenberg|  51.46|555158050|b5bdd0b3-4ca2-4c5...|\n",
      "|2019-10-01 00:00:...|      view|   1005011|2053013555631882655|electronics.smart...| samsung| 900.64|530282093|50a293fb-5940-41b...|\n",
      "|2019-10-01 00:00:...|      view|   3900746|2053013552326770905|appliances.enviro...|   haier| 102.38|555444559|98b88fa0-d8fa-4b9...|\n",
      "|2019-10-01 00:00:...|      view|  44600062|2103807459595387724|                NULL|shiseido|  35.79|541312140|72d76fde-8bb3-4e0...|\n",
      "|2019-10-01 00:00:...|      view|  13500240|2053013557099889147|furniture.bedroom...|     brw|  93.18|555446365|7f0062d8-ead0-4e0...|\n",
      "|2019-10-01 00:00:...|      view|  23100006|2053013561638126333|                NULL|    NULL| 357.79|513642368|17566c27-0a8f-450...|\n",
      "|2019-10-01 00:00:...|      view|   1801995|2053013554415534427|electronics.video.tv|   haier| 193.03|537192226|e3151795-c355-4ef...|\n",
      "|2019-10-01 00:00:...|      view|  10900029|2053013555069845885|appliances.kitche...|   bosch|  58.95|519528062|901b9e3c-3f8f-414...|\n",
      "|2019-10-01 00:00:...|      view|   1306631|2053013558920217191|  computers.notebook|      hp| 580.89|550050854|7c90fc70-0e80-459...|\n",
      "|2019-10-01 00:00:...|      view|   1005135|2053013555631882655|electronics.smart...|   apple|1747.79|535871217|c6bd7419-2748-4c5...|\n",
      "+--------------------+----------+----------+-------------------+--------------------+--------+-------+---------+--------------------+\n",
      "only showing top 20 rows\n",
      "\n"
     ]
    },
    {
     "name": "stderr",
     "output_type": "stream",
     "text": [
      "                                                                                \r"
     ]
    }
   ],
   "source": [
    "# Import SparkSession\n",
    "import pandas as pd\n",
    "from pyspark.sql import SparkSession\n",
    "from pyspark.sql.types import DateType\n",
    "\n",
    "# Create SparkSession \n",
    "spark = SparkSession.builder \\\n",
    "      .master(\"local[*]\") \\\n",
    "      .appName(\"e_commerce_behavior\") \\\n",
    "      .getOrCreate() \n",
    "# spark = SparkSession.builder.appName(\"e_commerce_behavior\").config(\"spark.memory.offHeap.enabled\",\"true\").config(\"spark.memory.offHeap.size\",\"10g\").getOrCreate()\n",
    "# Create RDD from external Data source\n",
    "df_sept = spark.read.csv(f\"{dataset_folder}/2019-Oct.csv\",header=True,escape=\"\\\"\")\n",
    "df_sept_size = df_sept.count()\n",
    "print(df_sept_size)\n",
    "df_sept.show()"
   ]
  },
  {
   "cell_type": "code",
   "execution_count": 3,
   "metadata": {},
   "outputs": [
    {
     "name": "stdout",
     "output_type": "stream",
     "text": [
      "root\n",
      " |-- event_time: string (nullable = true)\n",
      " |-- event_type: string (nullable = true)\n",
      " |-- product_id: string (nullable = true)\n",
      " |-- category_id: string (nullable = true)\n",
      " |-- category_code: string (nullable = true)\n",
      " |-- brand: string (nullable = true)\n",
      " |-- price: string (nullable = true)\n",
      " |-- user_id: string (nullable = true)\n",
      " |-- user_session: string (nullable = true)\n",
      "\n"
     ]
    }
   ],
   "source": [
    "df_sept.printSchema()"
   ]
  },
  {
   "cell_type": "code",
   "execution_count": 4,
   "metadata": {},
   "outputs": [
    {
     "name": "stderr",
     "output_type": "stream",
     "text": [
      "[Stage 6:===================================================>     (61 + 7) / 68]\r"
     ]
    },
    {
     "name": "stdout",
     "output_type": "stream",
     "text": [
      "67501979\n",
      "+--------------------+----------+----------+-------------------+--------------------+--------+------+---------+--------------------+\n",
      "|          event_time|event_type|product_id|        category_id|       category_code|   brand| price|  user_id|        user_session|\n",
      "+--------------------+----------+----------+-------------------+--------------------+--------+------+---------+--------------------+\n",
      "|2019-11-01 00:00:...|      view|   1003461|2053013555631882655|electronics.smart...|  xiaomi|489.07|520088904|4d3b30da-a5e4-49d...|\n",
      "|2019-11-01 00:00:...|      view|   5000088|2053013566100866035|appliances.sewing...|  janome|293.65|530496790|8e5f4f83-366c-4f7...|\n",
      "|2019-11-01 00:00:...|      view|  17302664|2053013553853497655|                NULL|   creed| 28.31|561587266|755422e7-9040-477...|\n",
      "|2019-11-01 00:00:...|      view|   3601530|2053013563810775923|appliances.kitche...|      lg|712.87|518085591|3bfb58cd-7892-48c...|\n",
      "|2019-11-01 00:00:...|      view|   1004775|2053013555631882655|electronics.smart...|  xiaomi|183.27|558856683|313628f1-68b8-460...|\n",
      "|2019-11-01 00:00:...|      view|   1306894|2053013558920217191|  computers.notebook|      hp|360.09|520772685|816a59f3-f5ae-4cc...|\n",
      "|2019-11-01 00:00:...|      view|   1306421|2053013558920217191|  computers.notebook|      hp|514.56|514028527|df8184cc-3694-454...|\n",
      "|2019-11-01 00:00:...|      view|  15900065|2053013558190408249|                NULL| rondell| 30.86|518574284|5e6ef132-4d7c-473...|\n",
      "|2019-11-01 00:00:...|      view|  12708937|2053013553559896355|                NULL|michelin| 72.72|532364121|0a899268-31eb-46d...|\n",
      "|2019-11-01 00:00:...|      view|   1004258|2053013555631882655|electronics.smart...|   apple|732.07|532647354|d2d3d2c6-631d-489...|\n",
      "|2019-11-01 00:00:...|      view|  17200570|2053013559792632471|furniture.living_...|    NULL|437.33|518780843|aa806835-b14c-45a...|\n",
      "|2019-11-01 00:00:...|      view|   2701517|2053013563911439225|appliances.kitche...|    NULL|155.11|518427361|c89b0d96-247f-404...|\n",
      "|2019-11-01 00:00:...|      view|  16700260|2053013559901684381|furniture.kitchen...|    NULL| 31.64|566255262|173d7b72-1db7-463...|\n",
      "|2019-11-01 00:00:...|      view|  34600011|2060981320581906480|                NULL|    NULL| 20.54|512416379|4dfe2c67-e537-4dc...|\n",
      "|2019-11-01 00:00:...|      view|   4600658|2053013563944993659|appliances.kitche...| samsung|411.83|526595547|aab33a9a-29c3-4d5...|\n",
      "|2019-11-01 00:00:...|      view|  24900193|2053013562183385881|                NULL|    NULL|  1.09|512651494|f603c815-f51a-46f...|\n",
      "|2019-11-01 00:00:...|      view|  27400066|2053013563391345499|                NULL|    NULL|  8.55|551061950|3f6112f1-5695-4e8...|\n",
      "|2019-11-01 00:00:...|      view|   5100503|2053013553375346967|                NULL|  xiaomi| 22.68|520037415|f54fa96a-f3f2-43a...|\n",
      "|2019-11-01 00:00:...|      view|   1004566|2053013555631882655|electronics.smart...|  huawei|164.84|566265908|52c2c76c-b79e-479...|\n",
      "|2019-11-01 00:00:...|      view|   1307115|2053013558920217191|  computers.notebook|      hp|411.59|514028527|df8184cc-3694-454...|\n",
      "+--------------------+----------+----------+-------------------+--------------------+--------+------+---------+--------------------+\n",
      "only showing top 20 rows\n",
      "\n"
     ]
    },
    {
     "name": "stderr",
     "output_type": "stream",
     "text": [
      "                                                                                \r"
     ]
    }
   ],
   "source": [
    "df_nov = spark.read.csv(f\"{dataset_folder}/2019-Nov.csv\",header=True,escape=\"\\\"\")\n",
    "df_nov_size = df_nov.count()\n",
    "print(df_nov_size)\n",
    "df_nov.show()"
   ]
  },
  {
   "cell_type": "markdown",
   "metadata": {},
   "source": []
  },
  {
   "cell_type": "code",
   "execution_count": 5,
   "metadata": {},
   "outputs": [
    {
     "name": "stdout",
     "output_type": "stream",
     "text": [
      "root\n",
      " |-- event_time: string (nullable = true)\n",
      " |-- event_type: string (nullable = true)\n",
      " |-- product_id: string (nullable = true)\n",
      " |-- category_id: string (nullable = true)\n",
      " |-- category_code: string (nullable = true)\n",
      " |-- brand: string (nullable = true)\n",
      " |-- price: string (nullable = true)\n",
      " |-- user_id: string (nullable = true)\n",
      " |-- user_session: string (nullable = true)\n",
      "\n"
     ]
    }
   ],
   "source": [
    "df_nov.printSchema()"
   ]
  },
  {
   "cell_type": "code",
   "execution_count": 6,
   "metadata": {},
   "outputs": [
    {
     "name": "stderr",
     "output_type": "stream",
     "text": [
      "24/08/13 08:56:09 WARN GarbageCollectionMetrics: To enable non-built-in garbage collector(s) List(G1 Concurrent GC), users should configure it(them) to spark.eventLog.gcMetrics.youngGenerationGarbageCollectors or spark.eventLog.gcMetrics.oldGenerationGarbageCollectors\n",
      "[Stage 10:=================================================>    (102 + 9) / 111]\r"
     ]
    },
    {
     "name": "stdout",
     "output_type": "stream",
     "text": [
      "109950743\n",
      "root\n",
      " |-- event_time: string (nullable = true)\n",
      " |-- event_type: string (nullable = true)\n",
      " |-- product_id: string (nullable = true)\n",
      " |-- category_id: string (nullable = true)\n",
      " |-- category_code: string (nullable = true)\n",
      " |-- brand: string (nullable = true)\n",
      " |-- price: string (nullable = true)\n",
      " |-- user_id: string (nullable = true)\n",
      " |-- user_session: string (nullable = true)\n",
      "\n"
     ]
    },
    {
     "name": "stderr",
     "output_type": "stream",
     "text": [
      "                                                                                \r"
     ]
    }
   ],
   "source": [
    "df_merged = df_sept.union(df_nov)\n",
    "df_merged_size = df_merged.count()\n",
    "print(df_merged_size)\n",
    "assert df_merged_size == (df_sept_size + df_nov_size)\n",
    "df_merged.printSchema()"
   ]
  },
  {
   "cell_type": "code",
   "execution_count": 7,
   "metadata": {},
   "outputs": [
    {
     "name": "stdout",
     "output_type": "stream",
     "text": [
      "+--------------------+----------+----------+-------------------+--------------------+--------+-------+---------+--------------------+\n",
      "|          event_time|event_type|product_id|        category_id|       category_code|   brand|  price|  user_id|        user_session|\n",
      "+--------------------+----------+----------+-------------------+--------------------+--------+-------+---------+--------------------+\n",
      "|2019-10-01 00:00:...|      view|  44600062|2103807459595387724|                NULL|shiseido|  35.79|541312140|72d76fde-8bb3-4e0...|\n",
      "|2019-10-01 00:00:...|      view|   3900821|2053013552326770905|appliances.enviro...|    aqua|  33.20|554748717|9333dfbd-b87a-470...|\n",
      "|2019-10-01 00:00:...|      view|  17200506|2053013559792632471|furniture.living_...|    NULL| 543.10|519107250|566511c2-e2e3-422...|\n",
      "|2019-10-01 00:00:...|      view|   1307067|2053013558920217191|  computers.notebook|  lenovo| 251.74|550050854|7c90fc70-0e80-459...|\n",
      "|2019-10-01 00:00:...|      view|   1004237|2053013555631882655|electronics.smart...|   apple|1081.98|535871217|c6bd7419-2748-4c5...|\n",
      "|2019-10-01 00:00:...|      view|   1480613|2053013561092866779|   computers.desktop|  pulser| 908.62|512742880|0d0d91c2-c9c2-4e8...|\n",
      "|2019-10-01 00:00:...|      view|  17300353|2053013553853497655|                NULL|   creed| 380.96|555447699|4fe811e9-91de-46d...|\n",
      "|2019-10-01 00:00:...|      view|  31500053|2053013558031024687|                NULL|luminarc|  41.16|550978835|6280d577-25c8-414...|\n",
      "|2019-10-01 00:00:...|      view|  28719074|2053013565480109009|  apparel.shoes.keds|   baden| 102.71|520571932|ac1cd4e5-a3ce-422...|\n",
      "|2019-10-01 00:00:...|      view|   1004545|2053013555631882655|electronics.smart...|  huawei| 566.01|537918940|406c46ed-90a4-478...|\n",
      "|2019-10-01 00:00:...|      view|   2900536|2053013554776244595|appliances.kitche...|elenberg|  51.46|555158050|b5bdd0b3-4ca2-4c5...|\n",
      "|2019-10-01 00:00:...|      view|   1005011|2053013555631882655|electronics.smart...| samsung| 900.64|530282093|50a293fb-5940-41b...|\n",
      "|2019-10-01 00:00:...|      view|   3900746|2053013552326770905|appliances.enviro...|   haier| 102.38|555444559|98b88fa0-d8fa-4b9...|\n",
      "|2019-10-01 00:00:...|      view|  44600062|2103807459595387724|                NULL|shiseido|  35.79|541312140|72d76fde-8bb3-4e0...|\n",
      "|2019-10-01 00:00:...|      view|  13500240|2053013557099889147|furniture.bedroom...|     brw|  93.18|555446365|7f0062d8-ead0-4e0...|\n",
      "|2019-10-01 00:00:...|      view|  23100006|2053013561638126333|                NULL|    NULL| 357.79|513642368|17566c27-0a8f-450...|\n",
      "|2019-10-01 00:00:...|      view|   1801995|2053013554415534427|electronics.video.tv|   haier| 193.03|537192226|e3151795-c355-4ef...|\n",
      "|2019-10-01 00:00:...|      view|  10900029|2053013555069845885|appliances.kitche...|   bosch|  58.95|519528062|901b9e3c-3f8f-414...|\n",
      "|2019-10-01 00:00:...|      view|   1306631|2053013558920217191|  computers.notebook|      hp| 580.89|550050854|7c90fc70-0e80-459...|\n",
      "|2019-10-01 00:00:...|      view|   1005135|2053013555631882655|electronics.smart...|   apple|1747.79|535871217|c6bd7419-2748-4c5...|\n",
      "+--------------------+----------+----------+-------------------+--------------------+--------+-------+---------+--------------------+\n",
      "only showing top 20 rows\n",
      "\n"
     ]
    }
   ],
   "source": [
    "df_merged.show()"
   ]
  },
  {
   "cell_type": "code",
   "execution_count": 8,
   "metadata": {},
   "outputs": [
    {
     "name": "stdout",
     "output_type": "stream",
     "text": [
      "root\n",
      " |-- event_time: date (nullable = true)\n",
      " |-- event_type: string (nullable = true)\n",
      " |-- product_id: string (nullable = true)\n",
      " |-- category_id: string (nullable = true)\n",
      " |-- category_code: string (nullable = true)\n",
      " |-- brand: string (nullable = true)\n",
      " |-- price: double (nullable = true)\n",
      " |-- user_id: string (nullable = true)\n",
      " |-- user_session: string (nullable = true)\n",
      "\n"
     ]
    }
   ],
   "source": [
    "df_merged_1 = df_merged.withColumn(\"price\", df_merged.price.cast(\"double\"))\\\n",
    "    .withColumn(\"event_time\", df_merged.event_time.cast(DateType()))\n",
    "    # .withColumn(\"user_id\", df_merged.user_id.cast(\"int\"))\\\n",
    "    # .withColumn(\"category_id\", df_merged.category_id.cast(\"int\"))\\\n",
    "    # .withColumn(\"product_id\", df_merged.product_id.cast(\"int\"))\\\n",
    "df_merged_1.printSchema()"
   ]
  },
  {
   "cell_type": "code",
   "execution_count": 9,
   "metadata": {},
   "outputs": [
    {
     "name": "stdout",
     "output_type": "stream",
     "text": [
      "+----------+----------+----------+-------------------+-----------------------------------+--------+-------+---------+------------------------------------+\n",
      "|event_time|event_type|product_id|category_id        |category_code                      |brand   |price  |user_id  |user_session                        |\n",
      "+----------+----------+----------+-------------------+-----------------------------------+--------+-------+---------+------------------------------------+\n",
      "|2019-10-01|view      |44600062  |2103807459595387724|NULL                               |shiseido|35.79  |541312140|72d76fde-8bb3-4e00-8c23-a032dfed738c|\n",
      "|2019-10-01|view      |3900821   |2053013552326770905|appliances.environment.water_heater|aqua    |33.2   |554748717|9333dfbd-b87a-4708-9857-6336556b0fcc|\n",
      "|2019-10-01|view      |17200506  |2053013559792632471|furniture.living_room.sofa         |NULL    |543.1  |519107250|566511c2-e2e3-422b-b695-cf8e6e792ca8|\n",
      "|2019-10-01|view      |1307067   |2053013558920217191|computers.notebook                 |lenovo  |251.74 |550050854|7c90fc70-0e80-4590-96f3-13c02c18c713|\n",
      "|2019-10-01|view      |1004237   |2053013555631882655|electronics.smartphone             |apple   |1081.98|535871217|c6bd7419-2748-4c56-95b4-8cec9ff8b80d|\n",
      "|2019-10-01|view      |1480613   |2053013561092866779|computers.desktop                  |pulser  |908.62 |512742880|0d0d91c2-c9c2-4e81-90a5-86594dec0db9|\n",
      "|2019-10-01|view      |17300353  |2053013553853497655|NULL                               |creed   |380.96 |555447699|4fe811e9-91de-46da-90c3-bbd87ed3a65d|\n",
      "|2019-10-01|view      |31500053  |2053013558031024687|NULL                               |luminarc|41.16  |550978835|6280d577-25c8-4147-99a7-abc6048498d6|\n",
      "|2019-10-01|view      |28719074  |2053013565480109009|apparel.shoes.keds                 |baden   |102.71 |520571932|ac1cd4e5-a3ce-4224-a2d7-ff660a105880|\n",
      "|2019-10-01|view      |1004545   |2053013555631882655|electronics.smartphone             |huawei  |566.01 |537918940|406c46ed-90a4-4787-a43b-59a410c1a5fb|\n",
      "|2019-10-01|view      |2900536   |2053013554776244595|appliances.kitchen.microwave       |elenberg|51.46  |555158050|b5bdd0b3-4ca2-4c55-939e-9ce44bb50abd|\n",
      "|2019-10-01|view      |1005011   |2053013555631882655|electronics.smartphone             |samsung |900.64 |530282093|50a293fb-5940-41b2-baf3-17af0e812101|\n",
      "|2019-10-01|view      |3900746   |2053013552326770905|appliances.environment.water_heater|haier   |102.38 |555444559|98b88fa0-d8fa-4b9d-8a71-3dd403afab85|\n",
      "|2019-10-01|view      |44600062  |2103807459595387724|NULL                               |shiseido|35.79  |541312140|72d76fde-8bb3-4e00-8c23-a032dfed738c|\n",
      "|2019-10-01|view      |13500240  |2053013557099889147|furniture.bedroom.bed              |brw     |93.18  |555446365|7f0062d8-ead0-4e0a-96f6-43a0b79a2fc4|\n",
      "|2019-10-01|view      |23100006  |2053013561638126333|NULL                               |NULL    |357.79 |513642368|17566c27-0a8f-4506-9f30-c6a2ccbf583b|\n",
      "|2019-10-01|view      |1801995   |2053013554415534427|electronics.video.tv               |haier   |193.03 |537192226|e3151795-c355-4efa-acf6-e1fe1bebeee5|\n",
      "|2019-10-01|view      |10900029  |2053013555069845885|appliances.kitchen.mixer           |bosch   |58.95  |519528062|901b9e3c-3f8f-4147-a442-c25d5c5ed332|\n",
      "|2019-10-01|view      |1306631   |2053013558920217191|computers.notebook                 |hp      |580.89 |550050854|7c90fc70-0e80-4590-96f3-13c02c18c713|\n",
      "|2019-10-01|view      |1005135   |2053013555631882655|electronics.smartphone             |apple   |1747.79|535871217|c6bd7419-2748-4c56-95b4-8cec9ff8b80d|\n",
      "+----------+----------+----------+-------------------+-----------------------------------+--------+-------+---------+------------------------------------+\n",
      "only showing top 20 rows\n",
      "\n"
     ]
    }
   ],
   "source": [
    "df_merged_1.show(truncate=False)"
   ]
  },
  {
   "cell_type": "code",
   "execution_count": 10,
   "metadata": {},
   "outputs": [
    {
     "name": "stderr",
     "output_type": "stream",
     "text": [
      "[Stage 15:==================================================>   (104 + 7) / 111]\r"
     ]
    },
    {
     "name": "stdout",
     "output_type": "stream",
     "text": [
      "+----------+\n",
      "|event_type|\n",
      "+----------+\n",
      "|  purchase|\n",
      "|      view|\n",
      "|      cart|\n",
      "+----------+\n",
      "\n"
     ]
    },
    {
     "name": "stderr",
     "output_type": "stream",
     "text": [
      "                                                                                \r"
     ]
    }
   ],
   "source": [
    "df_merged_1.select(\"event_type\").distinct().show()"
   ]
  },
  {
   "cell_type": "code",
   "execution_count": 11,
   "metadata": {},
   "outputs": [
    {
     "name": "stderr",
     "output_type": "stream",
     "text": [
      "[Stage 18:===================================================>  (106 + 5) / 111]\r"
     ]
    },
    {
     "name": "stdout",
     "output_type": "stream",
     "text": [
      "+-------------------+\n",
      "|        category_id|\n",
      "+-------------------+\n",
      "|2085718636156158307|\n",
      "|2053013556252639687|\n",
      "|2134905045328592909|\n",
      "|2137134549706998477|\n",
      "|2152167773222993940|\n",
      "|2053013561696846593|\n",
      "|2053013562250494749|\n",
      "|2053013555413778833|\n",
      "|2053013552888807671|\n",
      "|2075962341790319330|\n",
      "|2079713983761220055|\n",
      "|2070004998778912979|\n",
      "|2053013552603594983|\n",
      "|2100064858975240628|\n",
      "|2141229835995840847|\n",
      "|2053013566587404305|\n",
      "|2053013564968403895|\n",
      "|2053013558190408249|\n",
      "|2053013553140465927|\n",
      "|2053013555657048481|\n",
      "+-------------------+\n",
      "only showing top 20 rows\n",
      "\n"
     ]
    },
    {
     "name": "stderr",
     "output_type": "stream",
     "text": [
      "                                                                                \r"
     ]
    }
   ],
   "source": [
    "df_merged_1.select(\"category_id\").distinct().show()"
   ]
  },
  {
   "cell_type": "code",
   "execution_count": 12,
   "metadata": {},
   "outputs": [
    {
     "name": "stderr",
     "output_type": "stream",
     "text": [
      "[Stage 21:===================================================>  (105 + 6) / 111]\r"
     ]
    },
    {
     "name": "stdout",
     "output_type": "stream",
     "text": [
      "+--------+--------+\n",
      "|   brand|   count|\n",
      "+--------+--------+\n",
      "|    NULL|15331243|\n",
      "| samsung|13172020|\n",
      "|   apple|10381933|\n",
      "|  xiaomi| 7721825|\n",
      "|  huawei| 2521331|\n",
      "| lucente| 1840936|\n",
      "|      lg| 1659394|\n",
      "|   bosch| 1532149|\n",
      "|    oppo| 1294585|\n",
      "|    sony| 1255101|\n",
      "|    acer| 1127129|\n",
      "|  lenovo| 1065493|\n",
      "|cordiant| 1039948|\n",
      "| respect| 1036498|\n",
      "|   artel| 1002484|\n",
      "|      hp|  820594|\n",
      "| redmond|  741768|\n",
      "| philips|  738854|\n",
      "| indesit|  718964|\n",
      "|dauscher|  706026|\n",
      "+--------+--------+\n",
      "only showing top 20 rows\n",
      "\n"
     ]
    },
    {
     "name": "stderr",
     "output_type": "stream",
     "text": [
      "                                                                                \r"
     ]
    }
   ],
   "source": [
    "df_merged_1.groupBy(\"brand\").count().sort(\"count\", ascending=False).show()"
   ]
  },
  {
   "cell_type": "code",
   "execution_count": 13,
   "metadata": {},
   "outputs": [
    {
     "name": "stderr",
     "output_type": "stream",
     "text": [
      "24/08/13 08:57:00 WARN SparkStringUtils: Truncated the string representation of a plan since it was too large. This behavior can be adjusted by setting 'spark.sql.debug.maxToStringFields'.\n",
      "[Stage 26:>                                                         (0 + 1) / 1]\r"
     ]
    },
    {
     "name": "stdout",
     "output_type": "stream",
     "text": [
      "+-------+----------+-----------+--------------------+-------------------+--------+---------+------------+--------------------+\n",
      "|summary|event_type| product_id|         category_id|      category_code|   brand|    price|     user_id|        user_session|\n",
      "+-------+----------+-----------+--------------------+-------------------+--------+---------+------------+--------------------+\n",
      "|  count| 109950743|  109950743|           109950743|           74536963|94619500|109950743|   109950743|           109950731|\n",
      "|    min|      cart|  100000000| 2053013552226107603|    accessories.bag|  a-case|      0.0|   100963605|00000042-3e3f-42f...|\n",
      "|    25%|      NULL|  1005256.0|2.053013555355058...|               NULL|     NaN|    67.96|5.16262445E8|                NULL|\n",
      "|    75%|      NULL|1.7200513E7|2.053013563651392...|               NULL|Infinity|   360.11|5.56330356E8|                NULL|\n",
      "|    max|      view|    9900463| 2187707861038006932|stationery.cartrige|   zyxel|  2574.07|    97129396|fffffde2-4522-4b4...|\n",
      "+-------+----------+-----------+--------------------+-------------------+--------+---------+------------+--------------------+\n",
      "\n"
     ]
    },
    {
     "name": "stderr",
     "output_type": "stream",
     "text": [
      "                                                                                \r"
     ]
    }
   ],
   "source": [
    "df_merged_1.summary(\"count\", \"min\", \"25%\", \"75%\", \"max\").show()"
   ]
  }
 ],
 "metadata": {
  "kernelspec": {
   "display_name": "data_analysis",
   "language": "python",
   "name": "python3"
  },
  "language_info": {
   "codemirror_mode": {
    "name": "ipython",
    "version": 3
   },
   "file_extension": ".py",
   "mimetype": "text/x-python",
   "name": "python",
   "nbconvert_exporter": "python",
   "pygments_lexer": "ipython3",
   "version": "3.12.5"
  }
 },
 "nbformat": 4,
 "nbformat_minor": 2
}
